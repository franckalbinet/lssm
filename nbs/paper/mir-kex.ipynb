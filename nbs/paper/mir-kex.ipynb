{
 "cells": [
  {
   "cell_type": "markdown",
   "metadata": {},
   "source": [
    "# MIR LSSM for Kex\n",
    "\n",
    "> Ensembling Resnet, ... to predict exchangeable potassium in soil"
   ]
  },
  {
   "cell_type": "code",
   "execution_count": 3,
   "metadata": {},
   "outputs": [
    {
     "name": "stdout",
     "output_type": "stream",
     "text": [
      "The autoreload extension is already loaded. To reload it, use:\n",
      "  %reload_ext autoreload\n"
     ]
    }
   ],
   "source": [
    "%load_ext autoreload\n",
    "%autoreload 2"
   ]
  },
  {
   "cell_type": "markdown",
   "metadata": {},
   "source": [
    "## Imports"
   ]
  },
  {
   "cell_type": "code",
   "execution_count": 19,
   "metadata": {},
   "outputs": [],
   "source": [
    "from pathlib import Path\n",
    "from functools import partial\n",
    "\n",
    "from sklearn.pipeline import Pipeline\n",
    "from sklearn.model_selection import train_test_split\n",
    "\n",
    "import timm\n",
    "from torcheval.metrics import R2Score\n",
    "from torch.optim import lr_scheduler\n",
    "from torch import optim, nn\n",
    "\n",
    "from lssm.loading import load_ossl\n",
    "from lssm.preprocessing import ToAbsorbance, ContinuumRemoval, Log1p, SNV\n",
    "from lssm.dataloaders import SpectralDataset, get_dls\n",
    "from lssm.callbacks import (MetricsCB, BatchSchedCB, BatchTransformCB,\n",
    "                            DeviceCB, TrainCB, ProgressCB)\n",
    "from lssm.transforms import GADFTfm, _resizeTfm, StatsTfm\n",
    "from lssm.learner import Learner\n"
   ]
  },
  {
   "cell_type": "markdown",
   "metadata": {},
   "source": [
    "## Data loading & preprocessing"
   ]
  },
  {
   "cell_type": "code",
   "execution_count": 58,
   "metadata": {},
   "outputs": [
    {
     "name": "stdout",
     "output_type": "stream",
     "text": [
      "Reading & selecting data ...\n"
     ]
    }
   ],
   "source": [
    "analytes = 'k.ext_usda.a725_cmolc.kg'\n",
    "spectra_type = 'mir'\n",
    "\n",
    "data = load_ossl(analytes, spectra_type)\n",
    "X, y, X_names, smp_idx, ds_name, ds_label = data\n",
    "\n",
    "X = Pipeline([('to_abs', ToAbsorbance()),\n",
    "              ('snv', SNV())]).fit_transform(X)\n",
    "            #   ('cr', ContinuumRemoval(X_names))]).fit_transform(X)\n",
    "             \n",
    "y = Log1p().fit_transform(y)\n"
   ]
  },
  {
   "cell_type": "code",
   "execution_count": 59,
   "metadata": {},
   "outputs": [],
   "source": [
    "# Train/valid split\n",
    "n_smp = None  # For demo. purpose\n",
    "X_train, X_valid, y_train, y_valid = train_test_split(X[:n_smp, :], y[:n_smp],\n",
    "                                                      test_size=0.1,\n",
    "                                                      stratify=ds_name[:n_smp],\n",
    "                                                      random_state=41)\n",
    "\n",
    "# Get PyTorch datasets\n",
    "train_ds, valid_ds = [SpectralDataset(X, y, )\n",
    "                      for X, y, in [(X_train, y_train), (X_valid, y_valid)]]"
   ]
  },
  {
   "cell_type": "code",
   "execution_count": 61,
   "metadata": {},
   "outputs": [],
   "source": [
    "# Then PyTorch dataloaders\n",
    "dls = get_dls(train_ds, valid_ds, bs=1)\n"
   ]
  },
  {
   "cell_type": "code",
   "execution_count": 62,
   "metadata": {},
   "outputs": [],
   "source": [
    "import torch\n",
    "for x, y in dls.train:\n",
    "    if torch.isnan(x).any().item():\n",
    "        idx_nan = torch.where(torch.isnan(x.squeeze()))[0]\n",
    "        print(x.squeeze()[idx_nan-5:idx_nan+5])"
   ]
  },
  {
   "cell_type": "code",
   "execution_count": 53,
   "metadata": {},
   "outputs": [
    {
     "data": {
      "text/plain": [
       "tensor(-0.8138)"
      ]
     },
     "execution_count": 53,
     "metadata": {},
     "output_type": "execute_result"
    }
   ],
   "source": [
    "torch.randn(10)[torch.tensor(0)]"
   ]
  },
  {
   "cell_type": "code",
   "execution_count": null,
   "metadata": {},
   "outputs": [],
   "source": []
  },
  {
   "cell_type": "code",
   "execution_count": 34,
   "metadata": {},
   "outputs": [
    {
     "ename": "ValueError",
     "evalue": "too many values to unpack (expected 2)",
     "output_type": "error",
     "traceback": [
      "\u001b[0;31m---------------------------------------------------------------------------\u001b[0m",
      "\u001b[0;31mValueError\u001b[0m                                Traceback (most recent call last)",
      "\u001b[1;32m/Users/franckalbinet/pro/research/lssm/nbs/paper/mir-kex.ipynb Cell 10\u001b[0m line \u001b[0;36m1\n\u001b[0;32m----> <a href='vscode-notebook-cell:/Users/franckalbinet/pro/research/lssm/nbs/paper/mir-kex.ipynb#X21sZmlsZQ%3D%3D?line=0'>1</a>\u001b[0m \u001b[39mfor\u001b[39;00m train, valid \u001b[39min\u001b[39;00m dls:\n\u001b[1;32m      <a href='vscode-notebook-cell:/Users/franckalbinet/pro/research/lssm/nbs/paper/mir-kex.ipynb#X21sZmlsZQ%3D%3D?line=1'>2</a>\u001b[0m     \u001b[39mprint\u001b[39m(train\u001b[39m.\u001b[39mshape)\n",
      "\u001b[0;31mValueError\u001b[0m: too many values to unpack (expected 2)"
     ]
    }
   ],
   "source": [
    "for train, valid in dls:\n",
    "    print(train.shape)"
   ]
  },
  {
   "cell_type": "markdown",
   "metadata": {},
   "source": [
    "## DL model ensembling"
   ]
  },
  {
   "cell_type": "code",
   "execution_count": 15,
   "metadata": {},
   "outputs": [],
   "source": [
    "model_name = 'resnet18'\n",
    "model = timm.create_model(model_name, pretrained=True,\n",
    "                          in_chans=1, num_classes=1)\n",
    "\n",
    "# Define modelling pipeline & Train\n",
    "epochs = 3\n",
    "lr = 5e-3\n",
    "\n",
    "metrics = MetricsCB(r2=R2Score())\n",
    "\n",
    "tmax = epochs * len(dls.train)\n",
    "\n",
    "# xtra = [BatchSchedCB(sched)]\n",
    "\n",
    "gadf = BatchTransformCB(GADFTfm())\n",
    "resize = BatchTransformCB(_resizeTfm)\n",
    "stats = BatchTransformCB(StatsTfm(model.default_cfg))\n",
    "\n",
    "cbs = [DeviceCB(), gadf, resize, stats, TrainCB(),\n",
    "       metrics, ProgressCB(plot=False)]\n",
    "\n",
    "learn = Learner(model, dls, nn.MSELoss(), lr=lr,\n",
    "                cbs=cbs, opt_func=optim.AdamW)\n"
   ]
  },
  {
   "cell_type": "code",
   "execution_count": 16,
   "metadata": {},
   "outputs": [
    {
     "data": {
      "text/html": [
       "\n",
       "<style>\n",
       "    /* Turns off some styling */\n",
       "    progress {\n",
       "        /* gets rid of default border in Firefox and Opera. */\n",
       "        border: none;\n",
       "        /* Needs to be in here for Safari polyfill so background images work as expected. */\n",
       "        background-size: auto;\n",
       "    }\n",
       "    progress:not([value]), progress:not([value])::-webkit-progress-bar {\n",
       "        background: repeating-linear-gradient(45deg, #7e7e7e, #7e7e7e 10px, #5c5c5c 10px, #5c5c5c 20px);\n",
       "    }\n",
       "    .progress-bar-interrupted, .progress-bar-interrupted::-webkit-progress-bar {\n",
       "        background: #F44336;\n",
       "    }\n",
       "</style>\n"
      ],
      "text/plain": [
       "<IPython.core.display.HTML object>"
      ]
     },
     "metadata": {},
     "output_type": "display_data"
    },
    {
     "data": {
      "text/html": [
       "\n",
       "    <div>\n",
       "      <progress value='0' class='' max='10' style='width:300px; height:20px; vertical-align: middle;'></progress>\n",
       "      0.00% [0/10 00:00&lt;?]\n",
       "    </div>\n",
       "    \n",
       "\n",
       "\n",
       "    <div>\n",
       "      <progress value='36' class='' max='812' style='width:300px; height:20px; vertical-align: middle;'></progress>\n",
       "      4.43% [36/812 00:32&lt;11:45 0.122]\n",
       "    </div>\n",
       "    "
      ],
      "text/plain": [
       "<IPython.core.display.HTML object>"
      ]
     },
     "metadata": {},
     "output_type": "display_data"
    },
    {
     "data": {
      "image/png": "[encoded data removed]",
      "text/plain": [
       "<Figure size 640x480 with 1 Axes>"
      ]
     },
     "metadata": {},
     "output_type": "display_data"
    }
   ],
   "source": [
    "learn.lr_find()"
   ]
  },
  {
   "cell_type": "code",
   "execution_count": 17,
   "metadata": {},
   "outputs": [],
   "source": [
    "model_name = 'resnet18'\n",
    "model = timm.create_model(model_name, pretrained=True,\n",
    "                          in_chans=1, num_classes=1)\n",
    "\n",
    "# Define modelling pipeline & Train\n",
    "epochs = 3\n",
    "lr = 2e-4\n",
    "\n",
    "metrics = MetricsCB(r2=R2Score())\n",
    "\n",
    "tmax = epochs * len(dls.train)\n",
    "sched = partial(lr_scheduler.OneCycleLR, max_lr=lr, total_steps=tmax)\n",
    "\n",
    "xtra = [BatchSchedCB(sched)]\n",
    "\n",
    "gadf = BatchTransformCB(GADFTfm())\n",
    "resize = BatchTransformCB(_resizeTfm)\n",
    "stats = BatchTransformCB(StatsTfm(model.default_cfg))\n",
    "\n",
    "cbs = [DeviceCB(), gadf, resize, stats, TrainCB(),\n",
    "       metrics, ProgressCB(plot=False)]\n",
    "\n",
    "learn = Learner(model, dls, nn.MSELoss(), lr=lr,\n",
    "                cbs=cbs+xtra, opt_func=optim.AdamW)\n"
   ]
  },
  {
   "cell_type": "code",
   "execution_count": 18,
   "metadata": {},
   "outputs": [
    {
     "data": {
      "text/html": [
       "\n",
       "<style>\n",
       "    /* Turns off some styling */\n",
       "    progress {\n",
       "        /* gets rid of default border in Firefox and Opera. */\n",
       "        border: none;\n",
       "        /* Needs to be in here for Safari polyfill so background images work as expected. */\n",
       "        background-size: auto;\n",
       "    }\n",
       "    progress:not([value]), progress:not([value])::-webkit-progress-bar {\n",
       "        background: repeating-linear-gradient(45deg, #7e7e7e, #7e7e7e 10px, #5c5c5c 10px, #5c5c5c 20px);\n",
       "    }\n",
       "    .progress-bar-interrupted, .progress-bar-interrupted::-webkit-progress-bar {\n",
       "        background: #F44336;\n",
       "    }\n",
       "</style>\n"
      ],
      "text/plain": [
       "<IPython.core.display.HTML object>"
      ]
     },
     "metadata": {},
     "output_type": "display_data"
    },
    {
     "data": {
      "text/html": [
       "\n",
       "    <div>\n",
       "      <progress value='0' class='' max='3' style='width:300px; height:20px; vertical-align: middle;'></progress>\n",
       "      0.00% [0/3 00:00&lt;?]\n",
       "    </div>\n",
       "    \n",
       "\n",
       "\n",
       "    <div>\n",
       "      <progress value='63' class='' max='812' style='width:300px; height:20px; vertical-align: middle;'></progress>\n",
       "      7.76% [63/812 00:56&lt;11:10 0.138]\n",
       "    </div>\n",
       "    "
      ],
      "text/plain": [
       "<IPython.core.display.HTML object>"
      ]
     },
     "metadata": {},
     "output_type": "display_data"
    },
    {
     "ename": "KeyboardInterrupt",
     "evalue": "",
     "output_type": "error",
     "traceback": [
      "\u001b[0;31m---------------------------------------------------------------------------\u001b[0m",
      "\u001b[0;31mKeyboardInterrupt\u001b[0m                         Traceback (most recent call last)",
      "\u001b[1;32m/Users/franckalbinet/pro/research/lssm/nbs/paper/mir-kex.ipynb Cell 13\u001b[0m line \u001b[0;36m1\n\u001b[0;32m----> <a href='vscode-notebook-cell:/Users/franckalbinet/pro/research/lssm/nbs/paper/mir-kex.ipynb#X12sZmlsZQ%3D%3D?line=0'>1</a>\u001b[0m learn\u001b[39m.\u001b[39;49mfit(epochs)\n",
      "File \u001b[0;32m~/pro/research/lssm/lssm/learner.py:76\u001b[0m, in \u001b[0;36mLearner.fit\u001b[0;34m(self, n_epochs, train, valid, cbs, lr)\u001b[0m\n\u001b[1;32m     74\u001b[0m     \u001b[39mif\u001b[39;00m lr \u001b[39mis\u001b[39;00m \u001b[39mNone\u001b[39;00m: lr \u001b[39m=\u001b[39m \u001b[39mself\u001b[39m\u001b[39m.\u001b[39mlr\n\u001b[1;32m     75\u001b[0m     \u001b[39mif\u001b[39;00m \u001b[39mself\u001b[39m\u001b[39m.\u001b[39mopt_func: \u001b[39mself\u001b[39m\u001b[39m.\u001b[39mopt \u001b[39m=\u001b[39m \u001b[39mself\u001b[39m\u001b[39m.\u001b[39mopt_func(\u001b[39mself\u001b[39m\u001b[39m.\u001b[39mmodel\u001b[39m.\u001b[39mparameters(), lr)\n\u001b[0;32m---> 76\u001b[0m     \u001b[39mself\u001b[39;49m\u001b[39m.\u001b[39;49m_fit(train, valid)\n\u001b[1;32m     77\u001b[0m \u001b[39mfinally\u001b[39;00m:\n\u001b[1;32m     78\u001b[0m     \u001b[39mfor\u001b[39;00m cb \u001b[39min\u001b[39;00m cbs: \u001b[39mself\u001b[39m\u001b[39m.\u001b[39mcbs\u001b[39m.\u001b[39mremove(cb)\n",
      "File \u001b[0;32m~/pro/research/lssm/lssm/learner.py:26\u001b[0m, in \u001b[0;36mwith_cbs.__call__.<locals>._f\u001b[0;34m(o, *args, **kwargs)\u001b[0m\n\u001b[1;32m     24\u001b[0m \u001b[39mtry\u001b[39;00m:\n\u001b[1;32m     25\u001b[0m     o\u001b[39m.\u001b[39mcallback(\u001b[39mf\u001b[39m\u001b[39m'\u001b[39m\u001b[39mbefore_\u001b[39m\u001b[39m{\u001b[39;00m\u001b[39mself\u001b[39m\u001b[39m.\u001b[39mnm\u001b[39m}\u001b[39;00m\u001b[39m'\u001b[39m)\n\u001b[0;32m---> 26\u001b[0m     f(o, \u001b[39m*\u001b[39;49margs, \u001b[39m*\u001b[39;49m\u001b[39m*\u001b[39;49mkwargs)\n\u001b[1;32m     27\u001b[0m     o\u001b[39m.\u001b[39mcallback(\u001b[39mf\u001b[39m\u001b[39m'\u001b[39m\u001b[39mafter_\u001b[39m\u001b[39m{\u001b[39;00m\u001b[39mself\u001b[39m\u001b[39m.\u001b[39mnm\u001b[39m}\u001b[39;00m\u001b[39m'\u001b[39m)\n\u001b[1;32m     28\u001b[0m \u001b[39mexcept\u001b[39;00m \u001b[39mglobals\u001b[39m()[\u001b[39mf\u001b[39m\u001b[39m'\u001b[39m\u001b[39mCancel\u001b[39m\u001b[39m{\u001b[39;00m\u001b[39mself\u001b[39m\u001b[39m.\u001b[39mnm\u001b[39m.\u001b[39mtitle()\u001b[39m}\u001b[39;00m\u001b[39mException\u001b[39m\u001b[39m'\u001b[39m]: \u001b[39mpass\u001b[39;00m\n",
      "File \u001b[0;32m~/pro/research/lssm/lssm/learner.py:64\u001b[0m, in \u001b[0;36mLearner._fit\u001b[0;34m(self, train, valid)\u001b[0m\n\u001b[1;32m     61\u001b[0m \u001b[39m@with_cbs\u001b[39m(\u001b[39m'\u001b[39m\u001b[39mfit\u001b[39m\u001b[39m'\u001b[39m)\n\u001b[1;32m     62\u001b[0m \u001b[39mdef\u001b[39;00m \u001b[39m_fit\u001b[39m(\u001b[39mself\u001b[39m, train, valid):\n\u001b[1;32m     63\u001b[0m     \u001b[39mfor\u001b[39;00m \u001b[39mself\u001b[39m\u001b[39m.\u001b[39mepoch \u001b[39min\u001b[39;00m \u001b[39mself\u001b[39m\u001b[39m.\u001b[39mepochs:\n\u001b[0;32m---> 64\u001b[0m         \u001b[39mif\u001b[39;00m train: \u001b[39mself\u001b[39;49m\u001b[39m.\u001b[39;49mone_epoch(\u001b[39mTrue\u001b[39;49;00m)\n\u001b[1;32m     65\u001b[0m         \u001b[39mif\u001b[39;00m valid: torch\u001b[39m.\u001b[39mno_grad()(\u001b[39mself\u001b[39m\u001b[39m.\u001b[39mone_epoch)(\u001b[39mFalse\u001b[39;00m)\n",
      "File \u001b[0;32m~/pro/research/lssm/lssm/learner.py:59\u001b[0m, in \u001b[0;36mLearner.one_epoch\u001b[0;34m(self, training)\u001b[0m\n\u001b[1;32m     57\u001b[0m \u001b[39mself\u001b[39m\u001b[39m.\u001b[39mmodel\u001b[39m.\u001b[39mtrain(training)\n\u001b[1;32m     58\u001b[0m \u001b[39mself\u001b[39m\u001b[39m.\u001b[39mdl \u001b[39m=\u001b[39m \u001b[39mself\u001b[39m\u001b[39m.\u001b[39mdls\u001b[39m.\u001b[39mtrain \u001b[39mif\u001b[39;00m training \u001b[39melse\u001b[39;00m \u001b[39mself\u001b[39m\u001b[39m.\u001b[39mdls\u001b[39m.\u001b[39mvalid\n\u001b[0;32m---> 59\u001b[0m \u001b[39mself\u001b[39;49m\u001b[39m.\u001b[39;49m_one_epoch()\n",
      "File \u001b[0;32m~/pro/research/lssm/lssm/learner.py:26\u001b[0m, in \u001b[0;36mwith_cbs.__call__.<locals>._f\u001b[0;34m(o, *args, **kwargs)\u001b[0m\n\u001b[1;32m     24\u001b[0m \u001b[39mtry\u001b[39;00m:\n\u001b[1;32m     25\u001b[0m     o\u001b[39m.\u001b[39mcallback(\u001b[39mf\u001b[39m\u001b[39m'\u001b[39m\u001b[39mbefore_\u001b[39m\u001b[39m{\u001b[39;00m\u001b[39mself\u001b[39m\u001b[39m.\u001b[39mnm\u001b[39m}\u001b[39;00m\u001b[39m'\u001b[39m)\n\u001b[0;32m---> 26\u001b[0m     f(o, \u001b[39m*\u001b[39;49margs, \u001b[39m*\u001b[39;49m\u001b[39m*\u001b[39;49mkwargs)\n\u001b[1;32m     27\u001b[0m     o\u001b[39m.\u001b[39mcallback(\u001b[39mf\u001b[39m\u001b[39m'\u001b[39m\u001b[39mafter_\u001b[39m\u001b[39m{\u001b[39;00m\u001b[39mself\u001b[39m\u001b[39m.\u001b[39mnm\u001b[39m}\u001b[39;00m\u001b[39m'\u001b[39m)\n\u001b[1;32m     28\u001b[0m \u001b[39mexcept\u001b[39;00m \u001b[39mglobals\u001b[39m()[\u001b[39mf\u001b[39m\u001b[39m'\u001b[39m\u001b[39mCancel\u001b[39m\u001b[39m{\u001b[39;00m\u001b[39mself\u001b[39m\u001b[39m.\u001b[39mnm\u001b[39m.\u001b[39mtitle()\u001b[39m}\u001b[39;00m\u001b[39mException\u001b[39m\u001b[39m'\u001b[39m]: \u001b[39mpass\u001b[39;00m\n",
      "File \u001b[0;32m~/pro/research/lssm/lssm/learner.py:54\u001b[0m, in \u001b[0;36mLearner._one_epoch\u001b[0;34m(self)\u001b[0m\n\u001b[1;32m     51\u001b[0m \u001b[39m@with_cbs\u001b[39m(\u001b[39m'\u001b[39m\u001b[39mepoch\u001b[39m\u001b[39m'\u001b[39m)\n\u001b[1;32m     52\u001b[0m \u001b[39mdef\u001b[39;00m \u001b[39m_one_epoch\u001b[39m(\u001b[39mself\u001b[39m):\n\u001b[1;32m     53\u001b[0m     \u001b[39mfor\u001b[39;00m \u001b[39mself\u001b[39m\u001b[39m.\u001b[39miter,\u001b[39mself\u001b[39m\u001b[39m.\u001b[39mbatch \u001b[39min\u001b[39;00m \u001b[39menumerate\u001b[39m(\u001b[39mself\u001b[39m\u001b[39m.\u001b[39mdl):\n\u001b[0;32m---> 54\u001b[0m         \u001b[39mself\u001b[39;49m\u001b[39m.\u001b[39;49m_one_batch()\n",
      "File \u001b[0;32m~/pro/research/lssm/lssm/learner.py:27\u001b[0m, in \u001b[0;36mwith_cbs.__call__.<locals>._f\u001b[0;34m(o, *args, **kwargs)\u001b[0m\n\u001b[1;32m     25\u001b[0m     o\u001b[39m.\u001b[39mcallback(\u001b[39mf\u001b[39m\u001b[39m'\u001b[39m\u001b[39mbefore_\u001b[39m\u001b[39m{\u001b[39;00m\u001b[39mself\u001b[39m\u001b[39m.\u001b[39mnm\u001b[39m}\u001b[39;00m\u001b[39m'\u001b[39m)\n\u001b[1;32m     26\u001b[0m     f(o, \u001b[39m*\u001b[39margs, \u001b[39m*\u001b[39m\u001b[39m*\u001b[39mkwargs)\n\u001b[0;32m---> 27\u001b[0m     o\u001b[39m.\u001b[39;49mcallback(\u001b[39mf\u001b[39;49m\u001b[39m'\u001b[39;49m\u001b[39mafter_\u001b[39;49m\u001b[39m{\u001b[39;49;00m\u001b[39mself\u001b[39;49m\u001b[39m.\u001b[39;49mnm\u001b[39m}\u001b[39;49;00m\u001b[39m'\u001b[39;49m)\n\u001b[1;32m     28\u001b[0m \u001b[39mexcept\u001b[39;00m \u001b[39mglobals\u001b[39m()[\u001b[39mf\u001b[39m\u001b[39m'\u001b[39m\u001b[39mCancel\u001b[39m\u001b[39m{\u001b[39;00m\u001b[39mself\u001b[39m\u001b[39m.\u001b[39mnm\u001b[39m.\u001b[39mtitle()\u001b[39m}\u001b[39;00m\u001b[39mException\u001b[39m\u001b[39m'\u001b[39m]: \u001b[39mpass\u001b[39;00m\n\u001b[1;32m     29\u001b[0m \u001b[39mfinally\u001b[39;00m: o\u001b[39m.\u001b[39mcallback(\u001b[39mf\u001b[39m\u001b[39m'\u001b[39m\u001b[39mcleanup_\u001b[39m\u001b[39m{\u001b[39;00m\u001b[39mself\u001b[39m\u001b[39m.\u001b[39mnm\u001b[39m}\u001b[39;00m\u001b[39m'\u001b[39m)\n",
      "File \u001b[0;32m~/pro/research/lssm/lssm/learner.py:84\u001b[0m, in \u001b[0;36mLearner.callback\u001b[0;34m(self, method_nm)\u001b[0m\n\u001b[0;32m---> 84\u001b[0m \u001b[39mdef\u001b[39;00m \u001b[39mcallback\u001b[39m(\u001b[39mself\u001b[39m, method_nm): run_cbs(\u001b[39mself\u001b[39;49m\u001b[39m.\u001b[39;49mcbs, method_nm, \u001b[39mself\u001b[39;49m)\n",
      "File \u001b[0;32m~/pro/research/lssm/lssm/callbacks.py:45\u001b[0m, in \u001b[0;36mrun_cbs\u001b[0;34m(cbs, method_nm, learn)\u001b[0m\n\u001b[1;32m     43\u001b[0m \u001b[39mfor\u001b[39;00m cb \u001b[39min\u001b[39;00m \u001b[39msorted\u001b[39m(cbs, key\u001b[39m=\u001b[39mattrgetter(\u001b[39m'\u001b[39m\u001b[39morder\u001b[39m\u001b[39m'\u001b[39m)):\n\u001b[1;32m     44\u001b[0m     method \u001b[39m=\u001b[39m \u001b[39mgetattr\u001b[39m(cb, method_nm, \u001b[39mNone\u001b[39;00m)\n\u001b[0;32m---> 45\u001b[0m     \u001b[39mif\u001b[39;00m method \u001b[39mis\u001b[39;00m \u001b[39mnot\u001b[39;00m \u001b[39mNone\u001b[39;00m: method(learn)\n",
      "File \u001b[0;32m~/pro/research/lssm/lssm/callbacks.py:92\u001b[0m, in \u001b[0;36mMetricsCB.after_batch\u001b[0;34m(self, learn)\u001b[0m\n\u001b[1;32m     91\u001b[0m \u001b[39mdef\u001b[39;00m \u001b[39mafter_batch\u001b[39m(\u001b[39mself\u001b[39m, learn):\n\u001b[0;32m---> 92\u001b[0m     x,y,\u001b[39m*\u001b[39m_ \u001b[39m=\u001b[39m to_cpu(learn\u001b[39m.\u001b[39;49mbatch)\n\u001b[1;32m     93\u001b[0m     \u001b[39mfor\u001b[39;00m m \u001b[39min\u001b[39;00m \u001b[39mself\u001b[39m\u001b[39m.\u001b[39mmetrics\u001b[39m.\u001b[39mvalues(): m\u001b[39m.\u001b[39mupdate(to_cpu(learn\u001b[39m.\u001b[39mpreds), y)\n\u001b[1;32m     94\u001b[0m     \u001b[39mself\u001b[39m\u001b[39m.\u001b[39mloss\u001b[39m.\u001b[39mupdate(to_cpu(learn\u001b[39m.\u001b[39mloss), weight\u001b[39m=\u001b[39m\u001b[39mlen\u001b[39m(x))\n",
      "File \u001b[0;32m~/pro/research/lssm/lssm/callbacks.py:34\u001b[0m, in \u001b[0;36mto_cpu\u001b[0;34m(x)\u001b[0m\n\u001b[1;32m     32\u001b[0m \u001b[39mif\u001b[39;00m \u001b[39misinstance\u001b[39m(x, Mapping): \u001b[39mreturn\u001b[39;00m {k:to_cpu(v) \u001b[39mfor\u001b[39;00m k,v \u001b[39min\u001b[39;00m x\u001b[39m.\u001b[39mitems()}\n\u001b[1;32m     33\u001b[0m \u001b[39mif\u001b[39;00m \u001b[39misinstance\u001b[39m(x, \u001b[39mlist\u001b[39m): \u001b[39mreturn\u001b[39;00m [to_cpu(o) \u001b[39mfor\u001b[39;00m o \u001b[39min\u001b[39;00m x]\n\u001b[0;32m---> 34\u001b[0m \u001b[39mif\u001b[39;00m \u001b[39misinstance\u001b[39m(x, \u001b[39mtuple\u001b[39m): \u001b[39mreturn\u001b[39;00m \u001b[39mtuple\u001b[39m(to_cpu(\u001b[39mlist\u001b[39;49m(x)))\n\u001b[1;32m     35\u001b[0m res \u001b[39m=\u001b[39m x\u001b[39m.\u001b[39mdetach()\u001b[39m.\u001b[39mcpu()\n\u001b[1;32m     36\u001b[0m \u001b[39mreturn\u001b[39;00m res\u001b[39m.\u001b[39mfloat() \u001b[39mif\u001b[39;00m res\u001b[39m.\u001b[39mdtype\u001b[39m==\u001b[39mtorch\u001b[39m.\u001b[39mfloat16 \u001b[39melse\u001b[39;00m res\n",
      "File \u001b[0;32m~/pro/research/lssm/lssm/callbacks.py:33\u001b[0m, in \u001b[0;36mto_cpu\u001b[0;34m(x)\u001b[0m\n\u001b[1;32m     31\u001b[0m \u001b[39mdef\u001b[39;00m \u001b[39mto_cpu\u001b[39m(x):\n\u001b[1;32m     32\u001b[0m     \u001b[39mif\u001b[39;00m \u001b[39misinstance\u001b[39m(x, Mapping): \u001b[39mreturn\u001b[39;00m {k:to_cpu(v) \u001b[39mfor\u001b[39;00m k,v \u001b[39min\u001b[39;00m x\u001b[39m.\u001b[39mitems()}\n\u001b[0;32m---> 33\u001b[0m     \u001b[39mif\u001b[39;00m \u001b[39misinstance\u001b[39m(x, \u001b[39mlist\u001b[39m): \u001b[39mreturn\u001b[39;00m [to_cpu(o) \u001b[39mfor\u001b[39;49;00m o \u001b[39min\u001b[39;49;00m x]\n\u001b[1;32m     34\u001b[0m     \u001b[39mif\u001b[39;00m \u001b[39misinstance\u001b[39m(x, \u001b[39mtuple\u001b[39m): \u001b[39mreturn\u001b[39;00m \u001b[39mtuple\u001b[39m(to_cpu(\u001b[39mlist\u001b[39m(x)))\n\u001b[1;32m     35\u001b[0m     res \u001b[39m=\u001b[39m x\u001b[39m.\u001b[39mdetach()\u001b[39m.\u001b[39mcpu()\n",
      "File \u001b[0;32m~/pro/research/lssm/lssm/callbacks.py:33\u001b[0m, in \u001b[0;36m<listcomp>\u001b[0;34m(.0)\u001b[0m\n\u001b[1;32m     31\u001b[0m \u001b[39mdef\u001b[39;00m \u001b[39mto_cpu\u001b[39m(x):\n\u001b[1;32m     32\u001b[0m     \u001b[39mif\u001b[39;00m \u001b[39misinstance\u001b[39m(x, Mapping): \u001b[39mreturn\u001b[39;00m {k:to_cpu(v) \u001b[39mfor\u001b[39;00m k,v \u001b[39min\u001b[39;00m x\u001b[39m.\u001b[39mitems()}\n\u001b[0;32m---> 33\u001b[0m     \u001b[39mif\u001b[39;00m \u001b[39misinstance\u001b[39m(x, \u001b[39mlist\u001b[39m): \u001b[39mreturn\u001b[39;00m [to_cpu(o) \u001b[39mfor\u001b[39;00m o \u001b[39min\u001b[39;00m x]\n\u001b[1;32m     34\u001b[0m     \u001b[39mif\u001b[39;00m \u001b[39misinstance\u001b[39m(x, \u001b[39mtuple\u001b[39m): \u001b[39mreturn\u001b[39;00m \u001b[39mtuple\u001b[39m(to_cpu(\u001b[39mlist\u001b[39m(x)))\n\u001b[1;32m     35\u001b[0m     res \u001b[39m=\u001b[39m x\u001b[39m.\u001b[39mdetach()\u001b[39m.\u001b[39mcpu()\n",
      "File \u001b[0;32m~/pro/research/lssm/lssm/callbacks.py:35\u001b[0m, in \u001b[0;36mto_cpu\u001b[0;34m(x)\u001b[0m\n\u001b[1;32m     33\u001b[0m \u001b[39mif\u001b[39;00m \u001b[39misinstance\u001b[39m(x, \u001b[39mlist\u001b[39m): \u001b[39mreturn\u001b[39;00m [to_cpu(o) \u001b[39mfor\u001b[39;00m o \u001b[39min\u001b[39;00m x]\n\u001b[1;32m     34\u001b[0m \u001b[39mif\u001b[39;00m \u001b[39misinstance\u001b[39m(x, \u001b[39mtuple\u001b[39m): \u001b[39mreturn\u001b[39;00m \u001b[39mtuple\u001b[39m(to_cpu(\u001b[39mlist\u001b[39m(x)))\n\u001b[0;32m---> 35\u001b[0m res \u001b[39m=\u001b[39m x\u001b[39m.\u001b[39;49mdetach()\u001b[39m.\u001b[39;49mcpu()\n\u001b[1;32m     36\u001b[0m \u001b[39mreturn\u001b[39;00m res\u001b[39m.\u001b[39mfloat() \u001b[39mif\u001b[39;00m res\u001b[39m.\u001b[39mdtype\u001b[39m==\u001b[39mtorch\u001b[39m.\u001b[39mfloat16 \u001b[39melse\u001b[39;00m res\n",
      "\u001b[0;31mKeyboardInterrupt\u001b[0m: "
     ]
    }
   ],
   "source": [
    "learn.fit(epochs)"
   ]
  },
  {
   "cell_type": "code",
   "execution_count": null,
   "metadata": {},
   "outputs": [],
   "source": []
  }
 ],
 "metadata": {
  "kernelspec": {
   "display_name": "python3",
   "language": "python",
   "name": "python3"
  },
  "language_info": {
   "codemirror_mode": {
    "name": "ipython",
    "version": 3
   },
   "file_extension": ".py",
   "mimetype": "text/x-python",
   "name": "python",
   "nbconvert_exporter": "python",
   "pygments_lexer": "ipython3",
   "version": "3.11.5"
  }
 },
 "nbformat": 4,
 "nbformat_minor": 4
}

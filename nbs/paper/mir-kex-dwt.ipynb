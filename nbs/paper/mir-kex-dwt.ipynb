{
 "cells": [
  {
   "cell_type": "markdown",
   "metadata": {},
   "source": [
    "# MIR DWT for Kex\n",
    "\n",
    "> A parsimonious approach to soil spectroscopy"
   ]
  },
  {
   "cell_type": "code",
   "execution_count": null,
   "metadata": {},
   "outputs": [],
   "source": [
    "%load_ext autoreload\n",
    "%autoreload 2"
   ]
  },
  {
   "cell_type": "markdown",
   "metadata": {},
   "source": [
    "## Imports"
   ]
  },
  {
   "cell_type": "code",
   "execution_count": null,
   "metadata": {},
   "outputs": [],
   "source": [
    "from pathlib import Path\n",
    "from functools import partial\n",
    "from tqdm import tqdm\n",
    "\n",
    "from sklearn.pipeline import Pipeline\n",
    "from sklearn.model_selection import train_test_split\n",
    "import numpy as np\n",
    "\n",
    "import pywt\n",
    "# import timm\n",
    "# from torcheval.metrics import R2Score\n",
    "# from torch.optim import lr_scheduler\n",
    "# from torch import optim, nn\n",
    "\n",
    "from lssm.loading import load_ossl\n",
    "from lssm.preprocessing import ToAbsorbance, ContinuumRemoval, Log1p, MeanCenter\n",
    "# from lssm.dataloaders import SpectralDataset, get_dls\n",
    "# from lssm.callbacks import (MetricsCB, BatchSchedCB, BatchTransformCB,\n",
    "#                             DeviceCB, TrainCB, ProgressCB)\n",
    "# from lssm.transforms import GADFTfm, _resizeTfm, StatsTfm\n",
    "# from lssm.learner import Learner\n"
   ]
  },
  {
   "cell_type": "markdown",
   "metadata": {},
   "source": [
    "## Data loading & preprocessing"
   ]
  },
  {
   "cell_type": "code",
   "execution_count": null,
   "metadata": {},
   "outputs": [
    {
     "name": "stdout",
     "output_type": "stream",
     "text": [
      "Reading & selecting data ...\n"
     ]
    }
   ],
   "source": [
    "analytes = 'k.ext_usda.a725_cmolc.kg'\n",
    "spectra_type = 'mir'\n",
    "\n",
    "data = load_ossl(analytes, spectra_type)\n",
    "X, y, X_names, smp_idx, ds_name, ds_label = data\n",
    "\n",
    "X = Pipeline([('to_abs', ToAbsorbance()),\n",
    "              ('center', MeanCenter())]).fit_transform(X)\n",
    "            #   ('cr', ContinuumRemoval(X_names))]).fit_transform(X)\n",
    "             \n",
    "y = Log1p().fit_transform(y)"
   ]
  },
  {
   "cell_type": "code",
   "execution_count": null,
   "metadata": {},
   "outputs": [
    {
     "data": {
      "text/plain": [
       "array([ 600,  602,  604, ..., 3996, 3998, 4000])"
      ]
     },
     "execution_count": null,
     "metadata": {},
     "output_type": "execute_result"
    }
   ],
   "source": [
    "X_names"
   ]
  },
  {
   "cell_type": "code",
   "execution_count": null,
   "metadata": {},
   "outputs": [],
   "source": [
    "# Train/valid split\n",
    "n_smp = None  # For demo. purpose\n",
    "X_train, X_valid, y_train, y_valid = train_test_split(X[:n_smp, :], y[:n_smp],\n",
    "                                                      test_size=0.1,\n",
    "                                                      stratify=ds_name[:n_smp],\n",
    "                                                      random_state=41)"
   ]
  },
  {
   "cell_type": "code",
   "execution_count": null,
   "metadata": {},
   "outputs": [
    {
     "data": {
      "text/plain": [
       "1701"
      ]
     },
     "execution_count": null,
     "metadata": {},
     "output_type": "execute_result"
    }
   ],
   "source": [
    "X.shape[-1]"
   ]
  },
  {
   "cell_type": "code",
   "execution_count": null,
   "metadata": {},
   "outputs": [],
   "source": [
    "wavelet_name='db1'\n",
    "max_level = pywt.dwt_max_level(data_len=X.shape[-1], \n",
    "                               filter_len=pywt.Wavelet(wavelet_name).dec_len)"
   ]
  },
  {
   "cell_type": "code",
   "execution_count": null,
   "metadata": {},
   "outputs": [
    {
     "data": {
      "text/plain": [
       "10"
      ]
     },
     "execution_count": null,
     "metadata": {},
     "output_type": "execute_result"
    }
   ],
   "source": [
    "max_level"
   ]
  },
  {
   "cell_type": "code",
   "execution_count": null,
   "metadata": {},
   "outputs": [
    {
     "data": {
      "text/plain": [
       "(1701,)"
      ]
     },
     "execution_count": null,
     "metadata": {},
     "output_type": "execute_result"
    }
   ],
   "source": [
    "X[0].shape"
   ]
  },
  {
   "cell_type": "code",
   "execution_count": null,
   "metadata": {},
   "outputs": [
    {
     "name": "stderr",
     "output_type": "stream",
     "text": [
      "100%|██████████| 57674/57674 [00:01<00:00, 30183.74it/s]\n"
     ]
    }
   ],
   "source": [
    "level6 = []\n",
    "for x in tqdm(X): \n",
    "    x_t = pywt.wavedec(x, wavelet_name, level=max_level)\n",
    "    level6.append(x_t[6])"
   ]
  },
  {
   "cell_type": "code",
   "execution_count": null,
   "metadata": {},
   "outputs": [],
   "source": [
    "X_6 = np.stack(level6)"
   ]
  },
  {
   "cell_type": "code",
   "execution_count": null,
   "metadata": {},
   "outputs": [
    {
     "data": {
      "text/plain": [
       "48"
      ]
     },
     "execution_count": null,
     "metadata": {},
     "output_type": "execute_result"
    }
   ],
   "source": [
    "np.argmax(np.std(X_6, axis=0))"
   ]
  },
  {
   "cell_type": "code",
   "execution_count": null,
   "metadata": {},
   "outputs": [
    {
     "data": {
      "text/plain": [
       "array([[ 0.03672203, -0.02487039, -0.01717581, -0.10592943, -0.00370914],\n",
       "       [ 0.02036096, -0.01819576, -0.00826929, -0.11572447,  0.00565771],\n",
       "       [ 0.01855459, -0.0183915 ,  0.01321602, -0.14775897,  0.00482524],\n",
       "       [ 0.03207238, -0.02084354, -0.02947322, -0.11373378, -0.01840138],\n",
       "       [-0.07371182, -0.0093682 ,  0.10967408, -0.23055396,  0.07454462]])"
      ]
     },
     "execution_count": null,
     "metadata": {},
     "output_type": "execute_result"
    }
   ],
   "source": [
    "X_6[:5, :5]"
   ]
  },
  {
   "cell_type": "code",
   "execution_count": null,
   "metadata": {},
   "outputs": [
    {
     "data": {
      "text/plain": [
       "array([-2.01083716,  5.5876866 , -2.01955983, ...,  2.51502106,\n",
       "       -0.91717877,  2.55590697])"
      ]
     },
     "execution_count": null,
     "metadata": {},
     "output_type": "execute_result"
    }
   ],
   "source": [
    "np.concatenate(level0, axis=0)"
   ]
  },
  {
   "cell_type": "code",
   "execution_count": null,
   "metadata": {},
   "outputs": [
    {
     "name": "stdout",
     "output_type": "stream",
     "text": [
      "0 :  (2,)\n",
      "1 :  (2,)\n",
      "2 :  (4,)\n",
      "3 :  (7,)\n",
      "4 :  (14,)\n",
      "5 :  (27,)\n",
      "6 :  (54,)\n",
      "7 :  (107,)\n",
      "8 :  (213,)\n",
      "9 :  (426,)\n",
      "10 :  (851,)\n"
     ]
    }
   ],
   "source": [
    "for i, level in enumerate(X_t):\n",
    "    print(i, ': ', level.shape)"
   ]
  },
  {
   "cell_type": "code",
   "execution_count": null,
   "metadata": {},
   "outputs": [],
   "source": [
    "X_t = pywt.wavedec(X[0], wavelet_name, level=max_level)"
   ]
  },
  {
   "cell_type": "code",
   "execution_count": null,
   "metadata": {},
   "outputs": [
    {
     "data": {
      "text/plain": [
       "array([-2.16663109e-01, -1.23866352e-01,  5.68868220e-01, -1.21852654e-01,\n",
       "       -6.71356980e-01, -5.70421031e-01, -2.10824324e-01,  7.34801709e-02,\n",
       "        3.52682421e-01,  2.03533434e-01,  1.63918509e-01, -2.15796507e-01,\n",
       "       -5.30099870e-01,  9.25218828e-17])"
      ]
     },
     "execution_count": null,
     "metadata": {},
     "output_type": "execute_result"
    }
   ],
   "source": [
    "X_t"
   ]
  },
  {
   "cell_type": "code",
   "execution_count": null,
   "metadata": {},
   "outputs": [],
   "source": []
  },
  {
   "cell_type": "code",
   "execution_count": null,
   "metadata": {},
   "outputs": [],
   "source": [
    "class DWT(BaseEstimator, TransformerMixin):\n",
    "    def __init__(self, \n",
    "                 names, \n",
    "                 wavenumbers,\n",
    "                 top_percentile=1,\n",
    "                 levels=range(4, 9), \n",
    "                 wavelet_name='db1'):\n",
    "        ls\n",
    "        \n",
    "        self.data = {'level': [], 'smp_name': [],\n",
    "                     'wavenumber': [], 'coeff': [],\n",
    "                     'resolution': [] # in wavenumbers\n",
    "                     }\n",
    "        \n",
    "    def _compute_coeffs(self, x):\n",
    "        max_level = pywt.dwt_max_level(data_len=len(x), \n",
    "                                       filter_len=pywt.Wavelet(self.wavelet_name).dec_len)\n",
    "        return pywt.wavedec(x, self.wavelet_name, level=max_level)\n",
    "\n",
    "    def _idx_of_percentile(self, arr, percentile):\n",
    "        threshold = np.percentile(arr, percentile)  \n",
    "        top_indices = np.where(arr >= threshold)[0]\n",
    "        return top_indices[np.argsort(arr[top_indices])[::-1]]\n",
    "    \n",
    "    def _get_upsampling_factor(self, signal_length, n_coeffs):\n",
    "        return round((signal_length/n_coeffs) / 2) * 2\n",
    "    \n",
    "    def _get_wn(self, idx, signal_length, n_coeffs): \n",
    "        # print(signal_length/n_coeffs)\n",
    "        upsampling_factor = self._get_upsampling_factor(signal_length, n_coeffs)\n",
    "        # print(upsampling_factor)\n",
    "        # print(self.wavenumbers[round(idx * (signal_length/n_coeffs))])\n",
    "        # print(round(self.wavenumbers[idx * upsampling_factor + int(upsampling_factor/2)]))\n",
    "        # print(20*'-')\n",
    "        # return round(self.wavenumbers[idx * upsampling_factor + int(upsampling_factor/2)])\n",
    "        return self.wavenumbers[round(idx * (signal_length/n_coeffs))]\n",
    "    def fit(self, X, y=None): return self\n",
    "    \n",
    "    def transform(self, X):\n",
    "        # For each sample\n",
    "        for idx_smp, name in enumerate(self.names):\n",
    "            coeffs = self._compute_coeffs(X[idx_smp])\n",
    "            # For each DWT decomposition level\n",
    "            for idx_level in self.levels:\n",
    "                # print('level: ', idx_level)\n",
    "                n_coeffs = len(coeffs[idx_level])\n",
    "                # For each coeff\n",
    "                for idx in self._idx_of_percentile(coeffs[idx_level], 100 - self.top_percentile):\n",
    "                    # print(len(X[idx_smp]))\n",
    "                    # print('upsampling x: ', round((signal_length/n_coeffs) / 2) * 2)\n",
    "                    # print('n_coeffs: ', n_coeffs, '\\n')\n",
    "                    self.data['smp_name'].append(name)\n",
    "                    self.data['level'].append(idx_level)\n",
    "                    self.data['wavenumber'].append(self._get_wn(idx, len(X[idx_smp]), n_coeffs))\n",
    "                    self.data['coeff'].append(coeffs[idx_level][idx])\n",
    "                    self.data['resolution'].append(2*self._get_upsampling_factor(signal_length, n_coeffs))\n",
    "        return pd.DataFrame(self.data)"
   ]
  },
  {
   "cell_type": "code",
   "execution_count": null,
   "metadata": {},
   "outputs": [],
   "source": [
    "\n",
    "# Get PyTorch datasets\n",
    "train_ds, valid_ds = [SpectralDataset(X, y, )\n",
    "                      for X, y, in [(X_train, y_train), (X_valid, y_valid)]]"
   ]
  },
  {
   "cell_type": "code",
   "execution_count": null,
   "metadata": {},
   "outputs": [],
   "source": [
    "# Then PyTorch dataloaders\n",
    "dls = get_dls(train_ds, valid_ds, bs=1)"
   ]
  },
  {
   "cell_type": "markdown",
   "metadata": {},
   "source": [
    "## DL model ensembling"
   ]
  },
  {
   "cell_type": "code",
   "execution_count": null,
   "metadata": {},
   "outputs": [],
   "source": [
    "model_name = 'resnet18'\n",
    "model = timm.create_model(model_name, pretrained=True,\n",
    "                          in_chans=1, num_classes=1)"
   ]
  },
  {
   "cell_type": "code",
   "execution_count": null,
   "metadata": {},
   "outputs": [],
   "source": [
    "def apply_mod(m, f):\n",
    "    f(m)\n",
    "    for l in m.children(): apply_mod(l, f)\n",
    "\n",
    "def set_grad(m, b):\n",
    "    if isinstance(m, (nn.Linear,nn.BatchNorm2d)): return\n",
    "    if hasattr(m, 'weight'):\n",
    "        for p in m.parameters(): p.requires_grad_(b) "
   ]
  },
  {
   "cell_type": "code",
   "execution_count": null,
   "metadata": {},
   "outputs": [],
   "source": [
    "apply_mod(model, partial(set_grad, b=False))"
   ]
  },
  {
   "cell_type": "code",
   "execution_count": null,
   "metadata": {},
   "outputs": [
    {
     "data": {
      "text/plain": [
       "10113"
      ]
     },
     "execution_count": null,
     "metadata": {},
     "output_type": "execute_result"
    }
   ],
   "source": [
    "sum(p.numel() for p in model.parameters() if p.requires_grad)"
   ]
  },
  {
   "cell_type": "code",
   "execution_count": null,
   "metadata": {},
   "outputs": [],
   "source": [
    "# Define modelling pipeline & Train\n",
    "epochs = 3\n",
    "lr = 5e-3\n",
    "\n",
    "metrics = MetricsCB(r2=R2Score())\n",
    "\n",
    "tmax = epochs * len(dls.train)\n",
    "\n",
    "# xtra = [BatchSchedCB(sched)]\n",
    "\n",
    "gadf = BatchTransformCB(GADFTfm())\n",
    "resize = BatchTransformCB(_resizeTfm)\n",
    "stats = BatchTransformCB(StatsTfm(model.default_cfg))\n",
    "\n",
    "cbs = [DeviceCB(), gadf, resize, stats, TrainCB(),\n",
    "       metrics, ProgressCB(plot=False)]\n",
    "\n",
    "learn = Learner(model, dls, nn.MSELoss(), lr=lr,\n",
    "                cbs=cbs, opt_func=optim.AdamW)"
   ]
  },
  {
   "cell_type": "code",
   "execution_count": null,
   "metadata": {},
   "outputs": [
    {
     "data": {
      "text/html": [
       "\n",
       "<style>\n",
       "    /* Turns off some styling */\n",
       "    progress {\n",
       "        /* gets rid of default border in Firefox and Opera. */\n",
       "        border: none;\n",
       "        /* Needs to be in here for Safari polyfill so background images work as expected. */\n",
       "        background-size: auto;\n",
       "    }\n",
       "    progress:not([value]), progress:not([value])::-webkit-progress-bar {\n",
       "        background: repeating-linear-gradient(45deg, #7e7e7e, #7e7e7e 10px, #5c5c5c 10px, #5c5c5c 20px);\n",
       "    }\n",
       "    .progress-bar-interrupted, .progress-bar-interrupted::-webkit-progress-bar {\n",
       "        background: #F44336;\n",
       "    }\n",
       "</style>\n"
      ],
      "text/plain": [
       "<IPython.core.display.HTML object>"
      ]
     },
     "metadata": {},
     "output_type": "display_data"
    },
    {
     "data": {
      "text/html": [
       "\n",
       "    <div>\n",
       "      <progress value='0' class='' max='10' style='width:300px; height:20px; vertical-align: middle;'></progress>\n",
       "      0.00% [0/10 00:00&lt;?]\n",
       "    </div>\n",
       "    \n",
       "\n",
       "\n",
       "    <div>\n",
       "      <progress value='1' class='' max='51906' style='width:300px; height:20px; vertical-align: middle;'></progress>\n",
       "      0.00% [1/51906 00:04&lt;65:08:12 0.213]\n",
       "    </div>\n",
       "    "
      ],
      "text/plain": [
       "<IPython.core.display.HTML object>"
      ]
     },
     "metadata": {},
     "output_type": "display_data"
    },
    {
     "name": "stdout",
     "output_type": "stream",
     "text": [
      "ok\n",
      "ok\n"
     ]
    },
    {
     "data": {
      "image/png": "[encoded data removed]",
      "text/plain": [
       "<Figure size 640x480 with 1 Axes>"
      ]
     },
     "metadata": {},
     "output_type": "display_data"
    }
   ],
   "source": [
    "learn.lr_find()"
   ]
  },
  {
   "cell_type": "code",
   "execution_count": null,
   "metadata": {},
   "outputs": [],
   "source": [
    "model_name = 'resnet18'\n",
    "model = timm.create_model(model_name, pretrained=True,\n",
    "                          in_chans=1, num_classes=1)\n",
    "\n",
    "# Define modelling pipeline & Train\n",
    "epochs = 3\n",
    "lr = 2e-4\n",
    "\n",
    "metrics = MetricsCB(r2=R2Score())\n",
    "\n",
    "tmax = epochs * len(dls.train)\n",
    "sched = partial(lr_scheduler.OneCycleLR, max_lr=lr, total_steps=tmax)\n",
    "\n",
    "xtra = [BatchSchedCB(sched)]\n",
    "\n",
    "gadf = BatchTransformCB(GADFTfm())\n",
    "resize = BatchTransformCB(_resizeTfm)\n",
    "stats = BatchTransformCB(StatsTfm(model.default_cfg))\n",
    "\n",
    "cbs = [DeviceCB(), gadf, resize, stats, TrainCB(),\n",
    "       metrics, ProgressCB(plot=False)]\n",
    "\n",
    "learn = Learner(model, dls, nn.MSELoss(), lr=lr,\n",
    "                cbs=cbs+xtra, opt_func=optim.AdamW)\n"
   ]
  },
  {
   "cell_type": "code",
   "execution_count": null,
   "metadata": {},
   "outputs": [
    {
     "data": {
      "text/html": [
       "\n",
       "<style>\n",
       "    /* Turns off some styling */\n",
       "    progress {\n",
       "        /* gets rid of default border in Firefox and Opera. */\n",
       "        border: none;\n",
       "        /* Needs to be in here for Safari polyfill so background images work as expected. */\n",
       "        background-size: auto;\n",
       "    }\n",
       "    progress:not([value]), progress:not([value])::-webkit-progress-bar {\n",
       "        background: repeating-linear-gradient(45deg, #7e7e7e, #7e7e7e 10px, #5c5c5c 10px, #5c5c5c 20px);\n",
       "    }\n",
       "    .progress-bar-interrupted, .progress-bar-interrupted::-webkit-progress-bar {\n",
       "        background: #F44336;\n",
       "    }\n",
       "</style>\n"
      ],
      "text/plain": [
       "<IPython.core.display.HTML object>"
      ]
     },
     "metadata": {},
     "output_type": "display_data"
    },
    {
     "data": {
      "text/html": [
       "\n",
       "    <div>\n",
       "      <progress value='0' class='' max='3' style='width:300px; height:20px; vertical-align: middle;'></progress>\n",
       "      0.00% [0/3 00:00&lt;?]\n",
       "    </div>\n",
       "    \n",
       "\n",
       "\n",
       "    <div>\n",
       "      <progress value='63' class='' max='812' style='width:300px; height:20px; vertical-align: middle;'></progress>\n",
       "      7.76% [63/812 00:56&lt;11:10 0.138]\n",
       "    </div>\n",
       "    "
      ],
      "text/plain": [
       "<IPython.core.display.HTML object>"
      ]
     },
     "metadata": {},
     "output_type": "display_data"
    },
    {
     "ename": "KeyboardInterrupt",
     "evalue": "",
     "output_type": "error",
     "traceback": [
      "\u001b[0;31m---------------------------------------------------------------------------\u001b[0m",
      "\u001b[0;31mKeyboardInterrupt\u001b[0m                         Traceback (most recent call last)",
      "\u001b[1;32m/Users/franckalbinet/pro/research/lssm/nbs/paper/mir-kex.ipynb Cell 13\u001b[0m line \u001b[0;36m1\n\u001b[0;32m----> <a href='vscode-notebook-cell:/Users/franckalbinet/pro/research/lssm/nbs/paper/mir-kex.ipynb#X12sZmlsZQ%3D%3D?line=0'>1</a>\u001b[0m learn\u001b[39m.\u001b[39;49mfit(epochs)\n",
      "File \u001b[0;32m~/pro/research/lssm/lssm/learner.py:76\u001b[0m, in \u001b[0;36mLearner.fit\u001b[0;34m(self, n_epochs, train, valid, cbs, lr)\u001b[0m\n\u001b[1;32m     74\u001b[0m     \u001b[39mif\u001b[39;00m lr \u001b[39mis\u001b[39;00m \u001b[39mNone\u001b[39;00m: lr \u001b[39m=\u001b[39m \u001b[39mself\u001b[39m\u001b[39m.\u001b[39mlr\n\u001b[1;32m     75\u001b[0m     \u001b[39mif\u001b[39;00m \u001b[39mself\u001b[39m\u001b[39m.\u001b[39mopt_func: \u001b[39mself\u001b[39m\u001b[39m.\u001b[39mopt \u001b[39m=\u001b[39m \u001b[39mself\u001b[39m\u001b[39m.\u001b[39mopt_func(\u001b[39mself\u001b[39m\u001b[39m.\u001b[39mmodel\u001b[39m.\u001b[39mparameters(), lr)\n\u001b[0;32m---> 76\u001b[0m     \u001b[39mself\u001b[39;49m\u001b[39m.\u001b[39;49m_fit(train, valid)\n\u001b[1;32m     77\u001b[0m \u001b[39mfinally\u001b[39;00m:\n\u001b[1;32m     78\u001b[0m     \u001b[39mfor\u001b[39;00m cb \u001b[39min\u001b[39;00m cbs: \u001b[39mself\u001b[39m\u001b[39m.\u001b[39mcbs\u001b[39m.\u001b[39mremove(cb)\n",
      "File \u001b[0;32m~/pro/research/lssm/lssm/learner.py:26\u001b[0m, in \u001b[0;36mwith_cbs.__call__.<locals>._f\u001b[0;34m(o, *args, **kwargs)\u001b[0m\n\u001b[1;32m     24\u001b[0m \u001b[39mtry\u001b[39;00m:\n\u001b[1;32m     25\u001b[0m     o\u001b[39m.\u001b[39mcallback(\u001b[39mf\u001b[39m\u001b[39m'\u001b[39m\u001b[39mbefore_\u001b[39m\u001b[39m{\u001b[39;00m\u001b[39mself\u001b[39m\u001b[39m.\u001b[39mnm\u001b[39m}\u001b[39;00m\u001b[39m'\u001b[39m)\n\u001b[0;32m---> 26\u001b[0m     f(o, \u001b[39m*\u001b[39;49margs, \u001b[39m*\u001b[39;49m\u001b[39m*\u001b[39;49mkwargs)\n\u001b[1;32m     27\u001b[0m     o\u001b[39m.\u001b[39mcallback(\u001b[39mf\u001b[39m\u001b[39m'\u001b[39m\u001b[39mafter_\u001b[39m\u001b[39m{\u001b[39;00m\u001b[39mself\u001b[39m\u001b[39m.\u001b[39mnm\u001b[39m}\u001b[39;00m\u001b[39m'\u001b[39m)\n\u001b[1;32m     28\u001b[0m \u001b[39mexcept\u001b[39;00m \u001b[39mglobals\u001b[39m()[\u001b[39mf\u001b[39m\u001b[39m'\u001b[39m\u001b[39mCancel\u001b[39m\u001b[39m{\u001b[39;00m\u001b[39mself\u001b[39m\u001b[39m.\u001b[39mnm\u001b[39m.\u001b[39mtitle()\u001b[39m}\u001b[39;00m\u001b[39mException\u001b[39m\u001b[39m'\u001b[39m]: \u001b[39mpass\u001b[39;00m\n",
      "File \u001b[0;32m~/pro/research/lssm/lssm/learner.py:64\u001b[0m, in \u001b[0;36mLearner._fit\u001b[0;34m(self, train, valid)\u001b[0m\n\u001b[1;32m     61\u001b[0m \u001b[39m@with_cbs\u001b[39m(\u001b[39m'\u001b[39m\u001b[39mfit\u001b[39m\u001b[39m'\u001b[39m)\n\u001b[1;32m     62\u001b[0m \u001b[39mdef\u001b[39;00m \u001b[39m_fit\u001b[39m(\u001b[39mself\u001b[39m, train, valid):\n\u001b[1;32m     63\u001b[0m     \u001b[39mfor\u001b[39;00m \u001b[39mself\u001b[39m\u001b[39m.\u001b[39mepoch \u001b[39min\u001b[39;00m \u001b[39mself\u001b[39m\u001b[39m.\u001b[39mepochs:\n\u001b[0;32m---> 64\u001b[0m         \u001b[39mif\u001b[39;00m train: \u001b[39mself\u001b[39;49m\u001b[39m.\u001b[39;49mone_epoch(\u001b[39mTrue\u001b[39;49;00m)\n\u001b[1;32m     65\u001b[0m         \u001b[39mif\u001b[39;00m valid: torch\u001b[39m.\u001b[39mno_grad()(\u001b[39mself\u001b[39m\u001b[39m.\u001b[39mone_epoch)(\u001b[39mFalse\u001b[39;00m)\n",
      "File \u001b[0;32m~/pro/research/lssm/lssm/learner.py:59\u001b[0m, in \u001b[0;36mLearner.one_epoch\u001b[0;34m(self, training)\u001b[0m\n\u001b[1;32m     57\u001b[0m \u001b[39mself\u001b[39m\u001b[39m.\u001b[39mmodel\u001b[39m.\u001b[39mtrain(training)\n\u001b[1;32m     58\u001b[0m \u001b[39mself\u001b[39m\u001b[39m.\u001b[39mdl \u001b[39m=\u001b[39m \u001b[39mself\u001b[39m\u001b[39m.\u001b[39mdls\u001b[39m.\u001b[39mtrain \u001b[39mif\u001b[39;00m training \u001b[39melse\u001b[39;00m \u001b[39mself\u001b[39m\u001b[39m.\u001b[39mdls\u001b[39m.\u001b[39mvalid\n\u001b[0;32m---> 59\u001b[0m \u001b[39mself\u001b[39;49m\u001b[39m.\u001b[39;49m_one_epoch()\n",
      "File \u001b[0;32m~/pro/research/lssm/lssm/learner.py:26\u001b[0m, in \u001b[0;36mwith_cbs.__call__.<locals>._f\u001b[0;34m(o, *args, **kwargs)\u001b[0m\n\u001b[1;32m     24\u001b[0m \u001b[39mtry\u001b[39;00m:\n\u001b[1;32m     25\u001b[0m     o\u001b[39m.\u001b[39mcallback(\u001b[39mf\u001b[39m\u001b[39m'\u001b[39m\u001b[39mbefore_\u001b[39m\u001b[39m{\u001b[39;00m\u001b[39mself\u001b[39m\u001b[39m.\u001b[39mnm\u001b[39m}\u001b[39;00m\u001b[39m'\u001b[39m)\n\u001b[0;32m---> 26\u001b[0m     f(o, \u001b[39m*\u001b[39;49margs, \u001b[39m*\u001b[39;49m\u001b[39m*\u001b[39;49mkwargs)\n\u001b[1;32m     27\u001b[0m     o\u001b[39m.\u001b[39mcallback(\u001b[39mf\u001b[39m\u001b[39m'\u001b[39m\u001b[39mafter_\u001b[39m\u001b[39m{\u001b[39;00m\u001b[39mself\u001b[39m\u001b[39m.\u001b[39mnm\u001b[39m}\u001b[39;00m\u001b[39m'\u001b[39m)\n\u001b[1;32m     28\u001b[0m \u001b[39mexcept\u001b[39;00m \u001b[39mglobals\u001b[39m()[\u001b[39mf\u001b[39m\u001b[39m'\u001b[39m\u001b[39mCancel\u001b[39m\u001b[39m{\u001b[39;00m\u001b[39mself\u001b[39m\u001b[39m.\u001b[39mnm\u001b[39m.\u001b[39mtitle()\u001b[39m}\u001b[39;00m\u001b[39mException\u001b[39m\u001b[39m'\u001b[39m]: \u001b[39mpass\u001b[39;00m\n",
      "File \u001b[0;32m~/pro/research/lssm/lssm/learner.py:54\u001b[0m, in \u001b[0;36mLearner._one_epoch\u001b[0;34m(self)\u001b[0m\n\u001b[1;32m     51\u001b[0m \u001b[39m@with_cbs\u001b[39m(\u001b[39m'\u001b[39m\u001b[39mepoch\u001b[39m\u001b[39m'\u001b[39m)\n\u001b[1;32m     52\u001b[0m \u001b[39mdef\u001b[39;00m \u001b[39m_one_epoch\u001b[39m(\u001b[39mself\u001b[39m):\n\u001b[1;32m     53\u001b[0m     \u001b[39mfor\u001b[39;00m \u001b[39mself\u001b[39m\u001b[39m.\u001b[39miter,\u001b[39mself\u001b[39m\u001b[39m.\u001b[39mbatch \u001b[39min\u001b[39;00m \u001b[39menumerate\u001b[39m(\u001b[39mself\u001b[39m\u001b[39m.\u001b[39mdl):\n\u001b[0;32m---> 54\u001b[0m         \u001b[39mself\u001b[39;49m\u001b[39m.\u001b[39;49m_one_batch()\n",
      "File \u001b[0;32m~/pro/research/lssm/lssm/learner.py:27\u001b[0m, in \u001b[0;36mwith_cbs.__call__.<locals>._f\u001b[0;34m(o, *args, **kwargs)\u001b[0m\n\u001b[1;32m     25\u001b[0m     o\u001b[39m.\u001b[39mcallback(\u001b[39mf\u001b[39m\u001b[39m'\u001b[39m\u001b[39mbefore_\u001b[39m\u001b[39m{\u001b[39;00m\u001b[39mself\u001b[39m\u001b[39m.\u001b[39mnm\u001b[39m}\u001b[39;00m\u001b[39m'\u001b[39m)\n\u001b[1;32m     26\u001b[0m     f(o, \u001b[39m*\u001b[39margs, \u001b[39m*\u001b[39m\u001b[39m*\u001b[39mkwargs)\n\u001b[0;32m---> 27\u001b[0m     o\u001b[39m.\u001b[39;49mcallback(\u001b[39mf\u001b[39;49m\u001b[39m'\u001b[39;49m\u001b[39mafter_\u001b[39;49m\u001b[39m{\u001b[39;49;00m\u001b[39mself\u001b[39;49m\u001b[39m.\u001b[39;49mnm\u001b[39m}\u001b[39;49;00m\u001b[39m'\u001b[39;49m)\n\u001b[1;32m     28\u001b[0m \u001b[39mexcept\u001b[39;00m \u001b[39mglobals\u001b[39m()[\u001b[39mf\u001b[39m\u001b[39m'\u001b[39m\u001b[39mCancel\u001b[39m\u001b[39m{\u001b[39;00m\u001b[39mself\u001b[39m\u001b[39m.\u001b[39mnm\u001b[39m.\u001b[39mtitle()\u001b[39m}\u001b[39;00m\u001b[39mException\u001b[39m\u001b[39m'\u001b[39m]: \u001b[39mpass\u001b[39;00m\n\u001b[1;32m     29\u001b[0m \u001b[39mfinally\u001b[39;00m: o\u001b[39m.\u001b[39mcallback(\u001b[39mf\u001b[39m\u001b[39m'\u001b[39m\u001b[39mcleanup_\u001b[39m\u001b[39m{\u001b[39;00m\u001b[39mself\u001b[39m\u001b[39m.\u001b[39mnm\u001b[39m}\u001b[39;00m\u001b[39m'\u001b[39m)\n",
      "File \u001b[0;32m~/pro/research/lssm/lssm/learner.py:84\u001b[0m, in \u001b[0;36mLearner.callback\u001b[0;34m(self, method_nm)\u001b[0m\n\u001b[0;32m---> 84\u001b[0m \u001b[39mdef\u001b[39;00m \u001b[39mcallback\u001b[39m(\u001b[39mself\u001b[39m, method_nm): run_cbs(\u001b[39mself\u001b[39;49m\u001b[39m.\u001b[39;49mcbs, method_nm, \u001b[39mself\u001b[39;49m)\n",
      "File \u001b[0;32m~/pro/research/lssm/lssm/callbacks.py:45\u001b[0m, in \u001b[0;36mrun_cbs\u001b[0;34m(cbs, method_nm, learn)\u001b[0m\n\u001b[1;32m     43\u001b[0m \u001b[39mfor\u001b[39;00m cb \u001b[39min\u001b[39;00m \u001b[39msorted\u001b[39m(cbs, key\u001b[39m=\u001b[39mattrgetter(\u001b[39m'\u001b[39m\u001b[39morder\u001b[39m\u001b[39m'\u001b[39m)):\n\u001b[1;32m     44\u001b[0m     method \u001b[39m=\u001b[39m \u001b[39mgetattr\u001b[39m(cb, method_nm, \u001b[39mNone\u001b[39;00m)\n\u001b[0;32m---> 45\u001b[0m     \u001b[39mif\u001b[39;00m method \u001b[39mis\u001b[39;00m \u001b[39mnot\u001b[39;00m \u001b[39mNone\u001b[39;00m: method(learn)\n",
      "File \u001b[0;32m~/pro/research/lssm/lssm/callbacks.py:92\u001b[0m, in \u001b[0;36mMetricsCB.after_batch\u001b[0;34m(self, learn)\u001b[0m\n\u001b[1;32m     91\u001b[0m \u001b[39mdef\u001b[39;00m \u001b[39mafter_batch\u001b[39m(\u001b[39mself\u001b[39m, learn):\n\u001b[0;32m---> 92\u001b[0m     x,y,\u001b[39m*\u001b[39m_ \u001b[39m=\u001b[39m to_cpu(learn\u001b[39m.\u001b[39;49mbatch)\n\u001b[1;32m     93\u001b[0m     \u001b[39mfor\u001b[39;00m m \u001b[39min\u001b[39;00m \u001b[39mself\u001b[39m\u001b[39m.\u001b[39mmetrics\u001b[39m.\u001b[39mvalues(): m\u001b[39m.\u001b[39mupdate(to_cpu(learn\u001b[39m.\u001b[39mpreds), y)\n\u001b[1;32m     94\u001b[0m     \u001b[39mself\u001b[39m\u001b[39m.\u001b[39mloss\u001b[39m.\u001b[39mupdate(to_cpu(learn\u001b[39m.\u001b[39mloss), weight\u001b[39m=\u001b[39m\u001b[39mlen\u001b[39m(x))\n",
      "File \u001b[0;32m~/pro/research/lssm/lssm/callbacks.py:34\u001b[0m, in \u001b[0;36mto_cpu\u001b[0;34m(x)\u001b[0m\n\u001b[1;32m     32\u001b[0m \u001b[39mif\u001b[39;00m \u001b[39misinstance\u001b[39m(x, Mapping): \u001b[39mreturn\u001b[39;00m {k:to_cpu(v) \u001b[39mfor\u001b[39;00m k,v \u001b[39min\u001b[39;00m x\u001b[39m.\u001b[39mitems()}\n\u001b[1;32m     33\u001b[0m \u001b[39mif\u001b[39;00m \u001b[39misinstance\u001b[39m(x, \u001b[39mlist\u001b[39m): \u001b[39mreturn\u001b[39;00m [to_cpu(o) \u001b[39mfor\u001b[39;00m o \u001b[39min\u001b[39;00m x]\n\u001b[0;32m---> 34\u001b[0m \u001b[39mif\u001b[39;00m \u001b[39misinstance\u001b[39m(x, \u001b[39mtuple\u001b[39m): \u001b[39mreturn\u001b[39;00m \u001b[39mtuple\u001b[39m(to_cpu(\u001b[39mlist\u001b[39;49m(x)))\n\u001b[1;32m     35\u001b[0m res \u001b[39m=\u001b[39m x\u001b[39m.\u001b[39mdetach()\u001b[39m.\u001b[39mcpu()\n\u001b[1;32m     36\u001b[0m \u001b[39mreturn\u001b[39;00m res\u001b[39m.\u001b[39mfloat() \u001b[39mif\u001b[39;00m res\u001b[39m.\u001b[39mdtype\u001b[39m==\u001b[39mtorch\u001b[39m.\u001b[39mfloat16 \u001b[39melse\u001b[39;00m res\n",
      "File \u001b[0;32m~/pro/research/lssm/lssm/callbacks.py:33\u001b[0m, in \u001b[0;36mto_cpu\u001b[0;34m(x)\u001b[0m\n\u001b[1;32m     31\u001b[0m \u001b[39mdef\u001b[39;00m \u001b[39mto_cpu\u001b[39m(x):\n\u001b[1;32m     32\u001b[0m     \u001b[39mif\u001b[39;00m \u001b[39misinstance\u001b[39m(x, Mapping): \u001b[39mreturn\u001b[39;00m {k:to_cpu(v) \u001b[39mfor\u001b[39;00m k,v \u001b[39min\u001b[39;00m x\u001b[39m.\u001b[39mitems()}\n\u001b[0;32m---> 33\u001b[0m     \u001b[39mif\u001b[39;00m \u001b[39misinstance\u001b[39m(x, \u001b[39mlist\u001b[39m): \u001b[39mreturn\u001b[39;00m [to_cpu(o) \u001b[39mfor\u001b[39;49;00m o \u001b[39min\u001b[39;49;00m x]\n\u001b[1;32m     34\u001b[0m     \u001b[39mif\u001b[39;00m \u001b[39misinstance\u001b[39m(x, \u001b[39mtuple\u001b[39m): \u001b[39mreturn\u001b[39;00m \u001b[39mtuple\u001b[39m(to_cpu(\u001b[39mlist\u001b[39m(x)))\n\u001b[1;32m     35\u001b[0m     res \u001b[39m=\u001b[39m x\u001b[39m.\u001b[39mdetach()\u001b[39m.\u001b[39mcpu()\n",
      "File \u001b[0;32m~/pro/research/lssm/lssm/callbacks.py:33\u001b[0m, in \u001b[0;36m<listcomp>\u001b[0;34m(.0)\u001b[0m\n\u001b[1;32m     31\u001b[0m \u001b[39mdef\u001b[39;00m \u001b[39mto_cpu\u001b[39m(x):\n\u001b[1;32m     32\u001b[0m     \u001b[39mif\u001b[39;00m \u001b[39misinstance\u001b[39m(x, Mapping): \u001b[39mreturn\u001b[39;00m {k:to_cpu(v) \u001b[39mfor\u001b[39;00m k,v \u001b[39min\u001b[39;00m x\u001b[39m.\u001b[39mitems()}\n\u001b[0;32m---> 33\u001b[0m     \u001b[39mif\u001b[39;00m \u001b[39misinstance\u001b[39m(x, \u001b[39mlist\u001b[39m): \u001b[39mreturn\u001b[39;00m [to_cpu(o) \u001b[39mfor\u001b[39;00m o \u001b[39min\u001b[39;00m x]\n\u001b[1;32m     34\u001b[0m     \u001b[39mif\u001b[39;00m \u001b[39misinstance\u001b[39m(x, \u001b[39mtuple\u001b[39m): \u001b[39mreturn\u001b[39;00m \u001b[39mtuple\u001b[39m(to_cpu(\u001b[39mlist\u001b[39m(x)))\n\u001b[1;32m     35\u001b[0m     res \u001b[39m=\u001b[39m x\u001b[39m.\u001b[39mdetach()\u001b[39m.\u001b[39mcpu()\n",
      "File \u001b[0;32m~/pro/research/lssm/lssm/callbacks.py:35\u001b[0m, in \u001b[0;36mto_cpu\u001b[0;34m(x)\u001b[0m\n\u001b[1;32m     33\u001b[0m \u001b[39mif\u001b[39;00m \u001b[39misinstance\u001b[39m(x, \u001b[39mlist\u001b[39m): \u001b[39mreturn\u001b[39;00m [to_cpu(o) \u001b[39mfor\u001b[39;00m o \u001b[39min\u001b[39;00m x]\n\u001b[1;32m     34\u001b[0m \u001b[39mif\u001b[39;00m \u001b[39misinstance\u001b[39m(x, \u001b[39mtuple\u001b[39m): \u001b[39mreturn\u001b[39;00m \u001b[39mtuple\u001b[39m(to_cpu(\u001b[39mlist\u001b[39m(x)))\n\u001b[0;32m---> 35\u001b[0m res \u001b[39m=\u001b[39m x\u001b[39m.\u001b[39;49mdetach()\u001b[39m.\u001b[39;49mcpu()\n\u001b[1;32m     36\u001b[0m \u001b[39mreturn\u001b[39;00m res\u001b[39m.\u001b[39mfloat() \u001b[39mif\u001b[39;00m res\u001b[39m.\u001b[39mdtype\u001b[39m==\u001b[39mtorch\u001b[39m.\u001b[39mfloat16 \u001b[39melse\u001b[39;00m res\n",
      "\u001b[0;31mKeyboardInterrupt\u001b[0m: "
     ]
    }
   ],
   "source": [
    "learn.fit(epochs)"
   ]
  },
  {
   "cell_type": "code",
   "execution_count": null,
   "metadata": {},
   "outputs": [],
   "source": []
  }
 ],
 "metadata": {
  "kernelspec": {
   "display_name": "python3",
   "language": "python",
   "name": "python3"
  }
 },
 "nbformat": 4,
 "nbformat_minor": 4
}

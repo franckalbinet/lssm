{
 "cells": [
  {
   "cell_type": "markdown",
   "metadata": {},
   "source": [
    "# MIR replicates latent space\n",
    "\n",
    "> Using Woodwell ring trial and CVAE to create mid-infrared spectra embeddings"
   ]
  },
  {
   "cell_type": "code",
   "execution_count": null,
   "metadata": {},
   "outputs": [
    {
     "name": "stdout",
     "output_type": "stream",
     "text": [
      "The autoreload extension is already loaded. To reload it, use:\n",
      "  %reload_ext autoreload\n"
     ]
    }
   ],
   "source": [
    "%load_ext autoreload\n",
    "%autoreload 2"
   ]
  },
  {
   "cell_type": "markdown",
   "metadata": {},
   "source": [
    "## Imports"
   ]
  },
  {
   "cell_type": "code",
   "execution_count": null,
   "metadata": {},
   "outputs": [],
   "source": [
    "from pathlib import Path\n",
    "from functools import partial\n",
    "# import itertools\n",
    "\n",
    "import fastcore.all as fc\n",
    "\n",
    "import pandas as pd\n",
    "# from sklearn.pipeline import Pipeline\n",
    "from sklearn.model_selection import train_test_split\n",
    "\n",
    "\n",
    "from torcheval.metrics import MeanSquaredError\n",
    "from torch.optim import lr_scheduler\n",
    "from torch import optim, nn\n",
    "\n",
    "import torch\n",
    "import torch.nn.functional as F\n",
    "from torch.nn import init\n",
    "\n",
    "from lssm.loading import load_mirs_ring_trial, get_spectra_pair_idxs\n",
    "from lssm.dataloaders import CrossSpectraDataset, get_dls\n",
    "from lssm.callbacks import (MetricsCB, BatchSchedCB, BatchTransformCB,\n",
    "                            DeviceCB, TrainCB, ProgressCB)\n",
    "from lssm.learner import Learner\n",
    "from lssm.callbacks import Callback\n",
    "from lssm.visualization import plot_spectra\n"
   ]
  },
  {
   "cell_type": "markdown",
   "metadata": {},
   "source": [
    "## Data loading"
   ]
  },
  {
   "cell_type": "code",
   "execution_count": null,
   "metadata": {},
   "outputs": [],
   "source": [
    "fname = Path().home()/'pro/data/woodwell-ringtrial/drive-download-20231013T123706Z-001/RT_STD_allMIRspectra_raw.csv'\n",
    "df = load_mirs_ring_trial(fname)\n",
    "X_names = [int(c) for c in df.columns[2:][::-1]]"
   ]
  },
  {
   "cell_type": "code",
   "execution_count": null,
   "metadata": {},
   "outputs": [],
   "source": [
    "df = df.iloc[:100,:]"
   ]
  },
  {
   "cell_type": "code",
   "execution_count": null,
   "metadata": {},
   "outputs": [],
   "source": [
    "pair_idxs_train, pair_idxs_valid  = train_test_split(get_spectra_pair_idxs(df), \n",
    "                                                     test_size=0.2, random_state=41)"
   ]
  },
  {
   "cell_type": "code",
   "execution_count": null,
   "metadata": {},
   "outputs": [],
   "source": [
    "train_ds, valid_ds = [CrossSpectraDataset(df, pair_idxs) \n",
    "                      for pair_idxs in [pair_idxs_train, pair_idxs_valid]]"
   ]
  },
  {
   "cell_type": "code",
   "execution_count": null,
   "metadata": {},
   "outputs": [
    {
     "name": "stdout",
     "output_type": "stream",
     "text": [
      "First batch X dim: torch.Size([32, 1, 1676])\n",
      "First batch y dim: torch.Size([32, 1, 1676])\n"
     ]
    }
   ],
   "source": [
    "# Then PyTorch dataloaders\n",
    "dls = get_dls(train_ds, valid_ds, bs=32)\n",
    "\n",
    "first_batch = next(iter(dls.train))\n",
    "print(f'First batch X dim: {first_batch[0].shape}')\n",
    "print(f'First batch y dim: {first_batch[1].shape}')"
   ]
  },
  {
   "cell_type": "code",
   "execution_count": null,
   "metadata": {},
   "outputs": [],
   "source": [
    "class SNVTfm(): \n",
    "    \"\"\"\n",
    "    Apply SNV to input or to both input and output when used with a Variational Auto-Encoder\n",
    "    \"\"\"\n",
    "    def __init__(self, is_VAE=True):\n",
    "        self.is_VAE = is_VAE\n",
    "\n",
    "    def __call__(self, b): \n",
    "        x, y = b\n",
    "        spectra = [x, y] if self.is_VAE else [x]\n",
    "        spectra_tfm = []\n",
    "        for s in spectra:\n",
    "            mean, std = torch.mean(s, axis=2).unsqueeze(1), torch.std(s, axis=2).unsqueeze(1)\n",
    "            spectra_tfm.append((s - mean)/std)\n",
    "        return spectra_tfm"
   ]
  },
  {
   "cell_type": "markdown",
   "metadata": {},
   "source": [
    "## Model"
   ]
  },
  {
   "cell_type": "markdown",
   "metadata": {},
   "source": [
    "<!-- $$1 + \\frac{n + 2p - k_s}{s}$$ -->\n",
    "\n",
    "<!-- $$1 + ((n + 2p -k_s)) // stride -->"
   ]
  },
  {
   "cell_type": "markdown",
   "metadata": {},
   "source": [
    "### Resnet VAE"
   ]
  },
  {
   "cell_type": "code",
   "execution_count": null,
   "metadata": {},
   "outputs": [],
   "source": [
    "# def get_model(act=nn.ReLU, nfs=(8,16,32,64,128,256), norm=nn.BatchNorm1d, n_embeddings=2):\n",
    "#     # self.avgpool = nn.AdaptiveAvgPool1d(1)\n",
    "#     layers = [ResBlock(1, 8, stride=1, act=act, norm=norm)]\n",
    "#     layers += [ResBlock(nfs[i], nfs[i+1], act=act, norm=norm, stride=2) for i in range(len(nfs)-1)]\n",
    "#     # layers += [nn.Flatten(), nn.Linear(nfs[-1], 10, bias=False), nn.BatchNorm1d(10)]\n",
    "#     # layers += [nn.AdaptiveAvgPool1d(1), nn.Flatten(), nn.Linear(nfs[-1], n_embeddings, bias=False)]\n",
    "#     # return nn.Sequential(*layers).to(def_device)\n",
    "#     return nn.Sequential(*layers)"
   ]
  },
  {
   "cell_type": "code",
   "execution_count": null,
   "metadata": {},
   "outputs": [],
   "source": [
    "class GeneralRelu(nn.Module):\n",
    "    def __init__(self, leak=None, sub=None, maxv=None):\n",
    "        super().__init__()\n",
    "        self.leak,self.sub,self.maxv = leak,sub,maxv\n",
    "\n",
    "    def forward(self, x): \n",
    "        x = F.leaky_relu(x,self.leak) if self.leak is not None else F.relu(x)\n",
    "        if self.sub is not None: x -= self.sub\n",
    "        if self.maxv is not None: x.clamp_max_(self.maxv)\n",
    "        return x"
   ]
  },
  {
   "cell_type": "code",
   "execution_count": null,
   "metadata": {},
   "outputs": [],
   "source": [
    "act_gr = partial(GeneralRelu, leak=0.1, sub=0.4)"
   ]
  },
  {
   "cell_type": "code",
   "execution_count": null,
   "metadata": {},
   "outputs": [],
   "source": [
    "def init_weights(m, leaky=0.):\n",
    "    if isinstance(m, (nn.Conv1d,nn.Conv2d,nn.Conv3d,nn.Linear)): init.kaiming_normal_(m.weight, a=leaky)\n",
    "    \n",
    "iw = partial(init_weights, leaky=0.1)"
   ]
  },
  {
   "cell_type": "code",
   "execution_count": null,
   "metadata": {},
   "outputs": [],
   "source": [
    "def conv(ni, nf, ks=3, stride=2, act=nn.ReLU, norm=None, bias=None):\n",
    "    if bias is None: bias = not isinstance(norm, (nn.BatchNorm1d,nn.BatchNorm2d,nn.BatchNorm3d))\n",
    "    layers = [nn.Conv1d(ni, nf, stride=stride, kernel_size=ks, padding=ks//2, bias=bias)]\n",
    "    if norm: layers.append(norm(nf))\n",
    "    if act: layers.append(act())\n",
    "    return nn.Sequential(*layers)"
   ]
  },
  {
   "cell_type": "code",
   "execution_count": null,
   "metadata": {},
   "outputs": [],
   "source": [
    "def _conv_block(ni, nf, stride, act=act_gr, norm=None, ks=3):\n",
    "    return nn.Sequential(conv(ni, nf, stride=1, act=act, norm=norm, ks=ks),\n",
    "                         conv(nf, nf, stride=stride, act=None, norm=norm, ks=ks))\n",
    "\n",
    "class ResBlock(nn.Module):\n",
    "    def __init__(self, ni, nf, stride=1, ks=3, act=act_gr, norm=None):\n",
    "        super().__init__()\n",
    "        self.convs = _conv_block(ni, nf, stride, act=act, ks=ks, norm=norm)\n",
    "        self.idconv = fc.noop if ni==nf else conv(ni, nf, ks=1, stride=1, act=None)\n",
    "        self.pool = fc.noop if stride==1 else nn.AvgPool1d(2, ceil_mode=True)\n",
    "        self.act = act()\n",
    "\n",
    "    def forward(self, x): \n",
    "        return self.act(self.convs(x) + self.idconv(self.pool(x)))\n",
    "\n",
    "class ResBlockUp(nn.Module):\n",
    "    def __init__(self, ni, nf, stride=1, ks=3, act=act_gr, norm=None):\n",
    "        super().__init__()\n",
    "        self.upsample = nn.Upsample(scale_factor=2, mode='linear', align_corners=True)\n",
    "        self.resblock = ResBlock(ni, nf, act=act, norm=norm, stride=stride)\n",
    "\n",
    "    def forward(self, x): \n",
    "        return self.resblock(self.upsample(x))\n",
    "\n",
    "class Encoder(nn.Module):\n",
    "    def __init__(self, act=nn.ReLU, nfs=(8,16,32,64,128,256), norm=nn.BatchNorm1d, z_dim=2):\n",
    "        super(Encoder, self).__init__()\n",
    "        self.layers = [ResBlock(1, 8, stride=1, act=act, norm=norm)]\n",
    "        self.layers += [ResBlock(nfs[i], nfs[i+1], act=act, norm=norm, stride=2) for i in range(len(nfs)-1)]\n",
    "        self.layers += [nn.AdaptiveAvgPool1d(1), nn.Flatten()]\n",
    "        self.resblocks = nn.Sequential(*self.layers)\n",
    "        self.fc_mu = nn.Linear(nfs[-1], z_dim)\n",
    "        self.fc_logvar = nn.Linear(nfs[-1], z_dim)\n",
    "\n",
    "    def forward(self, x):\n",
    "        x = self.resblocks(x)\n",
    "        mu = self.fc_mu(x)\n",
    "        logvar = self.fc_logvar(x)        \n",
    "        return mu, logvar\n",
    "    \n",
    "class Decoder(nn.Module):\n",
    "    def __init__(self, in_shape, act=nn.ReLU, \n",
    "                 nfs=(256, 128, 64, 32, 16, 8), \n",
    "                 norm=nn.BatchNorm1d, z_dim=2):\n",
    "        super(Decoder, self).__init__()\n",
    "        self.feat_len = 1 + in_shape//2**(len(nfs)-1)\n",
    "        self.lin = nn.Linear(z_dim, nfs[0]*self.feat_len, bias=False)\n",
    "        self.nfs = nfs\n",
    "        \n",
    "        layers = []\n",
    "        layers += [ResBlockUp(nfs[i], nfs[i+1], act=act, norm=norm, stride=1) for i in range(len(nfs)-1)]    \n",
    "        layers.append(ResBlock(nfs[-1], 1, act=act_gr, norm=nn.BatchNorm1d, stride=1))\n",
    "        self.resblocks = nn.Sequential(*layers)\n",
    "        \n",
    "    def forward(self, x):\n",
    "        x = self.lin(x)\n",
    "        x = x.reshape(-1, self.nfs[0], self.feat_len)\n",
    "        return self.resblocks(x)\n",
    "    \n",
    "class CVAE(nn.Module):\n",
    "    def __init__(self, in_shape=1676, z_dim=2, nfs=(8,16,32,64,128,256)):\n",
    "        super(CVAE, self).__init__()\n",
    "        self.in_shape = in_shape\n",
    "        self.encoder = Encoder(nfs=nfs, z_dim=z_dim)\n",
    "        self.decoder = Decoder(in_shape, nfs=nfs[::-1], z_dim=z_dim)\n",
    "\n",
    "    def reparameterize(self, mu, logvar):\n",
    "        std = torch.exp(0.5*logvar)\n",
    "        eps = torch.randn_like(std)\n",
    "        return mu + eps*std\n",
    "\n",
    "    def forward(self, x):\n",
    "        mu, logvar = self.encoder(x)\n",
    "        z = self.reparameterize(mu, logvar)\n",
    "        x_rec = self.decoder(z)\n",
    "        strip_idx = x_rec.shape[-1] - self.in_shape\n",
    "        return x_rec[:,:,:-strip_idx], mu, logvar"
   ]
  },
  {
   "cell_type": "code",
   "execution_count": null,
   "metadata": {},
   "outputs": [
    {
     "data": {
      "text/plain": [
       "torch.Size([32, 1, 1676])"
      ]
     },
     "execution_count": null,
     "metadata": {},
     "output_type": "execute_result"
    }
   ],
   "source": [
    "first_batch[0].shape"
   ]
  },
  {
   "cell_type": "code",
   "execution_count": null,
   "metadata": {},
   "outputs": [],
   "source": [
    "vae = CVAE(nfs=(8,16,32,64))"
   ]
  },
  {
   "cell_type": "code",
   "execution_count": null,
   "metadata": {},
   "outputs": [
    {
     "data": {
      "text/plain": [
       "torch.Size([32, 1, 1676])"
      ]
     },
     "execution_count": null,
     "metadata": {},
     "output_type": "execute_result"
    }
   ],
   "source": [
    "x_rec, _, _ = vae(first_batch[0])\n",
    "x_rec.shape"
   ]
  },
  {
   "cell_type": "markdown",
   "metadata": {},
   "source": [
    "### Training"
   ]
  },
  {
   "cell_type": "code",
   "execution_count": null,
   "metadata": {},
   "outputs": [],
   "source": [
    "class VAETrainCB(Callback):    \n",
    "    def predict(self, learn): \n",
    "        learn.preds = learn.model(learn.batch[0])\n",
    "        \n",
    "    def get_loss(self, learn): \n",
    "        y_hat, mu, logvar = learn.preds\n",
    "        y = learn.batch[1]\n",
    "        learn.loss = learn.loss_func(y_hat, y, mu, logvar)\n",
    "        \n",
    "    def backward(self, learn): learn.loss.backward()\n",
    "    def step(self, learn): learn.opt.step()\n",
    "    def zero_grad(self, learn): learn.opt.zero_grad()\n",
    "    \n",
    "\n",
    "from copy import copy\n",
    "from torcheval.metrics import Mean\n",
    "from lssm.callbacks import to_cpu\n",
    "\n",
    "class MetricsCB(Callback):\n",
    "    def __init__(self, *ms, **metrics):\n",
    "        for o in ms: metrics[type(o).__name__] = o\n",
    "        self.metrics = metrics\n",
    "        self.all_metrics = copy(metrics)\n",
    "        self.all_metrics['loss'] = self.loss = Mean()\n",
    "\n",
    "    def _log(self, d): print(d)\n",
    "    def before_fit(self, learn): learn.metrics = self\n",
    "    def before_epoch(self, learn): [o.reset() for o in self.all_metrics.values()]\n",
    "\n",
    "    def after_epoch(self, learn):\n",
    "        log = {k:f'{v.compute():.3f}' for k,v in self.all_metrics.items()}\n",
    "        log['epoch'] = learn.epoch\n",
    "        log['train'] = 'train' if learn.model.training else 'eval'\n",
    "        self._log(log)\n",
    "\n",
    "    def after_batch(self, learn):\n",
    "        x,y,*_ = to_cpu(learn.batch)\n",
    "        y_hat, y = [s.squeeze(1) for s in [learn.preds[0], y]]\n",
    "        for m in self.metrics.values(): \n",
    "            # m.update(to_cpu(learn.preds[0]), y)\n",
    "            m.update(to_cpu(y_hat), y)\n",
    "        self.loss.update(to_cpu(learn.loss), weight=len(x))"
   ]
  },
  {
   "cell_type": "code",
   "execution_count": null,
   "metadata": {},
   "outputs": [],
   "source": [
    "# Loss Function\n",
    "def loss_function(recon_x, x, mu, logvar):\n",
    "    criterion = nn.MSELoss()\n",
    "    MSE = criterion(recon_x, x)\n",
    "    KLD = -0.5 * torch.sum(1 + logvar - mu.pow(2) - logvar.exp())\n",
    "    return MSE + KLD"
   ]
  },
  {
   "cell_type": "code",
   "execution_count": null,
   "metadata": {},
   "outputs": [],
   "source": [
    "### lr_find\n",
    "assess_lr = True\n",
    "model = CVAE(nfs=(8,16,32,64), z_dim=2).apply(iw)\n",
    "epochs = 2\n",
    "lr = 1e-4\n",
    "\n",
    "metrics = MetricsCB(mse=MeanSquaredError())\n",
    "tmax = epochs * len(dls.train)\n",
    "# sched = partial(lr_scheduler.OneCycleLR, max_lr=lr, total_steps=tmax)\n",
    "\n",
    "_snv = BatchTransformCB(SNVTfm())\n",
    "# xtra = [BatchSchedCB(sched)] if assess_lr else []\n",
    "cbs = [DeviceCB(device='cpu'), _snv, VAETrainCB(), metrics, ProgressCB(plot=False)]\n",
    "learn = Learner(model, dls, loss_function, lr=lr, cbs=cbs, opt_func=optim.AdamW)"
   ]
  },
  {
   "cell_type": "code",
   "execution_count": null,
   "metadata": {},
   "outputs": [
    {
     "data": {
      "text/html": [
       "\n",
       "<style>\n",
       "    /* Turns off some styling */\n",
       "    progress {\n",
       "        /* gets rid of default border in Firefox and Opera. */\n",
       "        border: none;\n",
       "        /* Needs to be in here for Safari polyfill so background images work as expected. */\n",
       "        background-size: auto;\n",
       "    }\n",
       "    progress:not([value]), progress:not([value])::-webkit-progress-bar {\n",
       "        background: repeating-linear-gradient(45deg, #7e7e7e, #7e7e7e 10px, #5c5c5c 10px, #5c5c5c 20px);\n",
       "    }\n",
       "    .progress-bar-interrupted, .progress-bar-interrupted::-webkit-progress-bar {\n",
       "        background: #F44336;\n",
       "    }\n",
       "</style>\n"
      ],
      "text/plain": [
       "<IPython.core.display.HTML object>"
      ]
     },
     "metadata": {},
     "output_type": "display_data"
    },
    {
     "data": {
      "text/html": [
       "\n",
       "    <div>\n",
       "      <progress value='0' class='' max='10' style='width:300px; height:20px; vertical-align: middle;'></progress>\n",
       "      0.00% [0/10 00:00&lt;?]\n",
       "    </div>\n",
       "    \n",
       "\n",
       "\n",
       "    <div>\n",
       "      <progress value='0' class='' max='4' style='width:300px; height:20px; vertical-align: middle;'></progress>\n",
       "      0.00% [0/4 00:00&lt;?]\n",
       "    </div>\n",
       "    "
      ],
      "text/plain": [
       "<IPython.core.display.HTML object>"
      ]
     },
     "metadata": {},
     "output_type": "display_data"
    },
    {
     "data": {
      "image/png": "[encoded data removed]",
      "text/plain": [
       "<Figure size 640x480 with 1 Axes>"
      ]
     },
     "metadata": {},
     "output_type": "display_data"
    }
   ],
   "source": [
    "learn.lr_find()"
   ]
  },
  {
   "cell_type": "code",
   "execution_count": null,
   "metadata": {},
   "outputs": [
    {
     "data": {
      "text/html": [
       "\n",
       "<style>\n",
       "    /* Turns off some styling */\n",
       "    progress {\n",
       "        /* gets rid of default border in Firefox and Opera. */\n",
       "        border: none;\n",
       "        /* Needs to be in here for Safari polyfill so background images work as expected. */\n",
       "        background-size: auto;\n",
       "    }\n",
       "    progress:not([value]), progress:not([value])::-webkit-progress-bar {\n",
       "        background: repeating-linear-gradient(45deg, #7e7e7e, #7e7e7e 10px, #5c5c5c 10px, #5c5c5c 20px);\n",
       "    }\n",
       "    .progress-bar-interrupted, .progress-bar-interrupted::-webkit-progress-bar {\n",
       "        background: #F44336;\n",
       "    }\n",
       "</style>\n"
      ],
      "text/plain": [
       "<IPython.core.display.HTML object>"
      ]
     },
     "metadata": {},
     "output_type": "display_data"
    },
    {
     "data": {
      "text/html": [
       "<table border=\"1\" class=\"dataframe\">\n",
       "  <thead>\n",
       "    <tr style=\"text-align: left;\">\n",
       "      <th>mse</th>\n",
       "      <th>loss</th>\n",
       "      <th>epoch</th>\n",
       "      <th>train</th>\n",
       "    </tr>\n",
       "  </thead>\n",
       "  <tbody>\n",
       "    <tr>\n",
       "      <td>0.872</td>\n",
       "      <td>1.327</td>\n",
       "      <td>0</td>\n",
       "      <td>train</td>\n",
       "    </tr>\n",
       "    <tr>\n",
       "      <td>0.383</td>\n",
       "      <td>0.390</td>\n",
       "      <td>0</td>\n",
       "      <td>eval</td>\n",
       "    </tr>\n",
       "    <tr>\n",
       "      <td>0.334</td>\n",
       "      <td>0.337</td>\n",
       "      <td>1</td>\n",
       "      <td>train</td>\n",
       "    </tr>\n",
       "    <tr>\n",
       "      <td>0.318</td>\n",
       "      <td>0.322</td>\n",
       "      <td>1</td>\n",
       "      <td>eval</td>\n",
       "    </tr>\n",
       "  </tbody>\n",
       "</table>"
      ],
      "text/plain": [
       "<IPython.core.display.HTML object>"
      ]
     },
     "metadata": {},
     "output_type": "display_data"
    }
   ],
   "source": [
    "model = CVAE(nfs=(8,16,32,64), z_dim=2)\n",
    "epochs = 2\n",
    "lr = 1e-4\n",
    "\n",
    "metrics = MetricsCB(mse=MeanSquaredError())\n",
    "\n",
    "tmax = epochs * len(dls.train)\n",
    "sched = partial(lr_scheduler.OneCycleLR, max_lr=lr, total_steps=tmax)\n",
    "\n",
    "_snv = BatchTransformCB(SNVTfm())\n",
    "xtra = [BatchSchedCB(sched)]\n",
    "cbs = [DeviceCB(device='cpu'), _snv, VAETrainCB(), metrics, ProgressCB(plot=False)]\n",
    "\n",
    "learn = Learner(model, dls, loss_function, lr=lr, cbs=cbs+xtra, opt_func=optim.AdamW)\n",
    "# learn = Learner(model, dls, loss_function, lr=lr, cbs=cbs, opt_func=optim.AdamW)\n",
    "\n",
    "learn.fit(epochs)"
   ]
  },
  {
   "cell_type": "code",
   "execution_count": null,
   "metadata": {},
   "outputs": [],
   "source": [
    "X_recon = learn.model(learn.batch[0])[0]"
   ]
  },
  {
   "cell_type": "code",
   "execution_count": null,
   "metadata": {},
   "outputs": [
    {
     "data": {
      "text/plain": [
       "torch.Size([64, 1, 1676])"
      ]
     },
     "execution_count": null,
     "metadata": {},
     "output_type": "execute_result"
    }
   ],
   "source": [
    "X_recon.shape"
   ]
  },
  {
   "cell_type": "code",
   "execution_count": null,
   "metadata": {},
   "outputs": [
    {
     "data": {
      "text/plain": [
       "<Figure size 640x480 with 0 Axes>"
      ]
     },
     "metadata": {},
     "output_type": "display_data"
    },
    {
     "data": {
      "image/png": "[encoded data removed]",
      "text/plain": [
       "<Figure size 2000x400 with 1 Axes>"
      ]
     },
     "metadata": {},
     "output_type": "display_data"
    }
   ],
   "source": [
    "idx = 4\n",
    "plot_spectra(learn.batch[0][idx].squeeze(1).cpu(), X_names, alpha=0.5, sample=1)"
   ]
  },
  {
   "cell_type": "code",
   "execution_count": null,
   "metadata": {},
   "outputs": [
    {
     "data": {
      "text/plain": [
       "<Figure size 640x480 with 0 Axes>"
      ]
     },
     "metadata": {},
     "output_type": "display_data"
    },
    {
     "data": {
      "image/png": "[encoded data removed]",
      "text/plain": [
       "<Figure size 2000x400 with 1 Axes>"
      ]
     },
     "metadata": {},
     "output_type": "display_data"
    }
   ],
   "source": [
    "plot_spectra(X_recon[idx].cpu().detach().numpy(), X_names, alpha=0.5, sample=1)"
   ]
  },
  {
   "cell_type": "code",
   "execution_count": null,
   "metadata": {},
   "outputs": [],
   "source": [
    "# def conv_output_size(n, p, ks, s):\n",
    "#     return 1 + ((n + 2*p - ks) // s)\n",
    "\n",
    "# n = 1676\n",
    "# p = 1\n",
    "# ks = 3\n",
    "# s = 2\n",
    "# conv_output_size(n, p, ks, s)\n",
    "# n = 838\n",
    "# conv_output_size(n, p, ks, s)"
   ]
  },
  {
   "cell_type": "markdown",
   "metadata": {},
   "source": [
    "### VAE\n",
    "\n",
    "Resources:\n",
    "- https://medium.com/@rekalantar/variational-auto-encoder-vae-pytorch-tutorial-dce2d2fe0f5f"
   ]
  },
  {
   "cell_type": "code",
   "execution_count": null,
   "metadata": {},
   "outputs": [],
   "source": [
    "# Define the Encoder\n",
    "# class Encoder(nn.Module):\n",
    "#     def __init__(self, input_dim, hidden_dim, z_dim):\n",
    "#         super(Encoder, self).__init__()\n",
    "#         self.fc1 = nn.Linear(input_dim, hidden_dim)\n",
    "#         self.fc_mu = nn.Linear(hidden_dim, z_dim)\n",
    "#         self.fc_logvar = nn.Linear(hidden_dim, z_dim)\n",
    "\n",
    "#     def forward(self, x):\n",
    "#         x = torch.relu(self.fc1(x))\n",
    "#         mu = self.fc_mu(x)\n",
    "#         logvar = self.fc_logvar(x)\n",
    "#         return mu, logvar\n",
    "\n",
    "# # Define the Decoder\n",
    "# class Decoder(nn.Module):\n",
    "#     def __init__(self, z_dim, hidden_dim, output_dim):\n",
    "#         super(Decoder, self).__init__()\n",
    "#         self.fc1 = nn.Linear(z_dim, hidden_dim)\n",
    "#         self.fc2 = nn.Linear(hidden_dim, output_dim)\n",
    "\n",
    "#     def forward(self, x):\n",
    "#         x = torch.relu(self.fc1(x))\n",
    "#         x = torch.sigmoid(self.fc2(x))\n",
    "#         return x\n",
    "\n",
    "# # Define the Variational Autoencoder (VAE)\n",
    "# class FCVAE(nn.Module):\n",
    "#     def __init__(self, input_dim, hidden_dim, z_dim):\n",
    "#         super(FCVAE, self).__init__()\n",
    "#         self.encoder = Encoder(input_dim, hidden_dim, z_dim)\n",
    "#         self.decoder = Decoder(z_dim, hidden_dim, input_dim)\n",
    "\n",
    "#     def reparameterize(self, mu, logvar):\n",
    "#         std = torch.exp(0.5*logvar)\n",
    "#         eps = torch.randn_like(std)\n",
    "#         return mu + eps*std\n",
    "\n",
    "#     def forward(self, x, num_samples=1):\n",
    "#         mu, logvar = self.encoder(x)\n",
    "#         z = self.reparameterize(mu, logvar)\n",
    "        \n",
    "#         # Generating multiple samples\n",
    "#         outputs = []\n",
    "#         for _ in range(num_samples):\n",
    "#             z_sample = self.reparameterize(mu, logvar)\n",
    "#             outputs.append(self.decoder(z_sample))\n",
    "        \n",
    "#         if num_samples == 1:\n",
    "#             return torch.stack(outputs).mean(axis=0), mu, logvar\n",
    "#         else:\n",
    "#             return torch.stack(outputs), mu, logvar\n",
    "\n",
    "# # Define the VAE Loss function\n",
    "# def vae_loss(reconstructed_x, x, mu, logvar):\n",
    "#     # Reconstruction loss (MSE)\n",
    "#     recon_loss = nn.MSELoss()(reconstructed_x, x)\n",
    "#     # KL divergence loss\n",
    "#     kl_loss = -0.5 * torch.sum(1 + logvar - mu.pow(2) - logvar.exp())\n",
    "#     return recon_loss + kl_loss"
   ]
  },
  {
   "cell_type": "code",
   "execution_count": null,
   "metadata": {},
   "outputs": [],
   "source": [
    "# class Encoder(nn.Module):\n",
    "#     def __init__(self, input_dim, hidden_dim, z_dim):\n",
    "#         super(Encoder, self).__init__()\n",
    "#         self.fc1 = nn.Linear(input_dim, hidden_dim)\n",
    "#         self.fc_mu = nn.Linear(hidden_dim, z_dim)\n",
    "#         self.fc_logvar = nn.Linear(hidden_dim, z_dim)\n",
    "\n",
    "#     def forward(self, x):\n",
    "#         x = torch.relu(self.fc1(x))\n",
    "#         mu = self.fc_mu(x)\n",
    "#         logvar = self.fc_logvar(x)\n",
    "#         return mu, logvar\n",
    "\n",
    "# # Define the Decoder\n",
    "# class Decoder(nn.Module):\n",
    "#     def __init__(self, z_dim, hidden_dim, output_dim):\n",
    "#         super(Decoder, self).__init__()\n",
    "#         self.fc1 = nn.Linear(z_dim, hidden_dim)\n",
    "#         self.fc2 = nn.Linear(hidden_dim, output_dim)\n",
    "\n",
    "#     def forward(self, x):\n",
    "#         x = torch.relu(self.fc1(x))\n",
    "#         x = torch.sigmoid(self.fc2(x))\n",
    "#         return x\n",
    "\n",
    "# # Define the Variational Autoencoder (VAE)\n",
    "# class FCVAE(nn.Module):\n",
    "#     def __init__(self, input_dim, hidden_dim, z_dim):\n",
    "#         super(FCVAE, self).__init__()\n",
    "#         self.encoder = Encoder(input_dim, hidden_dim, z_dim)\n",
    "#         self.decoder = Decoder(z_dim, hidden_dim, input_dim)\n",
    "\n",
    "#     def reparameterize(self, mu, logvar):\n",
    "#         std = torch.exp(0.5*logvar)\n",
    "#         eps = torch.randn_like(std)\n",
    "#         return mu + eps*std\n",
    "\n",
    "#     def forward(self, x, num_samples=1):\n",
    "#         mu, logvar = self.encoder(x)\n",
    "#         z = self.reparameterize(mu, logvar)\n",
    "        \n",
    "#         # Generating multiple samples\n",
    "#         outputs = []\n",
    "#         for _ in range(num_samples):\n",
    "#             z_sample = self.reparameterize(mu, logvar)\n",
    "#             outputs.append(self.decoder(z_sample))\n",
    "        \n",
    "#         if num_samples == 1:\n",
    "#             return torch.stack(outputs).mean(axis=0), mu, logvar\n",
    "#         else:\n",
    "#             return torch.stack(outputs), mu, logvar\n",
    "\n",
    "# # Define the VAE Loss function\n",
    "# def vae_loss(reconstructed_x, x, mu, logvar):\n",
    "#     # Reconstruction loss (MSE)\n",
    "#     # recon_loss = nn.MSELoss()(reconstructed_x, x)\n",
    "#     recon_loss = nn.functional.binary_cross_entropy(reconstructed_x, x, reduction='sum')\n",
    "#     # KL divergence loss\n",
    "#     kl_loss = -0.5 * torch.sum(1 + logvar - mu.pow(2) - logvar.exp())\n",
    "#     return recon_loss + kl_loss"
   ]
  },
  {
   "cell_type": "code",
   "execution_count": null,
   "metadata": {},
   "outputs": [],
   "source": [
    "# Example Usage\n",
    "# input_dim = 1676  \n",
    "# hidden_dim = 512  \n",
    "# z_dim = 64  \n",
    "\n",
    "# vae = FCVAE(input_dim, hidden_dim, z_dim)\n",
    "# optimizer = optim.Adam(vae.parameters(), lr=0.001)\n",
    "\n",
    "# # Assuming a trained VAE\n",
    "# sample_spectrum = torch.rand(32, input_dim)  # For demonstration purposes\n",
    "# print(sample_spectrum.shape)\n",
    "# replicates, _, _ = vae(sample_spectrum, num_samples=1)  # Generating 10 replicates\n",
    "\n",
    "# print(replicates.shape)  # Should return torch.Size([10, 1, 1600])\n"
   ]
  },
  {
   "cell_type": "code",
   "execution_count": null,
   "metadata": {},
   "outputs": [],
   "source": [
    "# def lin(ni, nf, act=nn.SiLU, norm=nn.BatchNorm1d, bias=True):\n",
    "#     layers = nn.Sequential(nn.Linear(ni, nf, bias=bias))\n",
    "#     if act : layers.append(act())\n",
    "#     if norm: layers.append(norm(nf))\n",
    "#     return layers"
   ]
  },
  {
   "cell_type": "code",
   "execution_count": null,
   "metadata": {},
   "outputs": [],
   "source": [
    "# torch.nn.Conv1d(in_channels, out_channels, kernel_size, stride=1, padding=0,"
   ]
  },
  {
   "cell_type": "code",
   "execution_count": null,
   "metadata": {},
   "outputs": [],
   "source": [
    "# def conv(in_channels, \n",
    "#          out_channels, \n",
    "#          kernel_size=3,\n",
    "#          stride=2, \n",
    "#          act=nn.SiLU, \n",
    "#          norm=nn.BatchNorm1d, bias=True):\n",
    "#     layers = nn.Sequential(nn.Conv1d(in_channels, out_channels, kernel_size, stride, padding=1))\n",
    "#     if act : layers.append(act())\n",
    "#     if norm: layers.append(norm(out_channels))\n",
    "#     return layers"
   ]
  },
  {
   "cell_type": "code",
   "execution_count": null,
   "metadata": {},
   "outputs": [],
   "source": [
    "# conv(1, 16)(first_batch[0]).shape"
   ]
  },
  {
   "cell_type": "code",
   "execution_count": null,
   "metadata": {},
   "outputs": [],
   "source": []
  },
  {
   "cell_type": "code",
   "execution_count": null,
   "metadata": {},
   "outputs": [
    {
     "data": {
      "text/plain": [
       "torch.Size([32, 64, 210])"
      ]
     },
     "execution_count": null,
     "metadata": {},
     "output_type": "execute_result"
    }
   ],
   "source": [
    "conv1 = conv(1, 16)\n",
    "conv2 = conv(16, 32)\n",
    "# conv3 = conv(32, 64)\n",
    "\n",
    "conv3(conv2(conv1(first_batch[0]))).shape"
   ]
  },
  {
   "cell_type": "code",
   "execution_count": null,
   "metadata": {},
   "outputs": [
    {
     "data": {
      "text/plain": [
       "13440"
      ]
     },
     "execution_count": null,
     "metadata": {},
     "output_type": "execute_result"
    }
   ],
   "source": [
    "64*210"
   ]
  },
  {
   "cell_type": "code",
   "execution_count": null,
   "metadata": {},
   "outputs": [],
   "source": [
    "# # Basic 1D CVAE\n",
    "# # Convolutional Variational Autoencoder\n",
    "\n",
    "# # Define the Encoder\n",
    "class Encoder(nn.Module):\n",
    "    def __init__(self, z_dim=2):\n",
    "        super(Encoder, self).__init__()\n",
    "        self.conv1 = conv(1, 16)\n",
    "        self.conv2 = conv(16, 32)\n",
    "        # self.dropout1 = nn.Dropout(0.5)\n",
    "        self.fc_mu = nn.Linear(32 * 419, z_dim)  # Assuming that the output is 419 after the conv layers\n",
    "        self.fc_logvar = nn.Linear(32 * 419, z_dim)\n",
    "        # iw(self)\n",
    "        \n",
    "\n",
    "    def forward(self, x):\n",
    "        x = self.conv1(x)\n",
    "        x = self.conv2(x)\n",
    "        x = x.view(x.size(0), -1)  # Flatten the output\n",
    "        # x = self.dropout1(x)\n",
    "        mu = self.fc_mu(x)\n",
    "        print(mu.shape)\n",
    "        logvar = self.fc_logvar(x)\n",
    "        print(logvar.shape)\n",
    "        return mu, logvar\n",
    "\n",
    "# Define the Decoder\n",
    "class Decoder(nn.Module):\n",
    "    def __init__(self, z_dim=2):\n",
    "        super(Decoder, self).__init__()\n",
    "        self.fc = nn.Linear(z_dim, 32 * 419)\n",
    "        # self.dropout1 = nn.Dropout(0.5)\n",
    "        self.deconv1 = nn.ConvTranspose1d(32, 16, 3, stride=2, padding=1, output_padding=1)\n",
    "        self.deconv2 = nn.ConvTranspose1d(16, 1, 3, stride=2, padding=1, output_padding=1)\n",
    "        # self.avgpool = nn.AvgPool1d(3, stride=1, padding=1)\n",
    "        # iw(self)\n",
    "\n",
    "    def forward(self, x):\n",
    "        x = self.fc(x)\n",
    "        x = x.view(x.size(0), 32, 419)  # Reshape back to a volume\n",
    "        x = torch.relu(self.deconv1(x))\n",
    "        # x = self.avgpool(x)\n",
    "        # x = torch.sigmoid(self.deconv2(x))  # Sigmoid for binary cross-entropy loss\n",
    "        x = self.deconv2(x)\n",
    "        # x = self.avgpool(x)\n",
    "        # x = self.avgpool(x)\n",
    "        return x\n",
    "\n",
    "# Define the Variational Autoencoder (VAE)\n",
    "class CVAE(nn.Module):\n",
    "    def __init__(self, z_dim=2):\n",
    "        super(CVAE, self).__init__()\n",
    "        self.encoder = Encoder(z_dim)\n",
    "        self.decoder = Decoder(z_dim)\n",
    "\n",
    "    def reparameterize(self, mu, logvar):\n",
    "        std = torch.exp(0.5*logvar)\n",
    "        eps = torch.randn_like(std)\n",
    "        return mu + eps*std\n",
    "\n",
    "    def forward(self, x):\n",
    "        mu, logvar = self.encoder(x)\n",
    "        z = self.reparameterize(mu, logvar)\n",
    "        print('z dim', z.shape)\n",
    "        return self.decoder(z), mu, logvar"
   ]
  },
  {
   "cell_type": "code",
   "execution_count": null,
   "metadata": {},
   "outputs": [
    {
     "data": {
      "text/plain": [
       "torch.Size([32, 1, 1676])"
      ]
     },
     "execution_count": null,
     "metadata": {},
     "output_type": "execute_result"
    }
   ],
   "source": [
    "first_batch[0].shape"
   ]
  },
  {
   "cell_type": "code",
   "execution_count": null,
   "metadata": {},
   "outputs": [
    {
     "name": "stdout",
     "output_type": "stream",
     "text": [
      "torch.Size([32, 2])\n",
      "torch.Size([32, 2])\n",
      "z dim torch.Size([32, 2])\n"
     ]
    },
    {
     "data": {
      "text/plain": [
       "torch.Size([32, 1, 1676])"
      ]
     },
     "execution_count": null,
     "metadata": {},
     "output_type": "execute_result"
    }
   ],
   "source": [
    "CVAE()(first_batch[0])[0].shape"
   ]
  },
  {
   "cell_type": "code",
   "execution_count": null,
   "metadata": {},
   "outputs": [],
   "source": [
    "class ResidualBlock1D(nn.Module):\n",
    "    def __init__(self, in_channels, out_channels, stride=1, downsample=None):\n",
    "        super(ResidualBlock1D, self).__init__()\n",
    "        self.conv1 = nn.Conv1d(in_channels, out_channels, kernel_size=3, \n",
    "                               stride=stride, padding=1, bias=False)\n",
    "        self.bn1 = nn.BatchNorm1d(out_channels)\n",
    "        self.conv2 = nn.Conv1d(out_channels, out_channels, kernel_size=3, \n",
    "                               stride=1, padding=1, bias=False)\n",
    "        self.bn2 = nn.BatchNorm1d(out_channels)\n",
    "        self.downsample = downsample\n",
    "        \n",
    "    def forward(self, x):\n",
    "        identity = x\n",
    "\n",
    "        out = self.conv1(x)\n",
    "        out = self.bn1(out)\n",
    "        out = F.relu(out)\n",
    "\n",
    "        out = self.conv2(out)\n",
    "        out = self.bn2(out)\n",
    "\n",
    "        if self.downsample is not None:\n",
    "            identity = self.downsample(x)\n",
    "\n",
    "        out += identity\n",
    "        out = F.relu(out)\n",
    "        return out"
   ]
  },
  {
   "cell_type": "code",
   "execution_count": null,
   "metadata": {},
   "outputs": [],
   "source": [
    "class ResNet1D(nn.Module):\n",
    "    def __init__(self, block, layers, num_classes=10):\n",
    "        super(ResNet1D, self).__init__()\n",
    "        self.in_channels = 64\n",
    "        self.conv1 = nn.Conv1d(1, 64, kernel_size=7, stride=2, padding=3, bias=False)\n",
    "        self.bn1 = nn.BatchNorm1d(64)\n",
    "        self.relu = nn.ReLU(inplace=True)\n",
    "        self.maxpool = nn.MaxPool1d(kernel_size=3, stride=2, padding=1)\n",
    "        \n",
    "        self.layer1 = self._make_layer(block, 64, layers[0])\n",
    "        self.layer2 = self._make_layer(block, 128, layers[1], stride=2)\n",
    "        self.layer3 = self._make_layer(block, 256, layers[2], stride=2)\n",
    "        self.layer4 = self._make_layer(block, 512, layers[3], stride=2)\n",
    "        \n",
    "        self.avgpool = nn.AdaptiveAvgPool1d(1)\n",
    "        self.fc = nn.Linear(512, num_classes)\n",
    "\n",
    "    def _make_layer(self, block, out_channels, blocks, stride=1):\n",
    "        downsample = None\n",
    "        if stride != 1 or self.in_channels != out_channels:\n",
    "            downsample = nn.Sequential(\n",
    "                nn.Conv1d(self.in_channels, out_channels, kernel_size=1, stride=stride, bias=False),\n",
    "                nn.BatchNorm1d(out_channels),\n",
    "            )\n",
    "\n",
    "        layers = []\n",
    "        layers.append(block(self.in_channels, out_channels, stride, downsample))\n",
    "        self.in_channels = out_channels\n",
    "        for _ in range(1, blocks):\n",
    "            layers.append(block(out_channels, out_channels))\n",
    "\n",
    "        return nn.Sequential(*layers)\n",
    "\n",
    "    def forward(self, x):\n",
    "        x = self.conv1(x)\n",
    "        x = self.bn1(x)\n",
    "        x = self.relu(x)\n",
    "        x = self.maxpool(x)\n",
    "\n",
    "        x = self.layer1(x)\n",
    "        x = self.layer2(x)\n",
    "        x = self.layer3(x)\n",
    "        x = self.layer4(x)\n",
    "\n",
    "        x = self.avgpool(x)\n",
    "        x = torch.flatten(x, 1)\n",
    "        x = self.fc(x)\n",
    "        return x\n",
    "        \n",
    "# Example: ResNet with 3 blocks in each layer\n",
    "model = ResNet1D(ResidualBlock1D, [3, 3, 3, 3])\n",
    "\n",
    "# Example input (batch_size, channels, length)\n",
    "input = torch.randn(1, 1, 256)\n",
    "output = model(input)"
   ]
  },
  {
   "cell_type": "code",
   "execution_count": null,
   "metadata": {},
   "outputs": [
    {
     "data": {
      "text/plain": [
       "torch.Size([1, 10])"
      ]
     },
     "execution_count": null,
     "metadata": {},
     "output_type": "execute_result"
    }
   ],
   "source": [
    "output.shape"
   ]
  },
  {
   "cell_type": "code",
   "execution_count": null,
   "metadata": {},
   "outputs": [],
   "source": [
    "class ResNetEncoder1D(nn.Module):\n",
    "    # ... (Same as ResNet1D, but include the latent space representation)\n",
    "    def __init__(self, block, layers, latent_dim=20):\n",
    "        super(ResNetEncoder1D, self).__init__()\n",
    "        # ... (Other initializations)\n",
    "        self.fc_mu = nn.Linear(512, latent_dim)\n",
    "        self.fc_log_var = nn.Linear(512, latent_dim)\n",
    "\n",
    "    def forward(self, x):\n",
    "        # ... (Same as ResNet1D forward pass up to avgpool)\n",
    "        x = self.avgpool(x)\n",
    "        x = torch.flatten(x, 1)\n",
    "        mu = self.fc_mu(x)\n",
    "        log_var = self.fc_log_var(x)\n",
    "        return mu, log_var\n",
    "    \n",
    "class ResNetDecoder1D(nn.Module):\n",
    "    def __init__(self, block, layers, latent_dim=20, output_channels=1):\n",
    "        super(ResNetDecoder1D, self).__init__()\n",
    "        self.initial_fc = nn.Linear(latent_dim, 512)\n",
    "\n",
    "        # Invert the ResNet layers\n",
    "        self.layer4 = self._make_layer(block, 256, layers[3], upsample=True)\n",
    "        self.layer3 = self._make_layer(block, 128, layers[2], upsample=True)\n",
    "        self.layer2 = self._make_layer(block, 64, layers[1], upsample=True)\n",
    "        self.layer1 = self._make_layer(block, output_channels, layers[0], upsample=True, final_layer=True)\n",
    "\n",
    "    def _make_layer(self, block, out_channels, blocks, upsample=False, final_layer=False):\n",
    "        layers = []\n",
    "        if upsample:\n",
    "            # Upsample at the beginning of the layer if it's not the first layer\n",
    "            layers.append(nn.Upsample(scale_factor=2, mode='linear', align_corners=True))\n",
    "\n",
    "        # Add residual blocks\n",
    "        for _ in range(blocks):\n",
    "            layers.append(block(out_channels, out_channels))\n",
    "\n",
    "        return nn.Sequential(*layers)\n",
    "\n",
    "    def forward(self, z):\n",
    "        x = F.relu(self.initial_fc(z))\n",
    "        x = x.view(-1, 512, 1)  # Reshape to match the expected input size for the transposed convolutions\n",
    "        x = self.layer4(x)\n",
    "        x = self.layer3(x)\n",
    "        x = self.layer2(x)\n",
    "        x = self.layer1(x)\n",
    "        return x"
   ]
  },
  {
   "cell_type": "code",
   "execution_count": null,
   "metadata": {},
   "outputs": [],
   "source": [
    "class VAE(nn.Module):\n",
    "    def __init__(self, block, layers, latent_dim=20, output_channels=1):\n",
    "        super(VAE, self).__init__()\n",
    "        self.encoder = ResNetEncoder1D(block, layers, latent_dim=latent_dim)\n",
    "        self.decoder = ResNetDecoder1D(block, layers, latent_dim=latent_dim, output_channels=output_channels)\n",
    "\n",
    "    def reparameterize(self, mu, log_var):\n",
    "        std = torch.exp(0.5 * log_var)\n",
    "        eps = torch.randn_like(std)\n",
    "        return mu + eps * std\n",
    "\n",
    "    def forward(self, x):\n",
    "        mu, log_var = self.encoder(x)\n",
    "        z = self.reparameterize(mu, log_var)\n",
    "        return self.decoder(z), mu, log_var\n",
    "\n",
    "# Example usage\n",
    "vae_model = VAE(ResidualBlock1D, [3, 3, 3, 3], latent_dim=20, output_channels=1)\n",
    "input = torch.randn(1, 1, 256)\n",
    "reconstructed, mu, log_var = vae_model(input)"
   ]
  },
  {
   "cell_type": "code",
   "execution_count": null,
   "metadata": {},
   "outputs": [],
   "source": []
  },
  {
   "cell_type": "code",
   "execution_count": null,
   "metadata": {},
   "outputs": [],
   "source": [
    "# x_decoded, mu, logvar = CVAE()(first_batch[0])"
   ]
  },
  {
   "cell_type": "code",
   "execution_count": null,
   "metadata": {},
   "outputs": [],
   "source": [
    "first_batch = next(iter(dls.train))"
   ]
  },
  {
   "cell_type": "code",
   "execution_count": null,
   "metadata": {},
   "outputs": [],
   "source": [
    "X_recon = learn.model(learn.batch[0])[0]\n",
    "idx = 4\n",
    "plot_spectra(learn.batch[0][idx].squeeze(1).cpu(), X_names, alpha=0.5, sample=1)\n",
    "plot_spectra(X_recon[idx].cpu().detach().numpy(), X_names, alpha=0.5, sample=1)"
   ]
  }
 ],
 "metadata": {
  "kernelspec": {
   "display_name": "python3",
   "language": "python",
   "name": "python3"
  }
 },
 "nbformat": 4,
 "nbformat_minor": 4
}

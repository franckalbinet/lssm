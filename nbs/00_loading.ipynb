{
 "cells": [
  {
   "cell_type": "markdown",
   "metadata": {},
   "source": [
    "# Loading\n",
    "\n",
    "> Utilities to load Soil Spectral Libraries (SSL) compiled by [OSSL](https://soilspectroscopy.github.io/ossl-manual/) and others."
   ]
  },
  {
   "cell_type": "code",
   "execution_count": 13,
   "metadata": {},
   "outputs": [],
   "source": [
    "# | default_exp loading"
   ]
  },
  {
   "cell_type": "code",
   "execution_count": 14,
   "metadata": {},
   "outputs": [
    {
     "name": "stdout",
     "output_type": "stream",
     "text": [
      "The autoreload extension is already loaded. To reload it, use:\n",
      "  %reload_ext autoreload\n"
     ]
    }
   ],
   "source": [
    "%load_ext autoreload\n",
    "%autoreload 2"
   ]
  },
  {
   "cell_type": "code",
   "execution_count": 15,
   "metadata": {},
   "outputs": [],
   "source": [
    "# | export\n",
    "from pathlib import Path\n",
    "from tqdm import tqdm\n",
    "from typing import Union, List\n",
    "import re\n",
    "import itertools\n",
    "import fastdownload as fd\n",
    "import fastcore.all as fc\n",
    "\n",
    "import pandas as pd\n",
    "import numpy as np\n",
    "from sklearn.preprocessing import LabelEncoder\n",
    "\n",
    "import warnings\n",
    "warnings.filterwarnings('ignore')"
   ]
  },
  {
   "cell_type": "code",
   "execution_count": 16,
   "metadata": {},
   "outputs": [],
   "source": [
    "# | export\n",
    "PATH_OSSL_ALL_L0_V1_2 = 'https://storage.googleapis.com/soilspec4gg-public/ossl_all_L0_v1.2.csv.gz'\n",
    "PATH_OSSL_ALL_L1_V1_2 = 'https://storage.googleapis.com/soilspec4gg-public/ossl_all_L0_v1.2.csv.gz'\n",
    "\n",
    "CFGS = {\n",
    "    'visnir': {'ref_col': 'scan_visnir.1500_ref', 'range': [400, 2500]},\n",
    "    'mir': {'ref_col': 'scan_mir.1500_abs', 'range': [600, 4000]}\n",
    "}"
   ]
  },
  {
   "cell_type": "code",
   "execution_count": 17,
   "metadata": {},
   "outputs": [],
   "source": [
    "# | export\n",
    "def download(url: str,  # url to dowload data from\n",
    "             dest_dir: str,  # directory to download data to\n",
    "             ) -> None:\n",
    "    \"Download data available at `url` into the `dest` directory (creates it on the way if does not exist).\"\n",
    "    if not dest_dir.exists():\n",
    "        fc.mkdir(dest_dir, parents=True)\n",
    "    return fd.download_url(url, dest_dir)"
   ]
  },
  {
   "cell_type": "code",
   "execution_count": 18,
   "metadata": {},
   "outputs": [],
   "source": [
    "# | export\n",
    "def load_ossl(analytes: Union[str, List[str]],  # Using OSSL's analytes naming conventions\n",
    "              spectra_type: str = 'visnir',  # Possible values: 'mir', 'visnir'\n",
    "              src: Path = Path.home() / '.lssm/data/ossl',  # directory containing the data\n",
    "              ):\n",
    "    \"Load all available OSSL data and filter it by spectra type and analytes of interest\"\n",
    "\n",
    "    url = PATH_OSSL_ALL_L1_V1_2\n",
    "    fname = src / Path(PATH_OSSL_ALL_L1_V1_2).name\n",
    "    if not fname.exists():\n",
    "        print('Downloading & saving to: ', str(fname))\n",
    "        download(url, src)\n",
    "\n",
    "    print('Reading & selecting data ...')\n",
    "\n",
    "    df = pd.read_csv(fname, compression='infer', low_memory=True)\n",
    "\n",
    "    analytes = [analytes] if isinstance(analytes, str) else analytes\n",
    "\n",
    "    subset = analytes + [CFGS[spectra_type]['ref_col']]\n",
    "    df = df.dropna(subset=subset)\n",
    "\n",
    "    cols_ref = [name for name in df.columns if f'scan_{spectra_type}.' in name]\n",
    "    X = df[cols_ref].values\n",
    "\n",
    "    y = df[analytes].values\n",
    "    smp_idx = df['id.layer_uuid_txt'].values\n",
    "\n",
    "    ds_name_encoder = LabelEncoder()\n",
    "    ds_name = ds_name_encoder.fit_transform(df['dataset.code_ascii_txt'])\n",
    "\n",
    "    pattern = r\"scan_{}\\.(\\d+)_\".format(spectra_type)\n",
    "    X_names = np.array([int(re.search(pattern, name).group(1)) for name in df.columns\n",
    "                        if re.search(pattern, name)])\n",
    "\n",
    "    lower_limit, upper_limit = CFGS[spectra_type]['range']\n",
    "    idxs = np.where((X_names >= lower_limit) & (X_names <= upper_limit))[0]\n",
    "\n",
    "    return X[:, idxs], y, X_names[idxs], smp_idx, ds_name, ds_name_encoder.classes_\n"
   ]
  },
  {
   "cell_type": "markdown",
   "metadata": {},
   "source": [
    "Example with Near-infrared data:"
   ]
  },
  {
   "cell_type": "code",
   "execution_count": 19,
   "metadata": {},
   "outputs": [
    {
     "name": "stdout",
     "output_type": "stream",
     "text": [
      "Reading & selecting data ...\n"
     ]
    },
    {
     "name": "stdout",
     "output_type": "stream",
     "text": [
      "(44489, 1051) (44489, 1)\n"
     ]
    }
   ],
   "source": [
    "# |eval: false\n",
    "analytes = 'k.ext_usda.a725_cmolc.kg'\n",
    "data = load_ossl(analytes, spectra_type='visnir')\n",
    "X, y, X_names, smp_idx, ds_name, ds_label = data\n",
    "\n",
    "print(X.shape, y.shape)"
   ]
  },
  {
   "cell_type": "markdown",
   "metadata": {},
   "source": [
    "Or with Mid-infrared ones:"
   ]
  },
  {
   "cell_type": "code",
   "execution_count": 20,
   "metadata": {},
   "outputs": [
    {
     "name": "stdout",
     "output_type": "stream",
     "text": [
      "Reading & selecting data ...\n"
     ]
    }
   ],
   "source": [
    "# |eval: false\n",
    "analytes = 'k.ext_usda.a725_cmolc.kg'\n",
    "data = load_ossl(analytes, spectra_type='mir')\n",
    "X, y, X_names, smp_idx, ds_name, ds_label = data\n"
   ]
  },
  {
   "cell_type": "code",
   "execution_count": 21,
   "metadata": {},
   "outputs": [
    {
     "data": {
      "text/plain": [
       "[('GARRETT.SSL', 183),\n",
       " ('ICRAF.ISRIC', 3672),\n",
       " ('KSSL.SSL', 53230),\n",
       " ('LUCAS.WOODWELL.SSL', 589)]"
      ]
     },
     "execution_count": 21,
     "metadata": {},
     "output_type": "execute_result"
    }
   ],
   "source": [
    "# |eval: false\n",
    "_, counts = np.unique(ds_name, return_counts=True)\n",
    "\n",
    "# Number of data points per data provider:\n",
    "list(zip(ds_label, counts))\n"
   ]
  },
  {
   "cell_type": "code",
   "execution_count": 22,
   "metadata": {},
   "outputs": [],
   "source": [
    "# | export\n",
    "def load_mirs_ring_trial(fname): return pd.read_csv(fname)\n"
   ]
  },
  {
   "cell_type": "markdown",
   "metadata": {},
   "source": [
    "Example:"
   ]
  },
  {
   "cell_type": "code",
   "execution_count": 23,
   "metadata": {},
   "outputs": [
    {
     "data": {
      "text/html": [
       "<div>\n",
       "<style scoped>\n",
       "    .dataframe tbody tr th:only-of-type {\n",
       "        vertical-align: middle;\n",
       "    }\n",
       "\n",
       "    .dataframe tbody tr th {\n",
       "        vertical-align: top;\n",
       "    }\n",
       "\n",
       "    .dataframe thead th {\n",
       "        text-align: right;\n",
       "    }\n",
       "</style>\n",
       "<table border=\"1\" class=\"dataframe\">\n",
       "  <thead>\n",
       "    <tr style=\"text-align: right;\">\n",
       "      <th></th>\n",
       "      <th>organization</th>\n",
       "      <th>sample_id</th>\n",
       "      <th>650</th>\n",
       "      <th>652</th>\n",
       "      <th>654</th>\n",
       "      <th>656</th>\n",
       "      <th>658</th>\n",
       "      <th>660</th>\n",
       "      <th>662</th>\n",
       "      <th>664</th>\n",
       "      <th>...</th>\n",
       "      <th>3982</th>\n",
       "      <th>3984</th>\n",
       "      <th>3986</th>\n",
       "      <th>3988</th>\n",
       "      <th>3990</th>\n",
       "      <th>3992</th>\n",
       "      <th>3994</th>\n",
       "      <th>3996</th>\n",
       "      <th>3998</th>\n",
       "      <th>4000</th>\n",
       "    </tr>\n",
       "  </thead>\n",
       "  <tbody>\n",
       "    <tr>\n",
       "      <th>0</th>\n",
       "      <td>Agrocares</td>\n",
       "      <td>RT_01</td>\n",
       "      <td>1.97644</td>\n",
       "      <td>1.97292</td>\n",
       "      <td>1.97015</td>\n",
       "      <td>1.96778</td>\n",
       "      <td>1.96656</td>\n",
       "      <td>1.96609</td>\n",
       "      <td>1.96656</td>\n",
       "      <td>1.96773</td>\n",
       "      <td>...</td>\n",
       "      <td>1.09917</td>\n",
       "      <td>1.09898</td>\n",
       "      <td>1.09877</td>\n",
       "      <td>1.09851</td>\n",
       "      <td>1.09827</td>\n",
       "      <td>1.09811</td>\n",
       "      <td>1.09797</td>\n",
       "      <td>1.09797</td>\n",
       "      <td>1.09797</td>\n",
       "      <td>1.09797</td>\n",
       "    </tr>\n",
       "    <tr>\n",
       "      <th>1</th>\n",
       "      <td>Agrocares</td>\n",
       "      <td>RT_02</td>\n",
       "      <td>2.48977</td>\n",
       "      <td>2.50440</td>\n",
       "      <td>2.51282</td>\n",
       "      <td>2.51789</td>\n",
       "      <td>2.51765</td>\n",
       "      <td>2.51403</td>\n",
       "      <td>2.50914</td>\n",
       "      <td>2.50330</td>\n",
       "      <td>...</td>\n",
       "      <td>1.24065</td>\n",
       "      <td>1.24042</td>\n",
       "      <td>1.24015</td>\n",
       "      <td>1.23977</td>\n",
       "      <td>1.23938</td>\n",
       "      <td>1.23896</td>\n",
       "      <td>1.23861</td>\n",
       "      <td>1.23861</td>\n",
       "      <td>1.23861</td>\n",
       "      <td>1.23861</td>\n",
       "    </tr>\n",
       "    <tr>\n",
       "      <th>2</th>\n",
       "      <td>Agrocares</td>\n",
       "      <td>RT_03</td>\n",
       "      <td>2.63074</td>\n",
       "      <td>2.63082</td>\n",
       "      <td>2.63692</td>\n",
       "      <td>2.64624</td>\n",
       "      <td>2.64827</td>\n",
       "      <td>2.64566</td>\n",
       "      <td>2.63292</td>\n",
       "      <td>2.61260</td>\n",
       "      <td>...</td>\n",
       "      <td>1.25036</td>\n",
       "      <td>1.24959</td>\n",
       "      <td>1.24877</td>\n",
       "      <td>1.24777</td>\n",
       "      <td>1.24679</td>\n",
       "      <td>1.24585</td>\n",
       "      <td>1.24505</td>\n",
       "      <td>1.24505</td>\n",
       "      <td>1.24505</td>\n",
       "      <td>1.24505</td>\n",
       "    </tr>\n",
       "    <tr>\n",
       "      <th>3</th>\n",
       "      <td>Agrocares</td>\n",
       "      <td>RT_04</td>\n",
       "      <td>2.27312</td>\n",
       "      <td>2.26257</td>\n",
       "      <td>2.25124</td>\n",
       "      <td>2.23949</td>\n",
       "      <td>2.23315</td>\n",
       "      <td>2.23026</td>\n",
       "      <td>2.22792</td>\n",
       "      <td>2.22598</td>\n",
       "      <td>...</td>\n",
       "      <td>1.15192</td>\n",
       "      <td>1.15176</td>\n",
       "      <td>1.15158</td>\n",
       "      <td>1.15132</td>\n",
       "      <td>1.15106</td>\n",
       "      <td>1.15080</td>\n",
       "      <td>1.15058</td>\n",
       "      <td>1.15058</td>\n",
       "      <td>1.15058</td>\n",
       "      <td>1.15058</td>\n",
       "    </tr>\n",
       "    <tr>\n",
       "      <th>4</th>\n",
       "      <td>Agrocares</td>\n",
       "      <td>RT_05</td>\n",
       "      <td>2.26744</td>\n",
       "      <td>2.25584</td>\n",
       "      <td>2.24658</td>\n",
       "      <td>2.23859</td>\n",
       "      <td>2.23159</td>\n",
       "      <td>2.22521</td>\n",
       "      <td>2.22157</td>\n",
       "      <td>2.22000</td>\n",
       "      <td>...</td>\n",
       "      <td>1.16109</td>\n",
       "      <td>1.16106</td>\n",
       "      <td>1.16102</td>\n",
       "      <td>1.16095</td>\n",
       "      <td>1.16086</td>\n",
       "      <td>1.16070</td>\n",
       "      <td>1.16056</td>\n",
       "      <td>1.16056</td>\n",
       "      <td>1.16056</td>\n",
       "      <td>1.16056</td>\n",
       "    </tr>\n",
       "  </tbody>\n",
       "</table>\n",
       "<p>5 rows × 1678 columns</p>\n",
       "</div>"
      ],
      "text/plain": [
       "  organization sample_id      650      652      654      656      658  \\\n",
       "0    Agrocares     RT_01  1.97644  1.97292  1.97015  1.96778  1.96656   \n",
       "1    Agrocares     RT_02  2.48977  2.50440  2.51282  2.51789  2.51765   \n",
       "2    Agrocares     RT_03  2.63074  2.63082  2.63692  2.64624  2.64827   \n",
       "3    Agrocares     RT_04  2.27312  2.26257  2.25124  2.23949  2.23315   \n",
       "4    Agrocares     RT_05  2.26744  2.25584  2.24658  2.23859  2.23159   \n",
       "\n",
       "       660      662      664  ...     3982     3984     3986     3988  \\\n",
       "0  1.96609  1.96656  1.96773  ...  1.09917  1.09898  1.09877  1.09851   \n",
       "1  2.51403  2.50914  2.50330  ...  1.24065  1.24042  1.24015  1.23977   \n",
       "2  2.64566  2.63292  2.61260  ...  1.25036  1.24959  1.24877  1.24777   \n",
       "3  2.23026  2.22792  2.22598  ...  1.15192  1.15176  1.15158  1.15132   \n",
       "4  2.22521  2.22157  2.22000  ...  1.16109  1.16106  1.16102  1.16095   \n",
       "\n",
       "      3990     3992     3994     3996     3998     4000  \n",
       "0  1.09827  1.09811  1.09797  1.09797  1.09797  1.09797  \n",
       "1  1.23938  1.23896  1.23861  1.23861  1.23861  1.23861  \n",
       "2  1.24679  1.24585  1.24505  1.24505  1.24505  1.24505  \n",
       "3  1.15106  1.15080  1.15058  1.15058  1.15058  1.15058  \n",
       "4  1.16086  1.16070  1.16056  1.16056  1.16056  1.16056  \n",
       "\n",
       "[5 rows x 1678 columns]"
      ]
     },
     "execution_count": 23,
     "metadata": {},
     "output_type": "execute_result"
    }
   ],
   "source": [
    "# |eval: false\n",
    "fname = Path().home() / \\\n",
    "    'pro/data/woodwell-ringtrial/drive-download-20231013T123706Z-001/RT_STD_allMIRspectra_raw.csv'\n",
    "df = load_mirs_ring_trial(fname)\n",
    "df.head()\n"
   ]
  },
  {
   "cell_type": "code",
   "execution_count": 24,
   "metadata": {},
   "outputs": [],
   "source": [
    "# | export\n",
    "def get_spectra_pair_idxs(df):\n",
    "    \"\"\"\n",
    "    Retrieve index pairs of replicated spectra, representing measurements taken from the same soil sample\n",
    "    but using different instruments.\n",
    "    \"\"\"\n",
    "    pair_idxs = []\n",
    "    for smp_id in df.sample_id.unique():\n",
    "        indices = df[df.sample_id == smp_id].index\n",
    "        pair_idxs.extend(list(itertools.product(indices, repeat=2)))\n",
    "    return pair_idxs\n"
   ]
  },
  {
   "cell_type": "markdown",
   "metadata": {},
   "source": [
    "Example:"
   ]
  },
  {
   "cell_type": "code",
   "execution_count": 44,
   "metadata": {},
   "outputs": [
    {
     "data": {
      "text/html": [
       "<div>\n",
       "<style scoped>\n",
       "    .dataframe tbody tr th:only-of-type {\n",
       "        vertical-align: middle;\n",
       "    }\n",
       "\n",
       "    .dataframe tbody tr th {\n",
       "        vertical-align: top;\n",
       "    }\n",
       "\n",
       "    .dataframe thead th {\n",
       "        text-align: right;\n",
       "    }\n",
       "</style>\n",
       "<table border=\"1\" class=\"dataframe\">\n",
       "  <thead>\n",
       "    <tr style=\"text-align: right;\">\n",
       "      <th></th>\n",
       "      <th>sample_id</th>\n",
       "    </tr>\n",
       "  </thead>\n",
       "  <tbody>\n",
       "    <tr>\n",
       "      <th>0</th>\n",
       "      <td>0</td>\n",
       "    </tr>\n",
       "    <tr>\n",
       "      <th>1</th>\n",
       "      <td>0</td>\n",
       "    </tr>\n",
       "    <tr>\n",
       "      <th>2</th>\n",
       "      <td>1</td>\n",
       "    </tr>\n",
       "    <tr>\n",
       "      <th>3</th>\n",
       "      <td>1</td>\n",
       "    </tr>\n",
       "  </tbody>\n",
       "</table>\n",
       "</div>"
      ],
      "text/plain": [
       "   sample_id\n",
       "0          0\n",
       "1          0\n",
       "2          1\n",
       "3          1"
      ]
     },
     "execution_count": 44,
     "metadata": {},
     "output_type": "execute_result"
    }
   ],
   "source": [
    "df_test = pd.DataFrame({'sample_id': [0,0,1,1]}, index= [0,1,2,3]); df_test"
   ]
  },
  {
   "cell_type": "code",
   "execution_count": 45,
   "metadata": {},
   "outputs": [],
   "source": [
    "expected = [(0, 0), (0, 1), (1, 0), (1, 1), (2, 2), (2, 3), (3, 2), (3, 3)]\n",
    "fc.test_eq(get_spectra_pair_idxs(df_test), expected)"
   ]
  }
 ],
 "metadata": {
  "kernelspec": {
   "display_name": "python3",
   "language": "python",
   "name": "python3"
  },
  "language_info": {
   "codemirror_mode": {
    "name": "ipython",
    "version": 3
   },
   "file_extension": ".py",
   "mimetype": "text/x-python",
   "name": "python",
   "nbconvert_exporter": "python",
   "pygments_lexer": "ipython3",
   "version": "3.11.5"
  }
 },
 "nbformat": 4,
 "nbformat_minor": 4
}

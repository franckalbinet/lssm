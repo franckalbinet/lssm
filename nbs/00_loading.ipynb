{
 "cells": [
  {
   "cell_type": "markdown",
   "metadata": {},
   "source": [
    "# Loading\n",
    "\n",
    "> Utilities to load Soil Spectral Libraries (SSL) compiled by [OSSL](https://soilspectroscopy.github.io/ossl-manual/) and others."
   ]
  },
  {
   "cell_type": "code",
   "execution_count": 1,
   "metadata": {},
   "outputs": [],
   "source": [
    "#| default_exp loading"
   ]
  },
  {
   "cell_type": "code",
   "execution_count": 2,
   "metadata": {},
   "outputs": [],
   "source": [
    "%load_ext autoreload\n",
    "%autoreload 2"
   ]
  },
  {
   "cell_type": "code",
   "execution_count": 3,
   "metadata": {},
   "outputs": [],
   "source": [
    "#| export\n",
    "from pathlib import Path\n",
    "from tqdm import tqdm\n",
    "from typing import Union, List\n",
    "import re\n",
    "import fastdownload as fd\n",
    "import fastcore.all as fc\n",
    "\n",
    "import pandas as pd\n",
    "import numpy as np\n",
    "from sklearn.preprocessing import LabelEncoder\n",
    "\n",
    "import warnings\n",
    "warnings.filterwarnings('ignore')"
   ]
  },
  {
   "cell_type": "code",
   "execution_count": 4,
   "metadata": {},
   "outputs": [],
   "source": [
    "# | export\n",
    "PATH_OSSL_ALL_L0_V1_2 = 'https://storage.googleapis.com/soilspec4gg-public/ossl_all_L0_v1.2.csv.gz'\n",
    "PATH_OSSL_ALL_L1_V1_2 = 'https://storage.googleapis.com/soilspec4gg-public/ossl_all_L0_v1.2.csv.gz'\n",
    "\n",
    "CFGS = {\n",
    "        'visnir': {'ref_col': 'scan_visnir.1500_ref', 'range': [400, 2500]},   \n",
    "        'mir': {'ref_col': 'scan_mir.1500_abs', 'range': [600, 4000]}\n",
    "    }                "
   ]
  },
  {
   "cell_type": "code",
   "execution_count": 27,
   "metadata": {},
   "outputs": [],
   "source": [
    "# | export\n",
    "def download(url, dest):\n",
    "    \"Download `given` url into `dest` (creates it on the way if does not exist) \"\n",
    "    if not dest.exists(): fc.mkdir(dest, parents=True)\n",
    "    return fd.download_url(url, dest)"
   ]
  },
  {
   "cell_type": "code",
   "execution_count": 20,
   "metadata": {},
   "outputs": [],
   "source": [
    "# | export\n",
    "def load_ossl(analytes: Union[str, List[str]], # Using OSSL's analytes naming conventions\n",
    "              spectra_type: str='visnir',  # Possible values: 'mir', 'visnir'\n",
    "              dest:Path=Path.home() / '.lssm/data/ossl', # directory containing the data\n",
    "              ):\n",
    "    \"Load all available OSSL data and filter it by spectra type and analytes of interest\"\n",
    "    \n",
    "    url = PATH_OSSL_ALL_L1_V1_2\n",
    "    fname = dest / Path(PATH_OSSL_ALL_L1_V1_2).name\n",
    "    if not fname.exists(): \n",
    "        print('Downloading & saving to: ', str(fname))\n",
    "        download(url, dest)\n",
    "    \n",
    "    print('Reading & selecting data ...')\n",
    "    \n",
    "    df = pd.read_csv(fname, compression='infer', low_memory=True)\n",
    "            \n",
    "    analytes = [analytes] if isinstance(analytes, str) else analytes\n",
    "        \n",
    "    subset = analytes + [CFGS[spectra_type]['ref_col']]\n",
    "    df = df.dropna(subset=subset)\n",
    "    \n",
    "    cols_ref = [name for name in df.columns if f'scan_{spectra_type}.' in name]\n",
    "    X = df[cols_ref].values\n",
    "\n",
    "    y = df[analytes].values\n",
    "    smp_idx = df['id.layer_uuid_txt'].values\n",
    "\n",
    "    ds_name_encoder = LabelEncoder()\n",
    "    ds_name = ds_name_encoder.fit_transform(df['dataset.code_ascii_txt'])\n",
    "    \n",
    "    pattern = r\"scan_{}\\.(\\d+)_\".format(spectra_type)\n",
    "    X_names = np.array([int(re.search(pattern, name).group(1)) for name in df.columns \n",
    "                        if re.search(pattern, name)])\n",
    "        \n",
    "    lower_limit, upper_limit = CFGS[spectra_type]['range']\n",
    "    idxs = np.where((X_names >= lower_limit) & (X_names <= upper_limit))[0]\n",
    "\n",
    "    return X[:,idxs], y, X_names[idxs], smp_idx, ds_name, ds_name_encoder.classes_\n"
   ]
  },
  {
   "cell_type": "markdown",
   "metadata": {},
   "source": [
    "Example:"
   ]
  },
  {
   "cell_type": "code",
   "execution_count": 28,
   "metadata": {},
   "outputs": [
    {
     "name": "stdout",
     "output_type": "stream",
     "text": [
      "Reading & selecting data ...\n",
      "(44489, 1051) (44489, 1)\n"
     ]
    }
   ],
   "source": [
    "#|eval: false\n",
    "analytes = 'k.ext_usda.a725_cmolc.kg'\n",
    "data = load_ossl(analytes, spectra_type='visnir')\n",
    "X, y, X_names, smp_idx, ds_name, ds_label = data\n",
    "\n",
    "print(X.shape, y.shape)"
   ]
  }
 ],
 "metadata": {
  "kernelspec": {
   "display_name": "python3",
   "language": "python",
   "name": "python3"
  },
  "language_info": {
   "codemirror_mode": {
    "name": "ipython",
    "version": 3
   },
   "file_extension": ".py",
   "mimetype": "text/x-python",
   "name": "python",
   "nbconvert_exporter": "python",
   "pygments_lexer": "ipython3",
   "version": "3.11.5"
  }
 },
 "nbformat": 4,
 "nbformat_minor": 4
}

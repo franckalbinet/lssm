{
 "cells": [
  {
   "cell_type": "markdown",
   "metadata": {},
   "source": [
    "# Data loading\n",
    "\n",
    "> Utilities to load Soil Spectral Libraries (SSL) compiled by [OSSL](https://soilspectroscopy.github.io/ossl-manual/) and others."
   ]
  },
  {
   "cell_type": "code",
   "execution_count": null,
   "metadata": {},
   "outputs": [],
   "source": [
    "#| default_exp loading"
   ]
  },
  {
   "cell_type": "code",
   "execution_count": null,
   "metadata": {},
   "outputs": [],
   "source": [
    "%load_ext autoreload\n",
    "%autoreload 2"
   ]
  },
  {
   "cell_type": "code",
   "execution_count": 42,
   "metadata": {},
   "outputs": [],
   "source": [
    "#| export\n",
    "from pathlib import Path\n",
    "from tqdm import tqdm\n",
    "from typing import Union, List\n",
    "import re\n",
    "\n",
    "import pandas as pd\n",
    "import numpy as np\n",
    "from sklearn.preprocessing import LabelEncoder\n",
    "\n",
    "import warnings\n",
    "warnings.filterwarnings('ignore')"
   ]
  },
  {
   "cell_type": "code",
   "execution_count": 70,
   "metadata": {},
   "outputs": [],
   "source": [
    "# | export\n",
    "def load_ossl(fname: Path,  # Path to OSSL gzipped csv dump\n",
    "              # Using OSSL's analytes naming conventions\n",
    "              analytes: Union[str, List[str]],\n",
    "              spectra_type: str,  # Possible values: 'mir', 'visnir'\n",
    "              ):\n",
    "    analytes = [analytes] if isinstance(analytes, str) else analytes\n",
    "    df = pd.read_csv(fname, compression='infer', low_memory=True)\n",
    "\n",
    "    scan_repr = {'visnir': 'scan_visnir.350_ref', 'mir': 'scan_mir.600_abs'}\n",
    "    subset = analytes + [scan_repr[spectra_type]]\n",
    "    df = df.dropna(subset=subset)\n",
    "\n",
    "    cols_ref = [name for name in df.columns if f'scan_{spectra_type}.' in name]\n",
    "    X = df[cols_ref].values\n",
    "\n",
    "    y = df[analytes].values\n",
    "    smp_idx = df['id.layer_uuid_txt'].values\n",
    "\n",
    "    ds_name_encoder = LabelEncoder()\n",
    "    ds_name = ds_name_encoder.fit_transform(df['dataset.code_ascii_txt'])\n",
    "    \n",
    "    pattern = r\"scan_{}\\.(\\d+)_\".format(spectra_type)\n",
    "    X_names = np.array([int(re.search(pattern, name).group(1)) for name in df.columns \n",
    "                        if re.search(pattern, name)])\n",
    "\n",
    "    return X, y, X_names, smp_idx, ds_name, ds_name_encoder.classes_\n"
   ]
  },
  {
   "cell_type": "markdown",
   "metadata": {},
   "source": [
    "Example:"
   ]
  },
  {
   "cell_type": "code",
   "execution_count": 59,
   "metadata": {},
   "outputs": [],
   "source": [
    "#|eval: false\n",
    "fname_ossl = Path.home() / 'pro/data/ossl/gcs_version/ossl_all_L0_v1.2.csv.gz'\n",
    "analytes = 'k.ext_usda.a725_cmolc.kg'\n",
    "\n",
    "data = load_ossl(fname_ossl, analytes, spectra_type='visnir')\n",
    "X, y, X_names, smp_idx, ds_name, ds_label = data"
   ]
  }
 ],
 "metadata": {
  "kernelspec": {
   "display_name": "python3",
   "language": "python",
   "name": "python3"
  }
 },
 "nbformat": 4,
 "nbformat_minor": 4
}

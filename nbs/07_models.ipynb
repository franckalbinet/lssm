{
 "cells": [
  {
   "cell_type": "markdown",
   "metadata": {},
   "source": [
    "# Models\n",
    "\n",
    "> Collection of model architectures and related utilities."
   ]
  },
  {
   "cell_type": "code",
   "execution_count": 22,
   "metadata": {},
   "outputs": [],
   "source": [
    "#| default_exp models"
   ]
  },
  {
   "cell_type": "code",
   "execution_count": 23,
   "metadata": {},
   "outputs": [
    {
     "name": "stdout",
     "output_type": "stream",
     "text": [
      "The autoreload extension is already loaded. To reload it, use:\n",
      "  %reload_ext autoreload\n"
     ]
    }
   ],
   "source": [
    "%load_ext autoreload\n",
    "%autoreload 2"
   ]
  },
  {
   "cell_type": "code",
   "execution_count": 24,
   "metadata": {},
   "outputs": [],
   "source": [
    "#| export\n",
    "from torch import optim, nn\n",
    "from functools import partial\n",
    "\n",
    "import matplotlib.pyplot as plt\n",
    "import fastcore.all as fc\n",
    "\n",
    "import torch\n",
    "from torch.nn import init\n",
    "import torchvision.transforms.functional as TF,torch.nn.functional as F"
   ]
  },
  {
   "cell_type": "markdown",
   "metadata": {},
   "source": [
    "## Activations"
   ]
  },
  {
   "cell_type": "code",
   "execution_count": 25,
   "metadata": {},
   "outputs": [],
   "source": [
    "#| export\n",
    "class GeneralRelu(nn.Module):\n",
    "    \"Relu unit as implemented in Fastai miniai package: https://github.com/fastai/minai\"\n",
    "    def __init__(self, leak=None, sub=None, maxv=None):\n",
    "        super().__init__()\n",
    "        self.leak, self.sub, self.maxv = leak, sub, maxv\n",
    "\n",
    "    def forward(self, x):\n",
    "        x = F.leaky_relu(x, self.leak) if self.leak is not None else F.relu(x)\n",
    "        if self.sub is not None:\n",
    "            x -= self.sub\n",
    "        if self.maxv is not None:\n",
    "            x.clamp_max_(self.maxv)\n",
    "        return x"
   ]
  },
  {
   "cell_type": "code",
   "execution_count": 26,
   "metadata": {},
   "outputs": [],
   "source": [
    "#| export\n",
    "def plot_func(f, start=-5., end=5., steps=100, size=(5, 3)):\n",
    "    \"Plot a function (e.g activation function).\"\n",
    "    plt.figure(figsize=size)\n",
    "    x = torch.linspace(start, end, steps)\n",
    "    plt.plot(x, f(x))\n",
    "    plt.grid(True, which='both', ls='--')\n",
    "    plt.axhline(y=0, color='k', linewidth=0.7)\n",
    "    plt.axvline(x=0, color='k', linewidth=0.7)"
   ]
  },
  {
   "cell_type": "code",
   "execution_count": 27,
   "metadata": {},
   "outputs": [
    {
     "data": {
      "image/png": "[encoded data removed]",
      "text/plain": [
       "<Figure size 500x300 with 1 Axes>"
      ]
     },
     "metadata": {},
     "output_type": "display_data"
    }
   ],
   "source": [
    "plot_func(GeneralRelu(leak=0.1, sub=0.4))"
   ]
  },
  {
   "cell_type": "markdown",
   "metadata": {},
   "source": [
    "## Initialization"
   ]
  },
  {
   "cell_type": "code",
   "execution_count": 28,
   "metadata": {},
   "outputs": [],
   "source": [
    "#| export\n",
    "def init_weights(m, leaky=0.):\n",
    "    \"Initialize weights using kaiming normal method if Conv1d, ..., Linear.\"\n",
    "    if isinstance(m, (nn.Conv1d, nn.Conv2d, nn.Conv3d, nn.Linear)):\n",
    "        init.kaiming_normal_(m.weight, a=leaky)"
   ]
  },
  {
   "cell_type": "markdown",
   "metadata": {},
   "source": [
    "## Layers"
   ]
  },
  {
   "cell_type": "code",
   "execution_count": 29,
   "metadata": {},
   "outputs": [],
   "source": [
    "#| export\n",
    "def conv(\n",
    "    ni: int, # Number of input channels\n",
    "    nf: int, # Number of output channels \n",
    "    ks:int=3, # Kernel size\n",
    "    stride:int=2, # Stride\n",
    "    dim:int=1, # Convolution dimension (1 or 2)\n",
    "    act:nn.Module=nn.ReLU, # Activation function\n",
    "    norm:nn.Module=None, # Normalization layer type\n",
    "    bias:bool=None, # Is bias needed?\n",
    "    ):\n",
    "    \"Wrapping `torch.Conv1D` or `torch.Conv2D`.\"\n",
    "    if bias is None:\n",
    "        bias = not isinstance(\n",
    "            norm, (nn.BatchNorm1d, nn.BatchNorm2d, nn.BatchNorm3d))\n",
    "    _conv = nn.Conv1d if dim == 1 else nn.Conv2d\n",
    "    layers = [_conv(ni, nf, stride=stride,\n",
    "                        kernel_size=ks, padding=ks//2, bias=bias)]\n",
    "    if norm:\n",
    "        layers.append(norm(nf))\n",
    "    if act:\n",
    "        layers.append(act())\n",
    "    return nn.Sequential(*layers)"
   ]
  },
  {
   "cell_type": "markdown",
   "metadata": {},
   "source": [
    "For example:"
   ]
  },
  {
   "cell_type": "code",
   "execution_count": 30,
   "metadata": {},
   "outputs": [
    {
     "data": {
      "text/plain": [
       "tensor([[[0.1577, 0.2935, 0.1536,  ..., 0.1870, 0.2002, 0.2944],\n",
       "         [0.0000, 0.2875, 0.0000,  ..., 0.0000, 0.0000, 0.5129],\n",
       "         [0.0000, 0.0000, 0.0000,  ..., 0.0000, 0.0000, 0.0000],\n",
       "         ...,\n",
       "         [0.2256, 0.2487, 0.5287,  ..., 0.1758, 0.2383, 0.0000],\n",
       "         [0.6481, 0.2628, 0.2919,  ..., 0.7186, 0.6760, 0.6429],\n",
       "         [0.0000, 0.8423, 0.3088,  ..., 0.1578, 0.4382, 0.4999]]],\n",
       "       grad_fn=<ReluBackward0>)"
      ]
     },
     "execution_count": 30,
     "metadata": {},
     "output_type": "execute_result"
    }
   ],
   "source": [
    "conv(ni=1, nf=16)(torch.rand((1,1,1500)))"
   ]
  },
  {
   "cell_type": "markdown",
   "metadata": {},
   "source": [
    "## Variational Autoencoder (VAE)\n",
    "\n",
    "1D Convolutional VAE using a Resnet Encoder and decoder."
   ]
  },
  {
   "cell_type": "code",
   "execution_count": 31,
   "metadata": {},
   "outputs": [],
   "source": [
    "#| export\n",
    "def conv_block(\n",
    "    ni: int, # Number of input channels\n",
    "    nf: int, # Number of output channels \n",
    "    ks:int=3, # Kernel size\n",
    "    stride:int=2, # Stride\n",
    "    act:nn.Module=nn.ReLU, # Activation function\n",
    "    norm:nn.Module=None, # Normalization layer type    \n",
    "    ):\n",
    "    \"Initial Resnet conv block.\"\n",
    "    return nn.Sequential(conv(ni, nf, stride=1, act=act, norm=norm, ks=ks),\n",
    "                         conv(nf, nf, stride=stride, act=None, norm=norm, ks=ks))"
   ]
  },
  {
   "cell_type": "markdown",
   "metadata": {},
   "source": [
    "For example:"
   ]
  },
  {
   "cell_type": "code",
   "execution_count": 32,
   "metadata": {},
   "outputs": [
    {
     "data": {
      "text/plain": [
       "torch.Size([1, 16, 1500])"
      ]
     },
     "execution_count": 32,
     "metadata": {},
     "output_type": "execute_result"
    }
   ],
   "source": [
    "conv_block(ni=1, nf=16, stride=1)(torch.rand((1,1, 1500))).shape"
   ]
  },
  {
   "cell_type": "code",
   "execution_count": 33,
   "metadata": {},
   "outputs": [],
   "source": [
    "#| export\n",
    "class ResBlock(nn.Module):\n",
    "    \"1D Residual block.\"\n",
    "    def __init__(self,\n",
    "                 ni: int, # Number of input channels\n",
    "                 nf: int, # Number of output channels \n",
    "                 ks:int=3, # Kernel size\n",
    "                 stride:int=2, # Stride\n",
    "                 act:nn.Module=nn.ReLU, # Activation function\n",
    "                 norm:nn.Module=None, # Normalization layer type   \n",
    "                 ):\n",
    "        super().__init__()\n",
    "        self.convs = conv_block(ni, nf, act=act, stride=stride, ks=ks, norm=norm)\n",
    "        self.idconv = fc.noop if ni == nf else conv(\n",
    "            ni, nf, ks=1, stride=1, act=None)\n",
    "        self.pool = fc.noop if stride == 1 else nn.AvgPool1d(2, ceil_mode=True)\n",
    "        self.act = act()\n",
    "\n",
    "    def forward(self, x):\n",
    "        return self.act(self.convs(x) + self.idconv(self.pool(x)))"
   ]
  },
  {
   "cell_type": "markdown",
   "metadata": {},
   "source": [
    "For example:"
   ]
  },
  {
   "cell_type": "code",
   "execution_count": 34,
   "metadata": {},
   "outputs": [
    {
     "data": {
      "text/plain": [
       "torch.Size([1, 16, 1500])"
      ]
     },
     "execution_count": 34,
     "metadata": {},
     "output_type": "execute_result"
    }
   ],
   "source": [
    "ResBlock(ni=1, nf=16, stride=1)(torch.rand((1,1, 1500))).shape"
   ]
  },
  {
   "cell_type": "code",
   "execution_count": 35,
   "metadata": {},
   "outputs": [],
   "source": [
    "#| export\n",
    "class ResBlockUp(nn.Module):\n",
    "    \"1D Residual block including upsampling for a VAE decoder.\"\n",
    "    def __init__(self, \n",
    "                 ni: int, # Number of input channels\n",
    "                 nf: int, # Number of output channels \n",
    "                 ks:int=3, # Kernel size\n",
    "                 stride:int=2, # Stride\n",
    "                 act:nn.Module=nn.ReLU, # Activation function\n",
    "                 norm:nn.Module=None, # Normalization layer type \n",
    "                 ):\n",
    "        super().__init__()\n",
    "        self.upsample = nn.Upsample(\n",
    "            scale_factor=2, mode='linear', align_corners=True)\n",
    "        self.resblock = ResBlock(ni, nf, act=act, norm=norm, stride=stride)\n",
    "\n",
    "    def forward(self, x):\n",
    "        return self.resblock(self.upsample(x))"
   ]
  },
  {
   "cell_type": "markdown",
   "metadata": {},
   "source": [
    "For example:"
   ]
  },
  {
   "cell_type": "code",
   "execution_count": 36,
   "metadata": {},
   "outputs": [
    {
     "data": {
      "text/plain": [
       "torch.Size([1, 16, 512])"
      ]
     },
     "execution_count": 36,
     "metadata": {},
     "output_type": "execute_result"
    }
   ],
   "source": [
    "ResBlockUp(ni=1, nf=16, stride=1)(torch.rand((1, 1, 256))).shape"
   ]
  },
  {
   "cell_type": "code",
   "execution_count": 37,
   "metadata": {},
   "outputs": [],
   "source": [
    "#| export\n",
    "class Encoder(nn.Module):\n",
    "    \"Convolutional VAE Encoder.\"\n",
    "    def __init__(self, \n",
    "                 act:nn.Module=nn.ReLU, # Activation function\n",
    "                 nfs:tuple=(8, 16, 32, 64, 128, 256), # Successive output channels size\n",
    "                 norm:nn.Module=None, # Normalization layer type \n",
    "                 z_dim:int=2 # Latent space dimension\n",
    "                 ):\n",
    "        # super(Encoder, self).__init__()\n",
    "        super().__init__()\n",
    "        self.layers = [ResBlock(1, 8, stride=1, act=act, norm=norm)]\n",
    "        self.layers += [ResBlock(nfs[i], nfs[i+1], act=act,\n",
    "                                 norm=norm, stride=2) for i in range(len(nfs)-1)]\n",
    "        self.layers += [nn.AdaptiveAvgPool1d(1), nn.Flatten()]\n",
    "        self.resblocks = nn.Sequential(*self.layers)\n",
    "        self.fc_mu = nn.Linear(nfs[-1], z_dim)\n",
    "        self.fc_logvar = nn.Linear(nfs[-1], z_dim)\n",
    "\n",
    "    def forward(self, x):\n",
    "        x = self.resblocks(x)\n",
    "        mu = self.fc_mu(x)\n",
    "        logvar = self.fc_logvar(x)\n",
    "        return mu, logvar"
   ]
  },
  {
   "cell_type": "markdown",
   "metadata": {},
   "source": [
    "For example:"
   ]
  },
  {
   "cell_type": "code",
   "execution_count": 38,
   "metadata": {},
   "outputs": [
    {
     "data": {
      "text/plain": [
       "tensor([[-0.0924,  0.0120]], grad_fn=<AddmmBackward0>)"
      ]
     },
     "execution_count": 38,
     "metadata": {},
     "output_type": "execute_result"
    }
   ],
   "source": [
    "mu, logvar = Encoder()(torch.rand((1,1, 1500))); mu"
   ]
  },
  {
   "cell_type": "code",
   "execution_count": 39,
   "metadata": {},
   "outputs": [],
   "source": [
    "#| export\n",
    "class Decoder(nn.Module):\n",
    "    \"Convolutional VAE Decoder.\"\n",
    "    def __init__(self, \n",
    "                 in_shape:int, # Length of input (e.g a infrared spectra with 1676 wavenumbers)\n",
    "                 act:nn.Module=nn.ReLU, # Activation function\n",
    "                 nfs:tuple=(8, 16, 32, 64, 128, 256), # Successive output channels size\n",
    "                 norm:nn.Module=None, # Normalization layer type \n",
    "                 z_dim:int=2 # Latent space dimension\n",
    "                 ):\n",
    "        # super(Decoder, self).__init__()\n",
    "        super().__init__()\n",
    "        self.feat_len = 1 + in_shape//2**(len(nfs)-1)\n",
    "        self.lin = nn.Linear(z_dim, nfs[0]*self.feat_len, bias=False)\n",
    "        self.nfs = nfs\n",
    "\n",
    "        layers = []\n",
    "        layers += [ResBlockUp(nfs[i], nfs[i+1], act=act,\n",
    "                              norm=norm, stride=1) for i in range(len(nfs)-1)]\n",
    "        layers.append(ResBlock(nfs[-1], 1, act=act,\n",
    "                      norm=nn.BatchNorm1d, stride=1))\n",
    "        self.resblocks = nn.Sequential(*layers)\n",
    "\n",
    "    def forward(self, x):\n",
    "        x = self.lin(x)\n",
    "        x = x.reshape(-1, self.nfs[0], self.feat_len)\n",
    "        return self.resblocks(x)"
   ]
  },
  {
   "cell_type": "code",
   "execution_count": 40,
   "metadata": {},
   "outputs": [
    {
     "data": {
      "text/plain": [
       "torch.Size([1, 1, 1632])"
      ]
     },
     "execution_count": 40,
     "metadata": {},
     "output_type": "execute_result"
    }
   ],
   "source": [
    "Decoder(in_shape=1600)(torch.rand((1,2))).shape"
   ]
  },
  {
   "cell_type": "code",
   "execution_count": 41,
   "metadata": {},
   "outputs": [],
   "source": [
    "#| export\n",
    "class CVAE(nn.Module):\n",
    "    \"1D Resnet-based convolutional variational autoencoder.\"\n",
    "    def __init__(self, \n",
    "                 in_shape:int, # Length of input (e.g a infrared spectra with 1676 wavenumbers)\n",
    "                 z_dim:int=2, # Latent space dimension\n",
    "                 nfs:tuple=(8, 16, 32, 64, 128, 256), # Successive output channels size\n",
    "                 ):\n",
    "        # super(CVAE, self).__init__()\n",
    "        super().__init__()\n",
    "        self.in_shape = in_shape\n",
    "        self.encoder = Encoder(nfs=nfs, z_dim=z_dim)\n",
    "        self.decoder = Decoder(in_shape, nfs=nfs[::-1], z_dim=z_dim)\n",
    "\n",
    "    def reparameterize(self, mu, logvar):\n",
    "        std = torch.exp(0.5*logvar)\n",
    "        eps = torch.randn_like(std)\n",
    "        return mu + eps*std\n",
    "\n",
    "    def forward(self, x):\n",
    "        mu, logvar = self.encoder(x)\n",
    "        z = self.reparameterize(mu, logvar)\n",
    "        x_rec = self.decoder(z)\n",
    "        strip_idx = x_rec.shape[-1] - self.in_shape\n",
    "        return x_rec[:, :, :-strip_idx], mu, logvar"
   ]
  },
  {
   "cell_type": "markdown",
   "metadata": {},
   "source": [
    "For example:"
   ]
  },
  {
   "cell_type": "code",
   "execution_count": 42,
   "metadata": {},
   "outputs": [
    {
     "data": {
      "text/plain": [
       "tensor([[0.8497, 0.0630]])"
      ]
     },
     "execution_count": 42,
     "metadata": {},
     "output_type": "execute_result"
    }
   ],
   "source": [
    "torch.rand((1,2))"
   ]
  },
  {
   "cell_type": "code",
   "execution_count": 43,
   "metadata": {},
   "outputs": [
    {
     "data": {
      "text/plain": [
       "torch.Size([1, 1, 1500])"
      ]
     },
     "execution_count": 43,
     "metadata": {},
     "output_type": "execute_result"
    }
   ],
   "source": [
    "input_reconstructed, _, _ = CVAE(1500)(torch.rand((1,1, 1500)))\n",
    "input_reconstructed.shape"
   ]
  },
  {
   "cell_type": "markdown",
   "metadata": {},
   "source": [
    "### Sandbox on transformer"
   ]
  },
  {
   "cell_type": "markdown",
   "metadata": {},
   "source": [
    "\n",
    "<!-- transformer_model = nn.Transformer(nhead=16, num_encoder_layers=12)\n",
    "src = torch.rand((10, 32, 512))\n",
    "tgt = torch.rand((20, 32, 512))\n",
    "out = transformer_model(src, tgt) -->"
   ]
  },
  {
   "cell_type": "markdown",
   "metadata": {},
   "source": [
    "transformer_model = nn.Transformer(nhead=16, num_encoder_layers=12)\n",
    "src = torch.rand((10, 32, 512))\n",
    "tgt = torch.rand((20, 32, 512))\n",
    "out = transformer_model(src, tgt)"
   ]
  }
 ],
 "metadata": {
  "kernelspec": {
   "display_name": "python3",
   "language": "python",
   "name": "python3"
  },
  "language_info": {
   "codemirror_mode": {
    "name": "ipython",
    "version": 3
   },
   "file_extension": ".py",
   "mimetype": "text/x-python",
   "name": "python",
   "nbconvert_exporter": "python",
   "pygments_lexer": "ipython3",
   "version": "3.11.5"
  }
 },
 "nbformat": 4,
 "nbformat_minor": 4
}

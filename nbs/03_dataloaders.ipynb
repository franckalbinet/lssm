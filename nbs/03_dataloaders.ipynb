{
 "cells": [
  {
   "cell_type": "markdown",
   "metadata": {},
   "source": [
    "# Dataloaders\n",
    "\n",
    "> Custom PyTorch data loaders"
   ]
  },
  {
   "cell_type": "code",
   "execution_count": null,
   "metadata": {},
   "outputs": [],
   "source": [
    "#| default_exp dataloaders"
   ]
  },
  {
   "cell_type": "code",
   "execution_count": null,
   "metadata": {},
   "outputs": [],
   "source": [
    "%load_ext autoreload\n",
    "%autoreload 2"
   ]
  },
  {
   "cell_type": "code",
   "execution_count": 28,
   "metadata": {},
   "outputs": [],
   "source": [
    "#| export\n",
    "from pathlib import Path\n",
    "from tqdm import tqdm\n",
    "from collections import namedtuple\n",
    "import fastcore.all as fc\n",
    "\n",
    "from torch.utils.data import Dataset, DataLoader"
   ]
  },
  {
   "cell_type": "code",
   "execution_count": 20,
   "metadata": {},
   "outputs": [],
   "source": [
    "#|eval: false\n",
    "from lssm.loading import load_ossl\n",
    "from lssm.preprocessing import ToAbsorbance, ContinuumRemoval, SNV\n",
    "from lssm.visualization import plot_spectra\n",
    "from sklearn.pipeline import Pipeline\n",
    "from sklearn.model_selection import train_test_split"
   ]
  },
  {
   "cell_type": "code",
   "execution_count": 57,
   "metadata": {},
   "outputs": [],
   "source": [
    "#| export\n",
    "class SpectralDataset(Dataset):\n",
    "    def __init__(self, X, y, metadata=None):\n",
    "        self.X = X\n",
    "        self.y = y\n",
    "        self.metadata = metadata\n",
    "        \n",
    "    def __len__(self):\n",
    "        return len(self.X)\n",
    "\n",
    "    def __getitem__(self, idx):\n",
    "        return self.X[idx,:][None,:], self.y[idx,:]"
   ]
  },
  {
   "cell_type": "code",
   "execution_count": 39,
   "metadata": {},
   "outputs": [],
   "source": [
    "#| export\n",
    "def get_dls(train_ds, valid_ds, bs, **kwargs):\n",
    "    Dataloaders = namedtuple('Dataloader', ['train', 'valid'])\n",
    "    return Dataloaders(\n",
    "        DataLoader(train_ds, batch_size=bs, shuffle=True, **kwargs),\n",
    "        DataLoader(valid_ds, batch_size=bs*2, **kwargs)) "
   ]
  },
  {
   "cell_type": "markdown",
   "metadata": {},
   "source": [
    "Example:"
   ]
  },
  {
   "cell_type": "code",
   "execution_count": 52,
   "metadata": {},
   "outputs": [
    {
     "name": "stderr",
     "output_type": "stream",
     "text": [
      "100%|██████████| 3725/3725 [00:01<00:00, 2876.28it/s]\n"
     ]
    },
    {
     "name": "stdout",
     "output_type": "stream",
     "text": [
      "First batch X dim: torch.Size([32, 1, 1076])\n",
      "First batch y dim: torch.Size([32, 1])\n"
     ]
    }
   ],
   "source": [
    "#|eval: false\n",
    "fname_ossl = Path.home() / 'pro/data/ossl/gcs_version/ossl_all_L0_v1.2.csv.gz'\n",
    "analytes = 'k.ext_usda.a725_cmolc.kg'\n",
    "\n",
    "# Load dataset\n",
    "data = load_ossl(fname_ossl, analytes, spectra_type='visnir')\n",
    "X, y, X_names, smp_idx, ds_name, ds_label = data"
   ]
  },
  {
   "cell_type": "code",
   "execution_count": 58,
   "metadata": {},
   "outputs": [
    {
     "name": "stderr",
     "output_type": "stream",
     "text": [
      "  0%|          | 0/3725 [00:00<?, ?it/s]"
     ]
    },
    {
     "name": "stderr",
     "output_type": "stream",
     "text": [
      "100%|██████████| 3725/3725 [00:00<00:00, 7023.45it/s]"
     ]
    },
    {
     "name": "stdout",
     "output_type": "stream",
     "text": [
      "First batch X dim: torch.Size([32, 1, 1076])\n",
      "First batch y dim: torch.Size([32, 1])\n"
     ]
    },
    {
     "name": "stderr",
     "output_type": "stream",
     "text": [
      "\n"
     ]
    }
   ],
   "source": [
    "#|eval: false\n",
    "\n",
    "# Transform\n",
    "X = Pipeline([('to_abs', ToAbsorbance()), \n",
    "              ('cr', ContinuumRemoval(X_names))]).fit_transform(X)\n",
    "\n",
    "# Train/valid split\n",
    "X_train, X_valid, y_train, y_valid = train_test_split(X, y, \n",
    "                                                      test_size=0.2,\n",
    "                                                      stratify=ds_name, \n",
    "                                                      random_state=41)\n",
    "\n",
    "# Get PyTorch datasets\n",
    "train_ds, valid_ds = [SpectralDataset(X, y, ) \n",
    "                      for X, y, in [(X_train, y_train), (X_valid, y_valid)]]\n",
    "\n",
    "# Then PyTorch dataloaders\n",
    "dls = get_dls(train_ds, valid_ds, bs=32)\n",
    "\n",
    "first_batch = next(iter(dls.train))\n",
    "print(f'First batch X dim: {first_batch[0].shape}')\n",
    "print(f'First batch y dim: {first_batch[1].shape}')\n"
   ]
  }
 ],
 "metadata": {
  "kernelspec": {
   "display_name": "python3",
   "language": "python",
   "name": "python3"
  },
  "language_info": {
   "codemirror_mode": {
    "name": "ipython",
    "version": 3
   },
   "file_extension": ".py",
   "mimetype": "text/x-python",
   "name": "python",
   "nbconvert_exporter": "python",
   "pygments_lexer": "ipython3",
   "version": "3.11.5"
  }
 },
 "nbformat": 4,
 "nbformat_minor": 4
}

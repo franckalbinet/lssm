{
 "cells": [
  {
   "cell_type": "markdown",
   "metadata": {},
   "source": [
    "# Dataloaders\n",
    "\n",
    "> Custom PyTorch Datasets and Dataloaders."
   ]
  },
  {
   "cell_type": "code",
   "execution_count": 35,
   "metadata": {},
   "outputs": [],
   "source": [
    "# | default_exp dataloaders"
   ]
  },
  {
   "cell_type": "code",
   "execution_count": 107,
   "metadata": {},
   "outputs": [],
   "source": [
    "# | export\n",
    "from pathlib import Path\n",
    "from tqdm import tqdm\n",
    "from collections import namedtuple\n",
    "import fastcore.all as fc\n",
    "\n",
    "import numpy as np\n",
    "import pandas as pd\n",
    "import torch\n",
    "from torch.utils.data import Dataset, DataLoader\n",
    "from torch import tensor"
   ]
  },
  {
   "cell_type": "code",
   "execution_count": 38,
   "metadata": {},
   "outputs": [],
   "source": [
    "# | eval: false\n",
    "# | hide\n",
    "from lssm.loading import load_ossl\n",
    "from lssm.preprocessing import ToAbsorbance, ContinuumRemoval, SNV\n",
    "from lssm.visualization import plot_spectra\n",
    "from sklearn.pipeline import Pipeline\n",
    "from sklearn.model_selection import train_test_split"
   ]
  },
  {
   "cell_type": "code",
   "execution_count": 39,
   "metadata": {},
   "outputs": [],
   "source": [
    "# | hide\n",
    "from nbdev import show_doc"
   ]
  },
  {
   "cell_type": "code",
   "execution_count": 40,
   "metadata": {},
   "outputs": [],
   "source": [
    "# | export\n",
    "def get_dls(\n",
    "    train_ds:Dataset, # Train dataset\n",
    "    valid_ds:Dataset, # Valid dataset\n",
    "    bs:int, # Batch size \n",
    "    **kwargs\n",
    "    ) -> DataLoader:  # NamedTuple `DataLoader`with `.train` and `.valid` field names\n",
    "    \"Train and valid dataloaders.\"\n",
    "    Dataloaders = namedtuple('Dataloader', ['train', 'valid'])\n",
    "    return Dataloaders(\n",
    "        DataLoader(train_ds, batch_size=bs, shuffle=True, **kwargs),\n",
    "        DataLoader(valid_ds, batch_size=bs*2, **kwargs))\n"
   ]
  },
  {
   "cell_type": "code",
   "execution_count": 106,
   "metadata": {},
   "outputs": [],
   "source": [
    "# | export\n",
    "class CrossSpectraDataset(Dataset):\n",
    "    \"Custom Pytorch dataset for IR instrument cross-calibration.\"\n",
    "    def __init__(self, \n",
    "                 df:pd.DataFrame, # Infrared spectra with associated sample id\n",
    "                 pair_idxs:list, # List of tuples (pairs) of replicate indices to sample from the dataframe \n",
    "                 spectra_at:int=2 # Index of the column where the spectroscopy data starts\n",
    "                 ):\n",
    "        self.data = tensor(df.iloc[:, spectra_at:].to_numpy(),\n",
    "                           dtype=torch.float32)\n",
    "        self.pair_idxs = [list(p) for p in pair_idxs]\n",
    "\n",
    "    def __len__(self):\n",
    "        return len(self.pair_idxs)\n",
    "\n",
    "    def __getitem__(self, idx):\n",
    "        X, y = self.data[self.pair_idxs[idx]]\n",
    "        return X[None, :], y[None, :]"
   ]
  },
  {
   "cell_type": "markdown",
   "metadata": {},
   "source": [
    "For example:"
   ]
  },
  {
   "cell_type": "code",
   "execution_count": 108,
   "metadata": {},
   "outputs": [
    {
     "data": {
      "text/html": [
       "<div>\n",
       "<style scoped>\n",
       "    .dataframe tbody tr th:only-of-type {\n",
       "        vertical-align: middle;\n",
       "    }\n",
       "\n",
       "    .dataframe tbody tr th {\n",
       "        vertical-align: top;\n",
       "    }\n",
       "\n",
       "    .dataframe thead th {\n",
       "        text-align: right;\n",
       "    }\n",
       "</style>\n",
       "<table border=\"1\" class=\"dataframe\">\n",
       "  <thead>\n",
       "    <tr style=\"text-align: right;\">\n",
       "      <th></th>\n",
       "      <th>sample_id</th>\n",
       "      <th>organization</th>\n",
       "      <th>650</th>\n",
       "      <th>652</th>\n",
       "    </tr>\n",
       "    <tr>\n",
       "      <th>index</th>\n",
       "      <th></th>\n",
       "      <th></th>\n",
       "      <th></th>\n",
       "      <th></th>\n",
       "    </tr>\n",
       "  </thead>\n",
       "  <tbody>\n",
       "    <tr>\n",
       "      <th>0</th>\n",
       "      <td>0</td>\n",
       "      <td>A</td>\n",
       "      <td>1.2</td>\n",
       "      <td>0.8</td>\n",
       "    </tr>\n",
       "    <tr>\n",
       "      <th>1</th>\n",
       "      <td>0</td>\n",
       "      <td>B</td>\n",
       "      <td>0.6</td>\n",
       "      <td>0.4</td>\n",
       "    </tr>\n",
       "    <tr>\n",
       "      <th>2</th>\n",
       "      <td>1</td>\n",
       "      <td>A</td>\n",
       "      <td>0.5</td>\n",
       "      <td>0.6</td>\n",
       "    </tr>\n",
       "    <tr>\n",
       "      <th>3</th>\n",
       "      <td>1</td>\n",
       "      <td>B</td>\n",
       "      <td>1.3</td>\n",
       "      <td>1.1</td>\n",
       "    </tr>\n",
       "  </tbody>\n",
       "</table>\n",
       "</div>"
      ],
      "text/plain": [
       "       sample_id organization  650  652\n",
       "index                                  \n",
       "0              0            A  1.2  0.8\n",
       "1              0            B  0.6  0.4\n",
       "2              1            A  0.5  0.6\n",
       "3              1            B  1.3  1.1"
      ]
     },
     "execution_count": 108,
     "metadata": {},
     "output_type": "execute_result"
    }
   ],
   "source": [
    "from lssm.loading import get_spectra_pair_idxs\n",
    "\n",
    "df_test = pd.DataFrame({'sample_id': [0,0,1,1], \n",
    "                        'organization': ['A', 'B', 'A', 'B'],\n",
    "                        '650': [1.2, 0.6, 0.5, 1.3],\n",
    "                        '652': [0.8, 0.4, 0.6, 1.1]\n",
    "                        }, index= [0,1,2,3])\n",
    "df_test.index.name = 'index'; df_test"
   ]
  },
  {
   "cell_type": "code",
   "execution_count": 109,
   "metadata": {},
   "outputs": [
    {
     "data": {
      "text/plain": [
       "[(0, 0), (0, 1), (1, 0), (1, 1), (2, 2), (2, 3), (3, 2), (3, 3)]"
      ]
     },
     "execution_count": 109,
     "metadata": {},
     "output_type": "execute_result"
    }
   ],
   "source": [
    "get_spectra_pair_idxs(df_test)"
   ]
  },
  {
   "cell_type": "code",
   "execution_count": 104,
   "metadata": {},
   "outputs": [],
   "source": [
    "ds = CrossSpectraDataset(df_test, get_spectra_pair_idxs(df_test))\n",
    "\n",
    "# Index pair: (0, 0)\n",
    "x, y = tensor([[1.2, 0.8]]), tensor([[1.2, 0.8]])\n",
    "fc.test_eq(ds[0], (x, y))\n",
    "\n",
    "# Index pair: (0, 1)\n",
    "x, y = tensor([[1.2, 0.8]]), tensor([[0.6, 0.4]])\n",
    "fc.test_eq(ds[1], (x, y))\n",
    "\n",
    "# Index pair: (1, 0)\n",
    "x, y = tensor([[0.6, 0.4]]), tensor([[1.2, 0.8]])\n",
    "fc.test_eq(ds[2], (x, y))\n",
    "\n",
    "# Index pair: (1, 1)\n",
    "x, y = tensor([[0.6, 0.4]]), tensor([[0.6, 0.4]])\n",
    "fc.test_eq(ds[3], (x, y))\n",
    "\n",
    "# Index pair: (2, 2)\n",
    "x, y = tensor([[0.5, 0.6]]), tensor([[0.5, 0.6]])\n",
    "fc.test_eq(ds[4], (x, y))\n",
    "\n",
    "# Index pair: (2, 3)\n",
    "x, y = tensor([[0.5, 0.6]]), tensor([[1.3, 1.1]])\n",
    "fc.test_eq(ds[5], (x, y))"
   ]
  },
  {
   "cell_type": "code",
   "execution_count": 14,
   "metadata": {},
   "outputs": [],
   "source": [
    "# | export\n",
    "class SpectralDataset(Dataset):\n",
    "    \"(Infrared Spectra, soil property) custom PyTorch Dataset.\"\n",
    "\n",
    "    def __init__(self,\n",
    "                 X:np.ndarray, # Spectra\n",
    "                 y:np.ndarray, # Analyte\n",
    "                 metadata:np.ndarray=None\n",
    "                 ):\n",
    "        self.X = X\n",
    "        self.y = y\n",
    "        self.metadata = metadata\n",
    "\n",
    "    def __len__(self):\n",
    "        return len(self.X)\n",
    "\n",
    "    def __getitem__(self, idx):\n",
    "        return (tensor(self.X[idx, :][None, :], dtype=torch.float32),\n",
    "                tensor(self.y[idx, :], dtype=torch.float32))"
   ]
  },
  {
   "cell_type": "markdown",
   "metadata": {},
   "source": [
    "For example, below a canonical pipeline where we:\n",
    "\n",
    "1. load the data\n",
    "2. transform the data (here to absorbance and continuum removal)\n",
    "3. perform a train, test split\n",
    "4. access Pytorch custom `SpectralDataset`\n",
    "5. finally get PyTorch dataloaders ready for training"
   ]
  },
  {
   "cell_type": "code",
   "execution_count": 19,
   "metadata": {},
   "outputs": [
    {
     "name": "stdout",
     "output_type": "stream",
     "text": [
      "Reading & selecting data ...\n"
     ]
    },
    {
     "name": "stderr",
     "output_type": "stream",
     "text": [
      "100%|██████████| 44489/44489 [00:16<00:00, 2758.44it/s]\n"
     ]
    },
    {
     "name": "stdout",
     "output_type": "stream",
     "text": [
      "First batch X dim: torch.Size([32, 1, 1051])\n",
      "First batch y dim: torch.Size([32, 1])\n"
     ]
    }
   ],
   "source": [
    "# |eval: false\n",
    "\n",
    "# 1. Data loading\n",
    "analytes = 'k.ext_usda.a725_cmolc.kg'\n",
    "data = load_ossl(analytes, spectra_type='visnir')\n",
    "X, y, X_names, smp_idx, ds_name, ds_label = data\n",
    "\n",
    "# 2. Transform\n",
    "X = Pipeline([('to_abs', ToAbsorbance()),\n",
    "              ('cr', ContinuumRemoval(X_names))]).fit_transform(X)\n",
    "\n",
    "# 3. Train/valid split\n",
    "X_train, X_valid, y_train, y_valid = train_test_split(X, y,\n",
    "                                                      test_size=0.2,\n",
    "                                                      stratify=ds_name,\n",
    "                                                      random_state=41)\n",
    "\n",
    "# 4. Get PyTorch datasets\n",
    "train_ds, valid_ds = [SpectralDataset(X, y)\n",
    "                      for X, y, in [(X_train, y_train), (X_valid, y_valid)]]\n",
    "\n",
    "# 5. Then PyTorch dataloaders\n",
    "dls = get_dls(train_ds, valid_ds, bs=32)\n",
    "\n",
    "first_batch = next(iter(dls.train))\n",
    "print(f'First batch X dim: {first_batch[0].shape}')\n",
    "print(f'First batch y dim: {first_batch[1].shape}')\n"
   ]
  },
  {
   "cell_type": "code",
   "execution_count": 20,
   "metadata": {},
   "outputs": [],
   "source": [
    "# | export\n",
    "class SpectralEmbeddingDataset(Dataset):\n",
    "    \"(Infrared Spectra, Infrared Spectra) custom PyTorch Dataset.\"\n",
    "\n",
    "    def __init__(self,\n",
    "                 X:np.ndarray, # Spectra\n",
    "                 ):\n",
    "        self.X = X\n",
    "\n",
    "    def __len__(self):\n",
    "        return len(self.X)\n",
    "\n",
    "    def __getitem__(self, idx):\n",
    "        return (tensor(self.X[idx, :][None, :], dtype=torch.float32),\n",
    "                tensor(self.X[idx, :][None, :], dtype=torch.float32))"
   ]
  },
  {
   "cell_type": "code",
   "execution_count": null,
   "metadata": {},
   "outputs": [],
   "source": [
    "dd"
   ]
  }
 ],
 "metadata": {
  "kernelspec": {
   "display_name": "python3",
   "language": "python",
   "name": "python3"
  },
  "language_info": {
   "codemirror_mode": {
    "name": "ipython",
    "version": 3
   },
   "file_extension": ".py",
   "mimetype": "text/x-python",
   "name": "python",
   "nbconvert_exporter": "python",
   "pygments_lexer": "ipython3",
   "version": "3.11.5"
  }
 },
 "nbformat": 4,
 "nbformat_minor": 4
}

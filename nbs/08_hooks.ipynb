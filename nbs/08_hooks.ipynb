{
 "cells": [
  {
   "cell_type": "markdown",
   "metadata": {},
   "source": [
    "# Hooks\n",
    "\n",
    "> Monitoring DL models statistics along the way ..."
   ]
  },
  {
   "cell_type": "code",
   "execution_count": 20,
   "metadata": {},
   "outputs": [],
   "source": [
    "#| default_exp hooks"
   ]
  },
  {
   "cell_type": "code",
   "execution_count": 24,
   "metadata": {},
   "outputs": [],
   "source": [
    "%load_ext autoreload\n",
    "%autoreload 2"
   ]
  },
  {
   "cell_type": "code",
   "execution_count": 2,
   "metadata": {},
   "outputs": [],
   "source": [
    "#| export\n",
    "# from copy import copy\n",
    "# import math\n",
    "# import fastcore.all as fc\n",
    "# from fastprogress import progress_bar, master_bar\n",
    "# from operator import attrgetter\n",
    "# from collections.abc import Mapping\n",
    "\n",
    "# import matplotlib.pyplot as plt\n",
    "\n",
    "# import torch\n",
    "# from torchvision import transforms as T\n",
    "# from torcheval.metrics import Mean"
   ]
  },
  {
   "cell_type": "code",
   "execution_count": 48,
   "metadata": {},
   "outputs": [],
   "source": [
    "from sklearn.pipeline import Pipeline\n",
    "from sklearn.model_selection import train_test_split\n",
    "\n",
    "from lssm.loading import load_ossl\n",
    "from lssm.models import conv\n",
    "from lssm.callbacks import to_cpu\n",
    "from lssm.preprocessing import Log1p, SNV\n",
    "from lssm.dataloaders import SpectralDataset, get_dls\n",
    "\n",
    "import torch\n",
    "from torch import nn, tensor"
   ]
  },
  {
   "cell_type": "code",
   "execution_count": 32,
   "metadata": {},
   "outputs": [
    {
     "name": "stdout",
     "output_type": "stream",
     "text": [
      "Reading & selecting data ...\n"
     ]
    }
   ],
   "source": [
    "analytes = 'clay.tot_usda.a334_w.pct' # Let's play with Clay\n",
    "spectra_type = 'mir'\n",
    "\n",
    "data = load_ossl(analytes, spectra_type)\n",
    "X, y, X_names, smp_idx, ds_name, ds_label = data\n",
    "\n",
    "X = Pipeline([('snv', SNV())]).fit_transform(X)\n",
    "y = Log1p().fit_transform(y)"
   ]
  },
  {
   "cell_type": "code",
   "execution_count": 163,
   "metadata": {},
   "outputs": [],
   "source": [
    "# Train/valid split\n",
    "n_smp = 1000 # For demo. purpose\n",
    "X_train, X_valid, y_train, y_valid = train_test_split(X[:n_smp, :], y[:n_smp],\n",
    "                                                      test_size=0.1,\n",
    "                                                      stratify=ds_name[:n_smp],\n",
    "                                                      random_state=41)\n",
    "\n",
    "# Get PyTorch datasets\n",
    "train_ds, valid_ds = [SpectralDataset(X, y, )\n",
    "                      for X, y, in [(X_train, y_train), (X_valid, y_valid)]]\n",
    "\n",
    "# Then PyTorch dataloaders\n",
    "dls = get_dls(train_ds, valid_ds, bs=16)"
   ]
  },
  {
   "cell_type": "code",
   "execution_count": 200,
   "metadata": {},
   "outputs": [],
   "source": [
    "from functools import partial\n",
    "from torch.optim import lr_scheduler\n",
    "\n",
    "from torcheval.metrics import R2Score\n",
    "from lssm.callbacks import (MetricsCB, BatchSchedCB, BatchTransformCB,\n",
    "                            DeviceCB, TrainCB, ProgressCB)\n",
    "from lssm.transforms import GADFTfm, _resizeTfm, StatsTfm\n",
    "from lssm.learner import Learner"
   ]
  },
  {
   "cell_type": "code",
   "execution_count": 201,
   "metadata": {},
   "outputs": [],
   "source": [
    "class ToyCNN(nn.Module):\n",
    "    def __init__(self):\n",
    "        super().__init__()\n",
    "        self.layers = nn.Sequential(\n",
    "            conv(1, 8, ks=5),        # 8, 851\n",
    "            conv(8, 16),             # 16, 426\n",
    "            conv(16, 32),            # 32, 213\n",
    "            conv(32, 64),            # 64, 107\n",
    "            nn.Flatten(),\n",
    "            nn.Linear(64*107, 1))\n",
    "        \n",
    "    def forward(self, x):\n",
    "        return self.layers(x)"
   ]
  },
  {
   "cell_type": "code",
   "execution_count": 212,
   "metadata": {},
   "outputs": [],
   "source": [
    "epochs = 5\n",
    "lr = 1e-3\n",
    "\n",
    "tmax = epochs * len(dls.train)\n",
    "sched = partial(lr_scheduler.OneCycleLR, max_lr=lr, total_steps=tmax)\n",
    "xtra = [BatchSchedCB(sched)]\n",
    "cbs = [DeviceCB(), TrainCB(), \n",
    "       MetricsCB(r2=R2Score()), \n",
    "       ProgressCB(plot=False)]\n",
    "\n",
    "learn = Learner(ToyCNN(), dls, nn.MSELoss(), lr=lr,\n",
    "                cbs=cbs+xtra, opt_func=optim.AdamW)"
   ]
  },
  {
   "cell_type": "code",
   "execution_count": 213,
   "metadata": {},
   "outputs": [
    {
     "name": "stdout",
     "output_type": "stream",
     "text": [
      "r2        loss      epoch     train                                                     \n"
     ]
    },
    {
     "ename": "TypeError",
     "evalue": "object of type 'int' has no len()",
     "output_type": "error",
     "traceback": [
      "\u001b[0;31m---------------------------------------------------------------------------\u001b[0m",
      "\u001b[0;31mTypeError\u001b[0m                                 Traceback (most recent call last)",
      "\u001b[1;32m/Users/franckalbinet/pro/research/lssm/nbs/08_hooks.ipynb Cell 11\u001b[0m line \u001b[0;36m1\n\u001b[0;32m----> <a href='vscode-notebook-cell:/Users/franckalbinet/pro/research/lssm/nbs/08_hooks.ipynb#X64sZmlsZQ%3D%3D?line=0'>1</a>\u001b[0m learn\u001b[39m.\u001b[39;49mfit(epochs)\n",
      "File \u001b[0;32m~/pro/research/lssm/lssm/learner.py:76\u001b[0m, in \u001b[0;36mLearner.fit\u001b[0;34m(self, n_epochs, train, valid, cbs, lr)\u001b[0m\n\u001b[1;32m     74\u001b[0m     \u001b[39mif\u001b[39;00m lr \u001b[39mis\u001b[39;00m \u001b[39mNone\u001b[39;00m: lr \u001b[39m=\u001b[39m \u001b[39mself\u001b[39m\u001b[39m.\u001b[39mlr\n\u001b[1;32m     75\u001b[0m     \u001b[39mif\u001b[39;00m \u001b[39mself\u001b[39m\u001b[39m.\u001b[39mopt_func: \u001b[39mself\u001b[39m\u001b[39m.\u001b[39mopt \u001b[39m=\u001b[39m \u001b[39mself\u001b[39m\u001b[39m.\u001b[39mopt_func(\u001b[39mself\u001b[39m\u001b[39m.\u001b[39mmodel\u001b[39m.\u001b[39mparameters(), lr)\n\u001b[0;32m---> 76\u001b[0m     \u001b[39mself\u001b[39;49m\u001b[39m.\u001b[39;49m_fit(train, valid)\n\u001b[1;32m     77\u001b[0m \u001b[39mfinally\u001b[39;00m:\n\u001b[1;32m     78\u001b[0m     \u001b[39mfor\u001b[39;00m cb \u001b[39min\u001b[39;00m cbs: \u001b[39mself\u001b[39m\u001b[39m.\u001b[39mcbs\u001b[39m.\u001b[39mremove(cb)\n",
      "File \u001b[0;32m~/pro/research/lssm/lssm/learner.py:26\u001b[0m, in \u001b[0;36mwith_cbs.__call__.<locals>._f\u001b[0;34m(o, *args, **kwargs)\u001b[0m\n\u001b[1;32m     24\u001b[0m \u001b[39mtry\u001b[39;00m:\n\u001b[1;32m     25\u001b[0m     o\u001b[39m.\u001b[39mcallback(\u001b[39mf\u001b[39m\u001b[39m'\u001b[39m\u001b[39mbefore_\u001b[39m\u001b[39m{\u001b[39;00m\u001b[39mself\u001b[39m\u001b[39m.\u001b[39mnm\u001b[39m}\u001b[39;00m\u001b[39m'\u001b[39m)\n\u001b[0;32m---> 26\u001b[0m     f(o, \u001b[39m*\u001b[39;49margs, \u001b[39m*\u001b[39;49m\u001b[39m*\u001b[39;49mkwargs)\n\u001b[1;32m     27\u001b[0m     o\u001b[39m.\u001b[39mcallback(\u001b[39mf\u001b[39m\u001b[39m'\u001b[39m\u001b[39mafter_\u001b[39m\u001b[39m{\u001b[39;00m\u001b[39mself\u001b[39m\u001b[39m.\u001b[39mnm\u001b[39m}\u001b[39;00m\u001b[39m'\u001b[39m)\n\u001b[1;32m     28\u001b[0m \u001b[39mexcept\u001b[39;00m \u001b[39mglobals\u001b[39m()[\u001b[39mf\u001b[39m\u001b[39m'\u001b[39m\u001b[39mCancel\u001b[39m\u001b[39m{\u001b[39;00m\u001b[39mself\u001b[39m\u001b[39m.\u001b[39mnm\u001b[39m.\u001b[39mtitle()\u001b[39m}\u001b[39;00m\u001b[39mException\u001b[39m\u001b[39m'\u001b[39m]: \u001b[39mpass\u001b[39;00m\n",
      "File \u001b[0;32m~/pro/research/lssm/lssm/learner.py:64\u001b[0m, in \u001b[0;36mLearner._fit\u001b[0;34m(self, train, valid)\u001b[0m\n\u001b[1;32m     61\u001b[0m \u001b[39m@with_cbs\u001b[39m(\u001b[39m'\u001b[39m\u001b[39mfit\u001b[39m\u001b[39m'\u001b[39m)\n\u001b[1;32m     62\u001b[0m \u001b[39mdef\u001b[39;00m \u001b[39m_fit\u001b[39m(\u001b[39mself\u001b[39m, train, valid):\n\u001b[1;32m     63\u001b[0m     \u001b[39mfor\u001b[39;00m \u001b[39mself\u001b[39m\u001b[39m.\u001b[39mepoch \u001b[39min\u001b[39;00m \u001b[39mself\u001b[39m\u001b[39m.\u001b[39mepochs:\n\u001b[0;32m---> 64\u001b[0m         \u001b[39mif\u001b[39;00m train: \u001b[39mself\u001b[39;49m\u001b[39m.\u001b[39;49mone_epoch(\u001b[39mTrue\u001b[39;49;00m)\n\u001b[1;32m     65\u001b[0m         \u001b[39mif\u001b[39;00m valid: torch\u001b[39m.\u001b[39mno_grad()(\u001b[39mself\u001b[39m\u001b[39m.\u001b[39mone_epoch)(\u001b[39mFalse\u001b[39;00m)\n",
      "File \u001b[0;32m~/pro/research/lssm/lssm/learner.py:59\u001b[0m, in \u001b[0;36mLearner.one_epoch\u001b[0;34m(self, training)\u001b[0m\n\u001b[1;32m     57\u001b[0m \u001b[39mself\u001b[39m\u001b[39m.\u001b[39mmodel\u001b[39m.\u001b[39mtrain(training)\n\u001b[1;32m     58\u001b[0m \u001b[39mself\u001b[39m\u001b[39m.\u001b[39mdl \u001b[39m=\u001b[39m \u001b[39mself\u001b[39m\u001b[39m.\u001b[39mdls\u001b[39m.\u001b[39mtrain \u001b[39mif\u001b[39;00m training \u001b[39melse\u001b[39;00m \u001b[39mself\u001b[39m\u001b[39m.\u001b[39mdls\u001b[39m.\u001b[39mvalid\n\u001b[0;32m---> 59\u001b[0m \u001b[39mself\u001b[39;49m\u001b[39m.\u001b[39;49m_one_epoch()\n",
      "File \u001b[0;32m~/pro/research/lssm/lssm/learner.py:27\u001b[0m, in \u001b[0;36mwith_cbs.__call__.<locals>._f\u001b[0;34m(o, *args, **kwargs)\u001b[0m\n\u001b[1;32m     25\u001b[0m     o\u001b[39m.\u001b[39mcallback(\u001b[39mf\u001b[39m\u001b[39m'\u001b[39m\u001b[39mbefore_\u001b[39m\u001b[39m{\u001b[39;00m\u001b[39mself\u001b[39m\u001b[39m.\u001b[39mnm\u001b[39m}\u001b[39;00m\u001b[39m'\u001b[39m)\n\u001b[1;32m     26\u001b[0m     f(o, \u001b[39m*\u001b[39margs, \u001b[39m*\u001b[39m\u001b[39m*\u001b[39mkwargs)\n\u001b[0;32m---> 27\u001b[0m     o\u001b[39m.\u001b[39;49mcallback(\u001b[39mf\u001b[39;49m\u001b[39m'\u001b[39;49m\u001b[39mafter_\u001b[39;49m\u001b[39m{\u001b[39;49;00m\u001b[39mself\u001b[39;49m\u001b[39m.\u001b[39;49mnm\u001b[39m}\u001b[39;49;00m\u001b[39m'\u001b[39;49m)\n\u001b[1;32m     28\u001b[0m \u001b[39mexcept\u001b[39;00m \u001b[39mglobals\u001b[39m()[\u001b[39mf\u001b[39m\u001b[39m'\u001b[39m\u001b[39mCancel\u001b[39m\u001b[39m{\u001b[39;00m\u001b[39mself\u001b[39m\u001b[39m.\u001b[39mnm\u001b[39m.\u001b[39mtitle()\u001b[39m}\u001b[39;00m\u001b[39mException\u001b[39m\u001b[39m'\u001b[39m]: \u001b[39mpass\u001b[39;00m\n\u001b[1;32m     29\u001b[0m \u001b[39mfinally\u001b[39;00m: o\u001b[39m.\u001b[39mcallback(\u001b[39mf\u001b[39m\u001b[39m'\u001b[39m\u001b[39mcleanup_\u001b[39m\u001b[39m{\u001b[39;00m\u001b[39mself\u001b[39m\u001b[39m.\u001b[39mnm\u001b[39m}\u001b[39;00m\u001b[39m'\u001b[39m)\n",
      "File \u001b[0;32m~/pro/research/lssm/lssm/learner.py:84\u001b[0m, in \u001b[0;36mLearner.callback\u001b[0;34m(self, method_nm)\u001b[0m\n\u001b[0;32m---> 84\u001b[0m \u001b[39mdef\u001b[39;00m \u001b[39mcallback\u001b[39m(\u001b[39mself\u001b[39m, method_nm): run_cbs(\u001b[39mself\u001b[39;49m\u001b[39m.\u001b[39;49mcbs, method_nm, \u001b[39mself\u001b[39;49m)\n",
      "File \u001b[0;32m~/pro/research/lssm/lssm/callbacks.py:45\u001b[0m, in \u001b[0;36mrun_cbs\u001b[0;34m(cbs, method_nm, learn)\u001b[0m\n\u001b[1;32m     43\u001b[0m \u001b[39mfor\u001b[39;00m cb \u001b[39min\u001b[39;00m \u001b[39msorted\u001b[39m(cbs, key\u001b[39m=\u001b[39mattrgetter(\u001b[39m'\u001b[39m\u001b[39morder\u001b[39m\u001b[39m'\u001b[39m)):\n\u001b[1;32m     44\u001b[0m     method \u001b[39m=\u001b[39m \u001b[39mgetattr\u001b[39m(cb, method_nm, \u001b[39mNone\u001b[39;00m)\n\u001b[0;32m---> 45\u001b[0m     \u001b[39mif\u001b[39;00m method \u001b[39mis\u001b[39;00m \u001b[39mnot\u001b[39;00m \u001b[39mNone\u001b[39;00m: method(learn)\n",
      "File \u001b[0;32m~/pro/research/lssm/lssm/callbacks.py:89\u001b[0m, in \u001b[0;36mMetricsCB.after_epoch\u001b[0;34m(self, learn)\u001b[0m\n\u001b[1;32m     87\u001b[0m log[\u001b[39m'\u001b[39m\u001b[39mepoch\u001b[39m\u001b[39m'\u001b[39m] \u001b[39m=\u001b[39m learn\u001b[39m.\u001b[39mepoch\n\u001b[1;32m     88\u001b[0m log[\u001b[39m'\u001b[39m\u001b[39mtrain\u001b[39m\u001b[39m'\u001b[39m] \u001b[39m=\u001b[39m \u001b[39m'\u001b[39m\u001b[39mtrain\u001b[39m\u001b[39m'\u001b[39m \u001b[39mif\u001b[39;00m learn\u001b[39m.\u001b[39mmodel\u001b[39m.\u001b[39mtraining \u001b[39melse\u001b[39;00m \u001b[39m'\u001b[39m\u001b[39meval\u001b[39m\u001b[39m'\u001b[39m\n\u001b[0;32m---> 89\u001b[0m \u001b[39mself\u001b[39;49m\u001b[39m.\u001b[39;49m_log(log)\n",
      "File \u001b[0;32m~/pro/research/lssm/lssm/callbacks.py:111\u001b[0m, in \u001b[0;36mProgressCB._log\u001b[0;34m(self, d)\u001b[0m\n\u001b[1;32m    109\u001b[0m     \u001b[39mself\u001b[39m\u001b[39m.\u001b[39mmbar\u001b[39m.\u001b[39mwrite(\u001b[39mlist\u001b[39m(d), table\u001b[39m=\u001b[39m\u001b[39mTrue\u001b[39;00m)\n\u001b[1;32m    110\u001b[0m     \u001b[39mself\u001b[39m\u001b[39m.\u001b[39mfirst \u001b[39m=\u001b[39m \u001b[39mFalse\u001b[39;00m\n\u001b[0;32m--> 111\u001b[0m \u001b[39mself\u001b[39;49m\u001b[39m.\u001b[39;49mmbar\u001b[39m.\u001b[39;49mwrite(\u001b[39mlist\u001b[39;49m(d\u001b[39m.\u001b[39;49mvalues()), table\u001b[39m=\u001b[39;49m\u001b[39mTrue\u001b[39;49;00m)\n",
      "File \u001b[0;32m~/mambaforge/envs/lssm/lib/python3.11/site-packages/fastprogress/fastprogress.py:291\u001b[0m, in \u001b[0;36mConsoleMasterBar.write\u001b[0;34m(self, line, table)\u001b[0m\n\u001b[1;32m    289\u001b[0m         text \u001b[39m=\u001b[39m \u001b[39m'\u001b[39m\u001b[39m  \u001b[39m\u001b[39m'\u001b[39m\u001b[39m.\u001b[39mjoin(\u001b[39mself\u001b[39m\u001b[39m.\u001b[39mnames)\n\u001b[1;32m    290\u001b[0m     \u001b[39melse\u001b[39;00m:\n\u001b[0;32m--> 291\u001b[0m         \u001b[39mfor\u001b[39;00m (t,name) \u001b[39min\u001b[39;00m \u001b[39mzip\u001b[39m(line,\u001b[39mself\u001b[39m\u001b[39m.\u001b[39mnames): text \u001b[39m+\u001b[39m\u001b[39m=\u001b[39m t \u001b[39m+\u001b[39m \u001b[39m'\u001b[39m\u001b[39m \u001b[39m\u001b[39m'\u001b[39m \u001b[39m*\u001b[39m (\u001b[39m2\u001b[39m \u001b[39m+\u001b[39m \u001b[39mlen\u001b[39m(name)\u001b[39m-\u001b[39m\u001b[39mlen\u001b[39m(t))\n\u001b[1;32m    292\u001b[0m     print_and_maybe_save(text)\n\u001b[1;32m    293\u001b[0m \u001b[39melse\u001b[39;00m: print_and_maybe_save(line)\n",
      "\u001b[0;31mTypeError\u001b[0m: object of type 'int' has no len()"
     ]
    }
   ],
   "source": [
    "learn.fit(epochs)"
   ]
  },
  {
   "cell_type": "code",
   "execution_count": 112,
   "metadata": {},
   "outputs": [
    {
     "data": {
      "text/plain": [
       "torch.Size([16, 1])"
      ]
     },
     "execution_count": 112,
     "metadata": {},
     "output_type": "execute_result"
    }
   ],
   "source": [
    "model(next(iter(dls.train))[0]).shape"
   ]
  },
  {
   "cell_type": "code",
   "execution_count": 142,
   "metadata": {},
   "outputs": [
    {
     "data": {
      "text/plain": [
       "torch.Size([16, 1, 1701])"
      ]
     },
     "execution_count": 142,
     "metadata": {},
     "output_type": "execute_result"
    }
   ],
   "source": [
    "next(iter(dls.train))[0].shape"
   ]
  },
  {
   "cell_type": "code",
   "execution_count": 3,
   "metadata": {},
   "outputs": [],
   "source": [
    "#| export\n",
    "class Hook():\n",
    "    def __init__(self, m, f): self.hook = m.register_forward_hook(partial(f, self))\n",
    "    def remove(self): self.hook.remove()\n",
    "    def __del__(self): self.remove()"
   ]
  },
  {
   "cell_type": "code",
   "execution_count": 7,
   "metadata": {},
   "outputs": [],
   "source": [
    "def fit(model, epochs=1, xtra_cbs=None):\n",
    "    learn = Learner(model, dls, loss_func=F.cross_entropy, lr=0.6, cbs=cbs+fc.L(xtra_cbs))\n",
    "    learn.fit(epochs)\n",
    "    return learn"
   ]
  },
  {
   "cell_type": "code",
   "execution_count": null,
   "metadata": {},
   "outputs": [],
   "source": []
  },
  {
   "cell_type": "code",
   "execution_count": 9,
   "metadata": {},
   "outputs": [],
   "source": [
    "def append_stats(hook, mod, inp, outp):\n",
    "    if not hasattr(hook,'stats'): hook.stats = ([],[])\n",
    "    acts = to_cpu(outp)\n",
    "    hook.stats[0].append(acts.mean())\n",
    "    hook.stats[1].append(acts.std())"
   ]
  },
  {
   "cell_type": "code",
   "execution_count": null,
   "metadata": {},
   "outputs": [],
   "source": []
  }
 ],
 "metadata": {
  "kernelspec": {
   "display_name": "python3",
   "language": "python",
   "name": "python3"
  },
  "language_info": {
   "codemirror_mode": {
    "name": "ipython",
    "version": 3
   },
   "file_extension": ".py",
   "mimetype": "text/x-python",
   "name": "python",
   "nbconvert_exporter": "python",
   "pygments_lexer": "ipython3",
   "version": "3.11.5"
  }
 },
 "nbformat": 4,
 "nbformat_minor": 4
}
